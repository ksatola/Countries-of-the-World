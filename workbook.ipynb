{
 "cells": [
  {
   "cell_type": "markdown",
   "metadata": {},
   "source": [
    "# Countries of the World\n",
    "\n",
    "By Krzysztof Satola from: [github.com/ksatola](https://github.com/ksatola).\n",
    "\n",
    "Based on CRISP-DM (Cross Industry Process for Data Mining)."
   ]
  },
  {
   "cell_type": "markdown",
   "metadata": {},
   "source": [
    "## Business Understanding (Gather)"
   ]
  },
  {
   "cell_type": "markdown",
   "metadata": {},
   "source": [
    "### Objectives\n",
    "\n",
    "In this notebook, I explore [Countries of the Worlds Kaggle dataset](https://www.kaggle.com/fernandol/countries-of-the-world) to answer the following questions:\n",
    "\n",
    "1. Wealthy vs. Poor Regions: What are the Differences?\n",
    "2. What Can We Do to Limit Infant Mortality?\n",
    "3. Machine Learning: What are the most significant predictors determining country's GDP per capita, the key indicator of economic development of any country?"
   ]
  },
  {
   "cell_type": "markdown",
   "metadata": {},
   "source": [
    "### Dataset Dictionary\n",
    "\n",
    "- **country** - country name\n",
    "- **region** - region name\n",
    "- **population** - number of people within country\n",
    "- **area** - country area in sq. mi.\n",
    "- **popdensity** - country population density per sq. mi.\n",
    "- **coast** - coastline (coast/area) ratio\n",
    "- **netmigr** - net migration. The net migration rate is the difference between the number of immigrants (people coming into an area) and the number of emigrants (people leaving an area) throughout the year. When the number of immigrants is larger than the number of emigrants, a `positive net migration rate` occurs. A positive net migration rates indicates that there are more people entering than leaving an area. When more emigrate from a country, the result is a `negative net migration rate`, meaning that more people are leaving than entering the area. When there is an equal number of immigrants and emigrants, the net migration rate is balanced ([source](https://en.wikipedia.org/wiki/Net_migration_rate)).\n",
    "- **infmortality** - infant mortality (per 1000 births)\n",
    "- **gdp** - Gross Domestic Product (GDP) in $ per capita. The value of all final goods and services produced within a nation in a given year (2013), converted at market exchange rates to current U.S. dollars, divided by the average population for the same year ([source](https://en.wikipedia.org/wiki/List_of_countries_by_GDP_(nominal)_per_capita)).\n",
    "- **literacy** - country literacy level in %\n",
    "- **phones** - number phones per 1000\n",
    "- **arable** - percent of arable areas\n",
    "- **crops** - percent of cropland used to grow food\n",
    "- **climate** - climate type\n",
    "- **birthrate** - the birth rate (technically, births/population rate), the total number of live births per 1,000 in a population in 2013 ([source](https://en.wikipedia.org/wiki/Birth_rate)).\n",
    "- **deathrate** - number of deaths per 1,000 individuals ([source](https://en.wikipedia.org/wiki/Mortality_rate)).\n",
    "- **agriculture** - percentage of GDP sector composition ratio for agriculture economy sector ([source](https://en.wikipedia.org/wiki/List_of_countries_by_GDP_sector_composition)). Agriculture % + Industry % + Service = 100% of GDP \n",
    "- **industry** - percentage of GDP sector composition ratio for industry economy sector\n",
    "- **service** - percentage of GDP sector composition ratio for service economy sector"
   ]
  },
  {
   "cell_type": "markdown",
   "metadata": {},
   "source": [
    "## Data Understanding (Assess)"
   ]
  },
  {
   "cell_type": "code",
   "execution_count": null,
   "metadata": {},
   "outputs": [],
   "source": [
    "# Import required libraries\n",
    "import numpy as np\n",
    "import pandas as pd\n",
    "from scipy import stats\n",
    "\n",
    "import matplotlib.pyplot as plt\n",
    "import seaborn as sns\n",
    "import math\n",
    "\n",
    "import pyarrow\n",
    "\n",
    "%matplotlib inline\n",
    "\n",
    "import plotly.plotly as py\n",
    "from plotly.offline import init_notebook_mode, iplot\n",
    "import plotly.graph_objs as go\n",
    "init_notebook_mode(connected=True)\n",
    "\n",
    "from sklearn import preprocessing\n",
    "from sklearn.model_selection import train_test_split\n",
    "from sklearn.metrics import mean_squared_error\n",
    "from sklearn.linear_model import LinearRegression\n",
    "from sklearn.metrics import explained_variance_score\n",
    "\n",
    "import xgboost as xgb\n",
    "\n",
    "from pickle import dump\n",
    "from pickle import load\n",
    "\n",
    "# Random state\n",
    "rstate = 123\n",
    "\n",
    "pd.options.display.float_format = '{:20.2f}'.format"
   ]
  },
  {
   "cell_type": "code",
   "execution_count": null,
   "metadata": {},
   "outputs": [],
   "source": [
    "%load_ext version_information"
   ]
  },
  {
   "cell_type": "code",
   "execution_count": null,
   "metadata": {},
   "outputs": [],
   "source": [
    "# Document versions of used libraries\n",
    "%version_information numpy, pandas, matplotlib, seaborn"
   ]
  },
  {
   "cell_type": "code",
   "execution_count": null,
   "metadata": {},
   "outputs": [],
   "source": [
    "# Load data from a CSV file\n",
    "df = pd.read_csv('./data/countries of the world.csv', decimal=',')"
   ]
  },
  {
   "cell_type": "code",
   "execution_count": null,
   "metadata": {},
   "outputs": [],
   "source": [
    "# Initial look into the dataset\n",
    "df.head().T"
   ]
  },
  {
   "cell_type": "code",
   "execution_count": null,
   "metadata": {},
   "outputs": [],
   "source": [
    "df.tail().T"
   ]
  },
  {
   "cell_type": "code",
   "execution_count": null,
   "metadata": {},
   "outputs": [],
   "source": [
    "df.sample(5, random_state=rstate).T"
   ]
  },
  {
   "cell_type": "code",
   "execution_count": null,
   "metadata": {},
   "outputs": [],
   "source": [
    "# Dataset size\n",
    "df.shape"
   ]
  },
  {
   "cell_type": "markdown",
   "metadata": {},
   "source": [
    "## Data Preparation (Clean)"
   ]
  },
  {
   "cell_type": "code",
   "execution_count": null,
   "metadata": {},
   "outputs": [],
   "source": [
    "# Variables\n",
    "df.columns"
   ]
  },
  {
   "cell_type": "code",
   "execution_count": null,
   "metadata": {},
   "outputs": [],
   "source": [
    "# Naming convention, simplify column names and build a dataset dictionary (see above)\n",
    "df.rename(columns={\"Country\":\"country\", \n",
    "                  \"Region\":\"region\", \n",
    "                  \"Population\":\"population\", \n",
    "                  \"Area (sq. mi.)\":\"area\", \n",
    "                  \"Pop. Density (per sq. mi.)\":\"popdensity\", \n",
    "                  \"Coastline (coast/area ratio)\":\"coast\", \n",
    "                  \"Net migration\":\"netmigr\", \n",
    "                  \"Infant mortality (per 1000 births)\":\"infmortality\", \n",
    "                  \"GDP ($ per capita)\":\"gdp\", \n",
    "                  \"Literacy (%)\":\"literacy\", \n",
    "                  \"Phones (per 1000)\":\"phones\", \n",
    "                  \"Arable (%)\":\"arable\", \n",
    "                  \"Crops (%)\":\"crops\", \n",
    "                  \"Other (%)\":\"other\", \n",
    "                  \"Climate\":\"climate\", \n",
    "                  \"Birthrate\":\"birthrate\", \n",
    "                  \"Deathrate\":\"deathrate\", \n",
    "                  \"Agriculture\":\"agriculture\", \n",
    "                  \"Industry\":\"industry\", \n",
    "                  \"Service\":\"service\"}, inplace=True)"
   ]
  },
  {
   "cell_type": "code",
   "execution_count": null,
   "metadata": {},
   "outputs": [],
   "source": [
    "df.columns"
   ]
  },
  {
   "cell_type": "code",
   "execution_count": null,
   "metadata": {},
   "outputs": [],
   "source": [
    "# Examplary country data\n",
    "df.iloc[163]"
   ]
  },
  {
   "cell_type": "code",
   "execution_count": null,
   "metadata": {},
   "outputs": [],
   "source": [
    "# Is there duplicated data in the dataset?\n",
    "df.duplicated().mean()"
   ]
  },
  {
   "cell_type": "code",
   "execution_count": null,
   "metadata": {},
   "outputs": [],
   "source": [
    "# Country name can be treated as an unique identifier (no duplicated rows)\n",
    "df.country.value_counts().mean()"
   ]
  },
  {
   "cell_type": "code",
   "execution_count": null,
   "metadata": {},
   "outputs": [],
   "source": [
    "# What are the dataset column data types?\n",
    "df.info()"
   ]
  },
  {
   "cell_type": "code",
   "execution_count": null,
   "metadata": {},
   "outputs": [],
   "source": [
    "# What are climate categories?\n",
    "df.climate.value_counts()"
   ]
  },
  {
   "cell_type": "code",
   "execution_count": null,
   "metadata": {},
   "outputs": [],
   "source": [
    "# Make the strings and climate categorical\n",
    "df.country = df.country.astype('category')\n",
    "df.region = df.region.astype('category')\n",
    "df.climate = df.climate.astype('category')\n",
    "\n",
    "df.population = df.population.astype('float64')\n",
    "df.area = df.area.astype('float64')\n",
    "\n",
    "# Remove blank spaces from region and country column values\n",
    "df.region = df.region.str.strip()\n",
    "df.country = df.country.str.strip()"
   ]
  },
  {
   "cell_type": "code",
   "execution_count": null,
   "metadata": {},
   "outputs": [],
   "source": [
    "# Remove 'other' column as it is not clear what it represents\n",
    "df.drop('other', axis=1, inplace=True)"
   ]
  },
  {
   "cell_type": "code",
   "execution_count": null,
   "metadata": {},
   "outputs": [],
   "source": [
    "# Check\n",
    "df.info()"
   ]
  },
  {
   "cell_type": "code",
   "execution_count": null,
   "metadata": {},
   "outputs": [],
   "source": [
    "df.describe().T"
   ]
  },
  {
   "cell_type": "code",
   "execution_count": null,
   "metadata": {},
   "outputs": [],
   "source": [
    "# What are the columns with missing values?\n",
    "df.columns[np.sum(df.isnull()) != 0]"
   ]
  },
  {
   "cell_type": "code",
   "execution_count": null,
   "metadata": {},
   "outputs": [],
   "source": [
    "# Number of missing values by variable\n",
    "df.isnull().sum()"
   ]
  },
  {
   "cell_type": "code",
   "execution_count": null,
   "metadata": {},
   "outputs": [],
   "source": [
    "# Missing data\n",
    "total = df.isnull().sum().sort_values(ascending=False)\n",
    "percent = (df.isnull().sum()/df.isnull().count()).sort_values(ascending=False)\n",
    "missing_data = pd.concat([total, percent], axis=1, keys=['Total', 'Percent'])\n",
    "missing_data"
   ]
  },
  {
   "cell_type": "code",
   "execution_count": null,
   "metadata": {},
   "outputs": [],
   "source": [
    "# The number of columns with more than 10% of the column missing\n",
    "np.sum(np.sum(df.isnull())/df.shape[0] > .10)"
   ]
  },
  {
   "cell_type": "code",
   "execution_count": null,
   "metadata": {},
   "outputs": [],
   "source": [
    "# netmigr\n",
    "df[df.netmigr.isnull()]"
   ]
  },
  {
   "cell_type": "code",
   "execution_count": null,
   "metadata": {},
   "outputs": [],
   "source": [
    "# Data imputation from: https://www.indexmundi.com/g/g.aspx?c=wf&v=27\n",
    "df.loc[df.country == 'Cook Islands', 'netmigr'] = -0.99\n",
    "df.loc[df.country == 'Wallis and Futuna', 'netmigr'] = -5.42\n",
    "df.loc[df.country == 'Western Sahara', 'netmigr'] = -6.05"
   ]
  },
  {
   "cell_type": "code",
   "execution_count": null,
   "metadata": {},
   "outputs": [],
   "source": [
    "df[df.netmigr.isnull()]"
   ]
  },
  {
   "cell_type": "code",
   "execution_count": null,
   "metadata": {},
   "outputs": [],
   "source": [
    "# netmigr\n",
    "df[df.infmortality.isnull()]"
   ]
  },
  {
   "cell_type": "code",
   "execution_count": null,
   "metadata": {},
   "outputs": [],
   "source": [
    "# Data imputation from: https://www.indexmundi.com/g/g.aspx?c=wf&v=27\n",
    "df.loc[df.country == 'Cook Islands', 'infmortality'] = 14.81\n",
    "df.loc[df.country == 'Wallis and Futuna', 'infmortality'] = 4.55\n",
    "df.loc[df.country == 'Western Sahara', 'infmortality'] = 57.5"
   ]
  },
  {
   "cell_type": "code",
   "execution_count": null,
   "metadata": {},
   "outputs": [],
   "source": [
    "df[df.infmortality.isnull()]"
   ]
  },
  {
   "cell_type": "code",
   "execution_count": null,
   "metadata": {},
   "outputs": [],
   "source": [
    "# gdp\n",
    "df[df.gdp.isnull()]"
   ]
  },
  {
   "cell_type": "code",
   "execution_count": null,
   "metadata": {},
   "outputs": [],
   "source": [
    "# Data imputation from: https://www.indexmundi.com/g/g.aspx?c=wf&v=27\n",
    "df.loc[df.country == 'Western Sahara', 'gdp'] = 2500"
   ]
  },
  {
   "cell_type": "code",
   "execution_count": null,
   "metadata": {},
   "outputs": [],
   "source": [
    "df[df.gdp.isnull()]"
   ]
  },
  {
   "cell_type": "code",
   "execution_count": null,
   "metadata": {},
   "outputs": [],
   "source": [
    "# literacy\n",
    "df[df.literacy.isnull()]"
   ]
  },
  {
   "cell_type": "code",
   "execution_count": null,
   "metadata": {},
   "outputs": [],
   "source": [
    "# Data imputation from: https://www.indexmundi.com/g/g.aspx?c=wf&v=27\n",
    "df.loc[df.country == 'Bosnia & Herzegovina', 'literacy'] = 98\n",
    "df.loc[df.country == 'Faroe Islands', 'literacy'] = np.nan\n",
    "df.loc[df.country == 'Gaza Strip', 'literacy'] = 95.3\n",
    "df.loc[df.country == 'Gibraltar', 'literacy'] = np.nan\n",
    "df.loc[df.country == 'Greenland', 'literacy'] = 100\n",
    "df.loc[df.country == 'Guernsey', 'literacy'] = np.nan\n",
    "df.loc[df.country == 'Isle of Man', 'literacy'] = np.nan\n",
    "df.loc[df.country == 'Jersey', 'literacy'] = np.nan\n",
    "df.loc[df.country == 'Kiribati', 'literacy'] = np.nan\n",
    "df.loc[df.country == 'Macedonia', 'literacy'] = 97.4\n",
    "df.loc[df.country == 'Mayotte', 'literacy'] = np.nan\n",
    "df.loc[df.country == 'Nauru', 'literacy'] = np.nan\n",
    "df.loc[df.country == 'Slovakia', 'literacy'] = 99.6\n",
    "df.loc[df.country == 'Solomon Islands', 'literacy'] = 84.1\n",
    "df.loc[df.country == 'Tuvalu', 'literacy'] = 56\n",
    "df.loc[df.country == 'Virgin Islands', 'literacy'] = np.nan\n",
    "df.loc[df.country == 'West Bank', 'literacy'] = 95.3\n",
    "df.loc[df.country == 'Western Sahara', 'literacy'] = np.nan"
   ]
  },
  {
   "cell_type": "code",
   "execution_count": null,
   "metadata": {},
   "outputs": [],
   "source": [
    "# literacy\n",
    "df[df.literacy.isnull()]"
   ]
  },
  {
   "cell_type": "markdown",
   "metadata": {},
   "source": [
    "The rest missing data is taken care of after region2 columns is created (see below)"
   ]
  },
  {
   "cell_type": "code",
   "execution_count": null,
   "metadata": {},
   "outputs": [],
   "source": [
    "# What regions do we have?\n",
    "count_countries_per_region = df.region.value_counts()\n",
    "count_countries_per_region"
   ]
  },
  {
   "cell_type": "code",
   "execution_count": null,
   "metadata": {},
   "outputs": [],
   "source": [
    "# Which regions are there, how many countries that fall into them, \n",
    "# what is their population and their total area?\n",
    "#df.groupby(['region']).mean()[['population', 'area']]\n",
    "df.groupby(['region']).agg({'country':'count', 'population':'sum', 'area':'sum'})"
   ]
  },
  {
   "cell_type": "code",
   "execution_count": null,
   "metadata": {},
   "outputs": [],
   "source": [
    "# Show countries data by region\n",
    "\n",
    "#df_by_region = df.set_index(['region', 'country']).sort_index()\n",
    "#df_by_region.xs('ASIA (EX. NEAR EAST)')\n",
    "#df_by_region.loc['OCEANIA', :] \n",
    "\n",
    "#df[df.region == 'ASIA (EX. NEAR EAST)']\n",
    "\n",
    "df.query(\"region == 'ASIA (EX. NEAR EAST)' and gdp > 2500\")"
   ]
  },
  {
   "cell_type": "code",
   "execution_count": null,
   "metadata": {},
   "outputs": [],
   "source": [
    "# Proportion of countries per region\n",
    "(count_countries_per_region/df.shape[0]).plot(kind=\"bar\", figsize=(12,8));\n",
    "plt.title('Proportion of Number of Countries per Region')\n",
    "plt.xlabel('Percent of Countries')\n",
    "plt.ylabel('Region')\n",
    "plt.show();"
   ]
  },
  {
   "cell_type": "code",
   "execution_count": null,
   "metadata": {},
   "outputs": [],
   "source": [
    "# GDP per region\n",
    "df.boxplot(column='gdp', by='region', figsize=(12,8));\n",
    "plt.xticks(rotation=90);\n",
    "plt.title('')\n",
    "plt.xlabel('Regions')\n",
    "plt.ylabel('GDP in $ per capita')\n",
    "plt.show();"
   ]
  },
  {
   "cell_type": "code",
   "execution_count": null,
   "metadata": {},
   "outputs": [],
   "source": [
    "# What countries belong to the NEAR EAST region?\n",
    "df[df.region == \"NEAR EAST\"][['country']].sort_values(by=['country'], ascending=True)"
   ]
  },
  {
   "cell_type": "code",
   "execution_count": null,
   "metadata": {},
   "outputs": [],
   "source": [
    "# What countries belong to the C.W. OF IND. STATES region?\n",
    "df[df.region == \"C.W. OF IND. STATES\"][['country']].sort_values(by=['country'], ascending=True)"
   ]
  },
  {
   "cell_type": "markdown",
   "metadata": {},
   "source": [
    "To simplify, combine regions close to each other geographically and in terms of their GDP\n",
    "- Europe: WESTERN EUROPE + EASTERN EUROPE + BALTICS  + C.W. OF IND. STATES (Belarus, Moldova, Ukraine)\n",
    "- Africa: SUB-SAHARAN AFRICA + NORTHERN AFRICA\n",
    "- Latin America and the Caribbean: LATIN AMER. & CARIB\n",
    "- Northern America: NORTHERN AMERICA\n",
    "- Asia: ASIA (EX. NEAR EAST) + C.W. OF IND. STATES (Armenia, Azarbaijan, Georgia, Kazakhstan, Kyrgyzstan, Russia, Tajikistan, Turkmenistan, Uzbekistan)\n",
    "- Oceania: OCEANIA\n",
    "- Middle East: NEAR EAST"
   ]
  },
  {
   "cell_type": "code",
   "execution_count": null,
   "metadata": {},
   "outputs": [],
   "source": [
    "df.loc[df.country == 'Ukraine', 'region2'] = 'Europe'"
   ]
  },
  {
   "cell_type": "code",
   "execution_count": null,
   "metadata": {},
   "outputs": [],
   "source": [
    "df[df.country == 'Ukraine']"
   ]
  },
  {
   "cell_type": "code",
   "execution_count": null,
   "metadata": {},
   "outputs": [],
   "source": [
    "# Remap new region definition to a new region2 column\n",
    "mask = df.region == 'SUB-SAHARAN AFRICA'\n",
    "df.loc[mask, 'region2'] = 'Africa'\n",
    "mask = df.region == 'NORTHERN AFRICA'\n",
    "df.loc[mask, 'region2'] = 'Africa'\n",
    "\n",
    "mask = df.region == 'LATIN AMER. & CARIB'\n",
    "df.loc[mask, 'region2'] = 'Latin America and the Caribbean'\n",
    "\n",
    "mask = df.region == 'NORTHERN AMERICA'\n",
    "df.loc[mask, 'region2'] = 'Northern America'\n",
    "\n",
    "mask = df.region == 'ASIA (EX. NEAR EAST)'\n",
    "df.loc[mask, 'region2'] = 'Asia'\n",
    "mask = df.region == 'C.W. OF IND. STATES'\n",
    "df.loc[mask, 'region2'] = 'Asia'\n",
    "\n",
    "mask = df.region == 'OCEANIA'\n",
    "df.loc[mask, 'region2'] = 'Oceania'\n",
    "\n",
    "mask = df.region == 'NEAR EAST'\n",
    "df.loc[mask, 'region2'] = 'Middle East'\n",
    "\n",
    "mask = df.region == 'WESTERN EUROPE'\n",
    "df.loc[mask, 'region2'] = 'Europe'\n",
    "mask = df.region == 'EASTERN EUROPE'\n",
    "df.loc[mask, 'region2'] = 'Europe'\n",
    "mask = df.region == 'BALTICS'\n",
    "df.loc[mask, 'region2'] = 'Europe'\n",
    "df.loc[df.country == 'Belarus', 'region2'] = 'Europe'\n",
    "df.loc[df.country == 'Moldova', 'region2'] = 'Europe'\n",
    "df.loc[df.country == 'Ukraine', 'region2'] = 'Europe'"
   ]
  },
  {
   "cell_type": "code",
   "execution_count": null,
   "metadata": {},
   "outputs": [],
   "source": [
    "df.sample(10, random_state=rstate).T"
   ]
  },
  {
   "cell_type": "code",
   "execution_count": null,
   "metadata": {},
   "outputs": [],
   "source": [
    "# Check: What countries belong to the European region?\n",
    "df[df.region2 == \"Europe\"][['country']].sort_values(by=['country'], ascending=True)"
   ]
  },
  {
   "cell_type": "code",
   "execution_count": null,
   "metadata": {},
   "outputs": [],
   "source": [
    "# GDPs per region2\n",
    "df.boxplot(column='gdp', by='region2', figsize=(12,8));\n",
    "plt.xticks(rotation=90);\n",
    "plt.title('')\n",
    "plt.xlabel('Regions2')\n",
    "plt.ylabel('GDP in $ per capita')\n",
    "plt.show();"
   ]
  },
  {
   "cell_type": "code",
   "execution_count": null,
   "metadata": {},
   "outputs": [],
   "source": [
    "# New regions by number of countries\n",
    "df.groupby(['region2']).agg({'country':'count', 'population':'sum', 'area':'sum'}).sort_values(by=['country'], ascending=False)"
   ]
  },
  {
   "cell_type": "code",
   "execution_count": null,
   "metadata": {},
   "outputs": [],
   "source": [
    "# Find out more about outliers\n",
    "gpd_per_country_africa = df[df.region2 == \"Africa\"][['country', 'gdp']].sort_values(by=['gdp'], ascending=False)\n",
    "gpd_per_country_africa[gpd_per_country_africa.gdp > 3000]"
   ]
  },
  {
   "cell_type": "code",
   "execution_count": null,
   "metadata": {},
   "outputs": [],
   "source": [
    "gpd_per_country_eur = df[df.region2 == \"Europe\"][['country', 'gdp']].sort_values(by=['gdp'], ascending=False)\n",
    "gpd_per_country_eur.head(2)"
   ]
  },
  {
   "cell_type": "code",
   "execution_count": null,
   "metadata": {},
   "outputs": [],
   "source": [
    "gpd_per_country_latin = df[df.region2 == \"Latin America and the Caribbean\"][['country', 'gdp']].sort_values(by=['gdp'], ascending=False)\n",
    "gpd_per_country_latin.head(3)"
   ]
  },
  {
   "cell_type": "code",
   "execution_count": null,
   "metadata": {},
   "outputs": [],
   "source": [
    "gpd_per_country_asia = df[df.region2 == \"Asia\"][['country', 'gdp']].sort_values(by=['gdp'], ascending=False)\n",
    "gpd_per_country_asia[gpd_per_country_asia.gdp > 10000]"
   ]
  },
  {
   "cell_type": "code",
   "execution_count": null,
   "metadata": {},
   "outputs": [],
   "source": [
    "gpd_per_country_oceania = df[df.region2 == \"Oceania\"][['country', 'gdp']].sort_values(by=['gdp'], ascending=False)\n",
    "gpd_per_country_oceania.head(2)"
   ]
  },
  {
   "cell_type": "code",
   "execution_count": null,
   "metadata": {},
   "outputs": [],
   "source": [
    "# GDP in $ per Capita per Country in Europe\n",
    "gpd_per_country_eur.plot(x='country', y='gdp', kind=\"bar\", figsize=(12,8));\n",
    "plt.title('GDP in $ per Capita per Country in Europe')\n",
    "plt.xlabel('Country')\n",
    "plt.ylabel('GDP in $ per Capita')\n",
    "plt.show();"
   ]
  },
  {
   "cell_type": "markdown",
   "metadata": {},
   "source": [
    "Continue on missing values handling..."
   ]
  },
  {
   "cell_type": "code",
   "execution_count": null,
   "metadata": {},
   "outputs": [],
   "source": [
    "# Count mean European literacy\n",
    "mean_eur = df[df.region2 == 'Europe']['literacy'].mean()\n",
    "mean_eur"
   ]
  },
  {
   "cell_type": "code",
   "execution_count": null,
   "metadata": {},
   "outputs": [],
   "source": [
    "def impute_literacy_for_region2(df, name='Europe', mean=0):\n",
    "    \"\"\"Impute NaN literacy values for a region with a mean.\n",
    "\n",
    "    Keyword arguments:\n",
    "    df -- Pandas DataFrame\n",
    "    name -- region column name\n",
    "    mean -- mean value to be imputed\n",
    "    \"\"\"\n",
    "    df['literacy'] = df.apply(\n",
    "        lambda row: mean if np.isnan(row['literacy']) and row['region2'] == name else row['literacy'], \n",
    "        axis=1\n",
    "    )\n",
    "    \n",
    "#impute_literacy_for_region2(df, name='Europe', mean=mean_eur)"
   ]
  },
  {
   "cell_type": "code",
   "execution_count": null,
   "metadata": {},
   "outputs": [],
   "source": [
    "# Impute European's mean to the European countries with NaN literacy\n",
    "region = 'Europe'\n",
    "mean_eur = df[df.region2 == region]['literacy'].mean()\n",
    "impute_literacy_for_region2(df, name=region, mean=mean_eur)"
   ]
  },
  {
   "cell_type": "code",
   "execution_count": null,
   "metadata": {},
   "outputs": [],
   "source": [
    "region = 'Oceania'\n",
    "mean_oce = df[df.region2 == region]['literacy'].mean()\n",
    "impute_literacy_for_region2(df, name=region, mean=mean_oce)"
   ]
  },
  {
   "cell_type": "code",
   "execution_count": null,
   "metadata": {},
   "outputs": [],
   "source": [
    "region = 'Africa'\n",
    "mean_afr = df[df.region2 == region]['literacy'].mean()\n",
    "impute_literacy_for_region2(df, name=region, mean=mean_afr)"
   ]
  },
  {
   "cell_type": "code",
   "execution_count": null,
   "metadata": {},
   "outputs": [],
   "source": [
    "region = 'Latin America and the Caribbean'\n",
    "mean_lat = df[df.region2 == region]['literacy'].mean()\n",
    "impute_literacy_for_region2(df, name=region, mean=mean_lat)"
   ]
  },
  {
   "cell_type": "code",
   "execution_count": null,
   "metadata": {},
   "outputs": [],
   "source": [
    "df[df.country == \"Gibraltar\"]"
   ]
  },
  {
   "cell_type": "code",
   "execution_count": null,
   "metadata": {},
   "outputs": [],
   "source": [
    "df[df['region2'] == 'Europe'][['country', 'literacy']].sort_values(by=['literacy'], ascending=True).head(5)"
   ]
  },
  {
   "cell_type": "code",
   "execution_count": null,
   "metadata": {},
   "outputs": [],
   "source": [
    "# Fill all remaining Nan values with mean of columns\n",
    "df.fillna(df.mean(), inplace=True)"
   ]
  },
  {
   "cell_type": "code",
   "execution_count": null,
   "metadata": {},
   "outputs": [],
   "source": [
    "# Remove 'climate' column as it is not clear how it is setup and its variability is low\n",
    "df.drop('climate', axis=1, inplace=True)"
   ]
  },
  {
   "cell_type": "code",
   "execution_count": null,
   "metadata": {},
   "outputs": [],
   "source": [
    "# Missing data\n",
    "total = df.isnull().sum().sort_values(ascending=False)\n",
    "percent = (df.isnull().sum()/df.isnull().count()).sort_values(ascending=False)\n",
    "missing_data = pd.concat([total, percent], axis=1, keys=['Total', 'Percent'])\n",
    "missing_data"
   ]
  },
  {
   "cell_type": "code",
   "execution_count": null,
   "metadata": {},
   "outputs": [],
   "source": [
    "# Save clean dataset\n",
    "df.to_parquet('./data/countries of the world clean.parquet')"
   ]
  },
  {
   "cell_type": "code",
   "execution_count": null,
   "metadata": {},
   "outputs": [],
   "source": [
    "# Load clean dataset\n",
    "df = pd.read_parquet('./data/countries of the world clean.parquet', engine='pyarrow')"
   ]
  },
  {
   "cell_type": "code",
   "execution_count": null,
   "metadata": {},
   "outputs": [],
   "source": [
    "df.head().T"
   ]
  },
  {
   "cell_type": "markdown",
   "metadata": {},
   "source": [
    "### Notes\n",
    "\n",
    "1. The dataset has 20 variables and 227 observations (one per each country).\n",
    "2. The dataset column names were standardized and their meaning described in the dataset dictionary.\n",
    "3. There were no duplicated observations in the dataset.\n",
    "4. The dataset column types were corrected. The quantitative values used colons insted of periods. This was corrected during dataset load.\n",
    "5. Missing values were imputed (manually and with mean).\n",
    "6. 2 columns were removed (other - not very meaningful name, climate - for too many missing values).\n",
    "7. For the analysis, 7 regions have been selected based on the standard geographical regions."
   ]
  },
  {
   "cell_type": "code",
   "execution_count": null,
   "metadata": {},
   "outputs": [],
   "source": []
  },
  {
   "cell_type": "markdown",
   "metadata": {},
   "source": [
    "## Data Modeling (Model)\n",
    "\n",
    "This section's outcomes are used to build a model for predicting a GDP of a country based on world data set attributes."
   ]
  },
  {
   "cell_type": "code",
   "execution_count": null,
   "metadata": {},
   "outputs": [],
   "source": [
    "# How world data attributes are correlated?\n",
    "fig, ax = plt.subplots(figsize=(14, 14))\n",
    "sns.heatmap(df.corr(), annot=True, fmt=\".2f\")\n",
    "plt.show();"
   ]
  },
  {
   "cell_type": "code",
   "execution_count": null,
   "metadata": {},
   "outputs": [],
   "source": [
    "df.head(10).T"
   ]
  },
  {
   "cell_type": "code",
   "execution_count": null,
   "metadata": {},
   "outputs": [],
   "source": [
    "# Select numerical features\n",
    "df_num = df.select_dtypes(include = ['float64'])\n",
    "df_num.head()"
   ]
  },
  {
   "cell_type": "code",
   "execution_count": null,
   "metadata": {},
   "outputs": [],
   "source": [
    "df_num.describe()"
   ]
  },
  {
   "cell_type": "code",
   "execution_count": null,
   "metadata": {},
   "outputs": [],
   "source": [
    "# Reveal some details about the numerical features\n",
    "n = len(df_num)\n",
    "for column in df_num:\n",
    "    \n",
    "    n_unique = len(df_num[column].unique())\n",
    "    print('Feature: {}'.format(column))\n",
    "    print('Enique values count: {}'.format(n_unique))\n",
    "    print('Unique values ratio: {}'.format(n_unique / n))\n",
    "    print('Missing values ratio: {}'.format(df_num[column].isnull().sum() / n))\n",
    "    print('Median: {}'.format(df_num[column].median()))\n",
    "    print('------------------------------------')\n",
    "    \n",
    "    print()"
   ]
  },
  {
   "cell_type": "code",
   "execution_count": null,
   "metadata": {},
   "outputs": [],
   "source": [
    "# Select categorical features\n",
    "df_cat = df[list(set(df.columns) - set(df_num.columns))]\n",
    "df_cat.head()"
   ]
  },
  {
   "cell_type": "code",
   "execution_count": null,
   "metadata": {},
   "outputs": [],
   "source": [
    "# Reveal some information about categorical features\n",
    "#feature_unique_values = {}\n",
    "n = len(df_cat)\n",
    "for column in df_cat:\n",
    "    n_unique = len(df_cat[column].unique())\n",
    "    #feature_unique_values[column] = n_unique\n",
    "    print('---------------------')\n",
    "    print('Feature name: {}'.format(column))\n",
    "    print('Unique values count (including NaN): {}'.format(n_unique))\n",
    "    if n_unique <= 5:\n",
    "        print('Most frequent values:')\n",
    "        print(df_cat.groupby(column).size())\n",
    "    print('Variability ratio: {}'.format(n_unique / n))\n",
    "    print('Values count (not null): {}'.format(df_cat[column].notnull().sum()))\n",
    "    print('Values count (null): {}'.format(df_cat[column].isnull().sum()))\n",
    "    print('Missing values ratio: {}'.format(df_cat[column].isnull().sum() / n))\n",
    "    print()"
   ]
  },
  {
   "cell_type": "code",
   "execution_count": null,
   "metadata": {},
   "outputs": [],
   "source": [
    "# Remove country and region2 from the prediction input\n",
    "X = df.copy()\n",
    "X.drop(columns=['country', 'region2'], inplace=True)"
   ]
  },
  {
   "cell_type": "code",
   "execution_count": null,
   "metadata": {},
   "outputs": [],
   "source": [
    "# One-hot-encoding\n",
    "X = pd.get_dummies(X, columns=['region'])"
   ]
  },
  {
   "cell_type": "code",
   "execution_count": null,
   "metadata": {},
   "outputs": [],
   "source": [
    "X.head(5)"
   ]
  },
  {
   "cell_type": "code",
   "execution_count": null,
   "metadata": {},
   "outputs": [],
   "source": [
    "# Data scaling\n",
    "# Rescale data between 0 and 1\n",
    "x = X.values #returns a numpy array\n",
    "x"
   ]
  },
  {
   "cell_type": "code",
   "execution_count": null,
   "metadata": {},
   "outputs": [],
   "source": [
    "scaler = preprocessing.MinMaxScaler()\n",
    "x_scaled = scaler.fit_transform(x)\n",
    "cols = X.columns\n",
    "X = pd.DataFrame(x_scaled, columns=cols)\n",
    "X.head(10).T"
   ]
  },
  {
   "cell_type": "code",
   "execution_count": null,
   "metadata": {},
   "outputs": [],
   "source": [
    "# What is the relationship between variables - linear or not.\n",
    "\n",
    "# Identify correlations between numeric features\n",
    "def correlated_columns_to_drop(df, min_corr_level=0.95):\n",
    "    \"\"\"Identify columns with a minimum correlation level to be removed from modeling.\n",
    "\n",
    "    Keyword arguments:\n",
    "    df -- Pandas DataFrame\n",
    "    min_corr_level -- user-defined cut-off correlation level\n",
    "    \"\"\"\n",
    "\n",
    "    # Create correlation matrix\n",
    "    corr_matrix = df.corr().abs()\n",
    "\n",
    "    # Select upper triangle of correlation matrix\n",
    "    upper = corr_matrix.where(np.triu(np.ones(corr_matrix.shape), k=1).astype(np.bool))\n",
    "\n",
    "    # Find index of feature columns with correlation greater than min_corr_level\n",
    "    to_drop = [column for column in upper.columns if any(upper[column] > min_corr_level)]\n",
    "\n",
    "    return to_drop"
   ]
  },
  {
   "cell_type": "code",
   "execution_count": null,
   "metadata": {},
   "outputs": [],
   "source": [
    "columns_to_drop = correlated_columns_to_drop(X, 0.95)"
   ]
  },
  {
   "cell_type": "code",
   "execution_count": null,
   "metadata": {},
   "outputs": [],
   "source": [
    "columns_to_drop"
   ]
  },
  {
   "cell_type": "code",
   "execution_count": null,
   "metadata": {},
   "outputs": [],
   "source": [
    "# Save clean dataset\n",
    "X.to_parquet('./data/countries of the world ready for modeling.parquet')"
   ]
  },
  {
   "cell_type": "code",
   "execution_count": null,
   "metadata": {},
   "outputs": [],
   "source": [
    "# Load clean dataset\n",
    "X = pd.read_parquet('./data/countries of the world ready for modeling.parquet', engine='pyarrow')"
   ]
  },
  {
   "cell_type": "code",
   "execution_count": null,
   "metadata": {},
   "outputs": [],
   "source": [
    "X.head(10)"
   ]
  },
  {
   "cell_type": "markdown",
   "metadata": {},
   "source": [
    "### Notes\n",
    "\n",
    "1. The numerical features have different ranges and should be scaled.\n",
    "2. The country variable should not be used in the prediction as it has unique values across the dataset.\n",
    "3. The region categorical variable will be used as it is originally present in the dataset. The region2 variable will be ommited in predictive modeling.\n",
    "4. There is no colinearity between input variables on the level of 0.95 or more. "
   ]
  },
  {
   "cell_type": "code",
   "execution_count": null,
   "metadata": {},
   "outputs": [],
   "source": []
  },
  {
   "cell_type": "markdown",
   "metadata": {},
   "source": [
    "## Evaluate the Result (Analyze & Visualize)"
   ]
  },
  {
   "cell_type": "markdown",
   "metadata": {},
   "source": [
    "### 1. Wealthy vs. Poor Regions: What are the Differences?\n",
    "There is one simgle measure of prosperity used in today's economy: GDP (Gross Domestic Product). In our case, GDP is reflected in U.S. dollars per capita. It represents the value of all final goods and services produced within a nation in a given year (2013 in our case), converted at market exchange rates to current U.S. dollars, divided by the average population for the same year."
   ]
  },
  {
   "cell_type": "code",
   "execution_count": null,
   "metadata": {},
   "outputs": [],
   "source": [
    "# Median regions' GDP\n",
    "df_gdp = pd.DataFrame(df.groupby('region2').median()['gdp'].sort_values(ascending=False))\n",
    "df_gdp.index.name = 'Region'\n",
    "df_gdp.columns = ['Median GDP Per Capita in U.S. Dollars']\n",
    "df_gdp"
   ]
  },
  {
   "cell_type": "markdown",
   "metadata": {},
   "source": [
    "Looking at the world's GDP per capita, we can cluster two groups of regions with a cut at GDP level of 10000: wealthier ones (Northern America and Europe) and poorer ones (Middle East, Latin America and the Caribbean, Oceania, Asia, Africa). In the poorer regions there are also wealthy countries (like Australia in Oceania with GDP of 29000 or Hong Kong and Japan in Asia with GDP above 28000) that is why focusing on a question related to poorer countries in regions, I have used median which is less prone to outliers. Let's call the wealthier regions Group A and the rest Group B.\n",
    "\n",
    "Going further, some interesting questions arise: What are the distinguishing traits of wealthy (A) and poor (B) regions? What should the poor regions focus on to become wealthier? Let's find out what our data say."
   ]
  },
  {
   "cell_type": "code",
   "execution_count": null,
   "metadata": {},
   "outputs": [],
   "source": [
    "def plot_regions_comparison(attribute='gdp'):\n",
    "    \"\"\"Plot regions comparison for a specific attribute.\n",
    "\n",
    "    Keyword arguments:\n",
    "    attribute -- dataset attribute to be compared among regions\n",
    "    \"\"\"\n",
    "    sns.set(style=\"white\", font_scale=1.2, palette='colorblind')\n",
    "    f, axes = plt.subplots(1, 3, figsize=(30, 5))\n",
    "\n",
    "    sns.despine()\n",
    "\n",
    "    # World\n",
    "    g = sns.distplot(df[df['region2'] == 'Northern America'][attribute], label='Northern America', hist=False, rug=True, kde_kws={\"shade\":True}, ax=axes[0])\n",
    "    sns.distplot(df[df['region2'] == 'Europe'][attribute], label='Europe', hist=False, rug=True, kde_kws={\"shade\":True}, ax=axes[0])\n",
    "    sns.distplot(df[df['region2'] == 'Middle East'][attribute], label='Middle East', hist=False, rug=True, kde_kws={\"shade\":True}, ax=axes[0])\n",
    "    sns.distplot(df[df['region2'] == 'Latin America and the Caribbean'][attribute], label='Latin America and the Caribbean', hist=False, rug=True, kde_kws={\"shade\":True}, ax=axes[0])\n",
    "    sns.distplot(df[df['region2'] == 'Oceania'][attribute], label='Oceania', hist=False, rug=True, kde_kws={\"shade\":True}, ax=axes[0])\n",
    "    sns.distplot(df[df['region2'] == 'Asia'][attribute], label='Asia', hist=False, rug=True, kde_kws={\"shade\":True}, ax=axes[0])\n",
    "    sns.distplot(df[df['region2'] == 'Africa'][attribute], label='Africa', hist=False, rug=True, kde_kws={\"shade\":True}, ax=axes[0])\n",
    "\n",
    "    g.set(yticklabels=[])\n",
    "    g.set(title='All Regions')\n",
    "    #g.legend(loc='upper right')\n",
    "\n",
    "    # Wealthy Regions\n",
    "    g = sns.distplot(df[df['region2'] == 'Northern America'][attribute], label='Northern America', hist=False, rug=True, kde_kws={\"shade\":True}, ax=axes[1])\n",
    "    sns.distplot(df[df['region2'] == 'Europe'][attribute], label='Europe', hist=False, rug=True, kde_kws={\"shade\":True}, ax=axes[1])\n",
    "\n",
    "    g.set(yticklabels=[])\n",
    "    g.set(title='Group A')\n",
    "\n",
    "    # Poor Regions\n",
    "    g = sns.distplot(df[df['region2'] == 'Middle East'][attribute], label='Middle East', hist=False, rug=True, kde_kws={\"shade\":True}, ax=axes[2])\n",
    "    sns.distplot(df[df['region2'] == 'Latin America and the Caribbean'][attribute], label='Latin America and the Caribbean', hist=False, rug=True, kde_kws={\"shade\":True}, ax=axes[2])\n",
    "    sns.distplot(df[df['region2'] == 'Oceania'][attribute], label='Oceania', hist=False, rug=True, kde_kws={\"shade\":True}, ax=axes[2])\n",
    "    sns.distplot(df[df['region2'] == 'Asia'][attribute], label='Asia', hist=False, rug=True, kde_kws={\"shade\":True}, ax=axes[2])\n",
    "    sns.distplot(df[df['region2'] == 'Africa'][attribute], label='Africa', hist=False, rug=True, kde_kws={\"shade\":True}, ax=axes[2])\n",
    "\n",
    "    g.set(yticklabels=[])\n",
    "    g.set(title='Group B')\n",
    "\n",
    "    plt.savefig(\"./pics/{}.png\".format(attribute), dpi=300);\n",
    "    plt.show();\n",
    "    \n",
    "plot_regions_comparison('gdp')\n"
   ]
  },
  {
   "cell_type": "code",
   "execution_count": null,
   "metadata": {},
   "outputs": [],
   "source": [
    "# GDP in the North America\n",
    "gpd_per_country_namerica = df[df.region2 == \"Northern America\"][['country', 'gdp']].sort_values(by=['gdp'], ascending=False)\n",
    "gpd_per_country_namerica"
   ]
  },
  {
   "cell_type": "code",
   "execution_count": null,
   "metadata": {},
   "outputs": [],
   "source": [
    "# Wealthest Asia countries\n",
    "gpd_per_country_asia = df[df.region2 == \"Asia\"][['country', 'gdp']].sort_values(by=['gdp'], ascending=False)\n",
    "gpd_per_country_asia[gpd_per_country_asia.gdp > 20000]"
   ]
  },
  {
   "cell_type": "markdown",
   "metadata": {},
   "source": [
    "Within the Group A regions, Eastern European countries are the poorest ones which is represented by a hump in the left slope of the Europe's distribution. North America countries seem to be more left skewed towards higher GDP. The majority of Group A countries have GDP above 20000. The The Luxemburg's GDP of 55100 stays above all. This is a very good result for this small European country. \n",
    "\n",
    "The Group B regions tend to have right-skewed distributions of countries' GDP with Africa having the lowest GDP of all, then Asia and the best of them Middle East. The long right tail represents the wealthier countries withing the poorer regions like Australia, Hong Kong, Japan or Singapure having GDP on the European level. For the Group B regions, we will focus on poorer countries only to see what should be their economical focus in order to catch up the Group A regions or leading countries within Group B."
   ]
  },
  {
   "cell_type": "markdown",
   "metadata": {},
   "source": [
    "So, what are exactly the differences in the world's data regarding wealthier and poorer regions? Let's find out by comparing selected economic attributes: literacy, agriculture, industry, and service. \n",
    "\n",
    "#### Literacy\n",
    "\n",
    "Literacy is the ability to read and write."
   ]
  },
  {
   "cell_type": "code",
   "execution_count": null,
   "metadata": {},
   "outputs": [],
   "source": [
    "plot_regions_comparison('literacy')"
   ]
  },
  {
   "cell_type": "code",
   "execution_count": null,
   "metadata": {},
   "outputs": [],
   "source": [
    "df[df['region2'] == 'Europe'][['country', 'literacy']].sort_values(by=['literacy'], ascending=True).head(5)"
   ]
  },
  {
   "cell_type": "code",
   "execution_count": null,
   "metadata": {},
   "outputs": [],
   "source": [
    "df[df['region2'] == 'Africa'][['country', 'literacy']].sort_values(by=['literacy'], ascending=True).head(10)"
   ]
  },
  {
   "cell_type": "code",
   "execution_count": null,
   "metadata": {},
   "outputs": [],
   "source": [
    "df[df['region2'] == 'Asia'][['country', 'literacy']].sort_values(by=['literacy'], ascending=False).head(10)"
   ]
  },
  {
   "cell_type": "markdown",
   "metadata": {},
   "source": [
    "Literacy seems to be one of the big differentiators. Group A regions has literacy level above 85% of the population with the worst results by Albania (86.5%), Malta (92.80%) and Serbia (93%), whereas Group B starts from 17.5% (Niger) and many other African, Middle East or Oceania countries way below 80%.\n",
    "\n",
    "The Group B should focus on improving education level of their population leading to more innovative societes. More educated people would have easier access to knowledge (the Internet, books). It would be easier to them to exchange and implement other nations' ideas leading to prosperity and further educational growth.\n",
    "\n",
    "#### Agriculture\n",
    "\n",
    "The agriculture world data indicator is percentage of GDP sector composition ratio for agriculture economy sector. Agriculture indicator, together with the other two: Industry and Service, constitute 100% of GDP of a country."
   ]
  },
  {
   "cell_type": "code",
   "execution_count": null,
   "metadata": {},
   "outputs": [],
   "source": [
    "plot_regions_comparison('agriculture')"
   ]
  },
  {
   "cell_type": "code",
   "execution_count": null,
   "metadata": {},
   "outputs": [],
   "source": [
    "df[df['region2'] == 'Northern America'][['country', 'agriculture']].sort_values(by=['agriculture'], ascending=True)"
   ]
  },
  {
   "cell_type": "code",
   "execution_count": null,
   "metadata": {},
   "outputs": [],
   "source": [
    "df[df['region2'] == 'Europe'][['country', 'agriculture']].sort_values(by=['agriculture'], ascending=True)"
   ]
  },
  {
   "cell_type": "code",
   "execution_count": null,
   "metadata": {},
   "outputs": [],
   "source": [
    "df[df['region2'] == 'Africa'][['country', 'agriculture']].sort_values(by=['agriculture'], ascending=False).head(10)"
   ]
  },
  {
   "cell_type": "markdown",
   "metadata": {},
   "source": [
    "Agriculture in more developed countries takes only a fraction of a small portion of their GDP per capita. All Group A countries have agriculture indicator value below 27% with the more developed countries below the ratio of 5%.\n",
    "\n",
    "In the Group B, we can notice that the percentage of GDP agriculture ration is more significant. Countries like Liberia (77%), Somallia (65%) or Guinea-Bissau (62%) take the lead here.\n",
    "\n",
    "The low ratio does not necessarily mean that more developed countries have worse agriculture indicators, it rather means that other economy sectors (Industry or Service) take precedence in influencing their GDP being more profitable comparing to agriculture.\n",
    "\n",
    "The Group B countries should focus on developing innovative industry and service sector to become more competitive. Having stronger industry and service sectors would also influence positively agriculture with more modern, productive an healhty treatment. \n",
    "\n",
    "#### Industry\n",
    "\n",
    "The Industry indicator shows the percentage of GDP sector composition ratio for industry economy sector."
   ]
  },
  {
   "cell_type": "code",
   "execution_count": null,
   "metadata": {},
   "outputs": [],
   "source": [
    "plot_regions_comparison('industry')"
   ]
  },
  {
   "cell_type": "code",
   "execution_count": null,
   "metadata": {},
   "outputs": [],
   "source": [
    "df[df['region2'] == 'Europe'][['country', 'industry']].sort_values(by=['industry'], ascending=True)"
   ]
  },
  {
   "cell_type": "code",
   "execution_count": null,
   "metadata": {},
   "outputs": [],
   "source": [
    "a1 = df[df['region2'] == 'Europe'][['country', 'industry']].sort_values(by=['industry'], ascending=True).mean()\n",
    "a1[0]"
   ]
  },
  {
   "cell_type": "code",
   "execution_count": null,
   "metadata": {},
   "outputs": [],
   "source": [
    "df[df['region2'] == 'Northern America'][['country', 'industry']].sort_values(by=['industry'], ascending=True)"
   ]
  },
  {
   "cell_type": "code",
   "execution_count": null,
   "metadata": {},
   "outputs": [],
   "source": [
    "a2 = df[df['region2'] == 'Northern America'][['country', 'industry']].sort_values(by=['industry'], ascending=True).mean()\n",
    "a2[0]"
   ]
  },
  {
   "cell_type": "code",
   "execution_count": null,
   "metadata": {},
   "outputs": [],
   "source": [
    "(a1[0]+a2[0])/2"
   ]
  },
  {
   "cell_type": "code",
   "execution_count": null,
   "metadata": {},
   "outputs": [],
   "source": [
    "df[df['region2'] == 'Africa'][['country', 'industry']].sort_values(by=['industry'], ascending=True).head(200)"
   ]
  },
  {
   "cell_type": "code",
   "execution_count": null,
   "metadata": {},
   "outputs": [],
   "source": [
    "df[df['region2'] == 'Asia'][['country', 'industry']].sort_values(by=['industry'], ascending=True).head(200)"
   ]
  },
  {
   "cell_type": "code",
   "execution_count": null,
   "metadata": {},
   "outputs": [],
   "source": [
    "df[df['region2'] == 'Middle East'][['country', 'industry']].sort_values(by=['industry'], ascending=True).head(200)"
   ]
  },
  {
   "cell_type": "code",
   "execution_count": null,
   "metadata": {},
   "outputs": [],
   "source": [
    "df[df['region2'] == 'Oceania'][['country', 'industry']].sort_values(by=['industry'], ascending=True).head(200)"
   ]
  },
  {
   "cell_type": "code",
   "execution_count": null,
   "metadata": {},
   "outputs": [],
   "source": [
    "# Calculate mean for Group B countries\n",
    "array = ['Oceania', 'Asia', 'Middle East', 'Latin America and the Caribbean', 'Africa']\n",
    "df.loc[df['region2'].isin(array)].industry.mean()\n",
    "#df.loc[df['region2'].isin(array)].industry.median()"
   ]
  },
  {
   "cell_type": "markdown",
   "metadata": {},
   "source": [
    "Within groups, the data distributions overlap significantly meaning the economies of the regions in terms of industry sector are within similar range (with a mean of 0.25 for Group A and 0.28 for Group B). Between the two groups, most of countries have similar values ranging from 2% (Jersey) to 50% (Ireland), nevertheless there is a long right tail within the Group B countires showing countries with the metric above 50%, like Samoa, (58%), Angola (66%), Qatar (80%) or Equatorial Guinea (91%).\n",
    "\n",
    "From this high-level and simplified analysis, one could derive that more service-oriented economy would be the proposed direction for above 40% countries. The strong industry indicator in Group B countries may indicate that these countries are already on their way to get there, because the service-centric economies are also related to wealthier nations (positive correlation of 0.51 between GDP and Service economic factor). One way of becoming wealthier as a nation is to start with a strong industry sector.\n",
    "\n",
    "#### Service\n",
    "\n",
    "A service economy is a nation that generates more value from services than other sectors such as agriculture and manufacturing."
   ]
  },
  {
   "cell_type": "code",
   "execution_count": null,
   "metadata": {},
   "outputs": [],
   "source": [
    "plot_regions_comparison('service')"
   ]
  },
  {
   "cell_type": "code",
   "execution_count": null,
   "metadata": {},
   "outputs": [],
   "source": [
    "df[df['region2'] == 'Europe'][['country', 'service']].sort_values(by=['service'], ascending=True)"
   ]
  },
  {
   "cell_type": "code",
   "execution_count": null,
   "metadata": {},
   "outputs": [],
   "source": [
    "df[df['region2'] == 'Northern America'][['country', 'service']].sort_values(by=['service'], ascending=True)"
   ]
  },
  {
   "cell_type": "code",
   "execution_count": null,
   "metadata": {},
   "outputs": [],
   "source": [
    "df[df['region2'] == 'Asia'][['country', 'service']].sort_values(by=['service'], ascending=True)"
   ]
  },
  {
   "cell_type": "code",
   "execution_count": null,
   "metadata": {},
   "outputs": [],
   "source": [
    "df[df['region2'] == 'Africa'][['country', 'service']].sort_values(by=['service'], ascending=True)"
   ]
  },
  {
   "cell_type": "code",
   "execution_count": null,
   "metadata": {},
   "outputs": [],
   "source": [
    "df[df['region2'] == 'Oceania'][['country', 'service']].sort_values(by=['service'], ascending=True)"
   ]
  },
  {
   "cell_type": "code",
   "execution_count": null,
   "metadata": {},
   "outputs": [],
   "source": [
    "df[df['region2'] == 'Middle East'][['country', 'service']].sort_values(by=['service'], ascending=True)"
   ]
  },
  {
   "cell_type": "code",
   "execution_count": null,
   "metadata": {},
   "outputs": [],
   "source": [
    "df[df['region2'] == 'Latin America and the Caribbean'][['country', 'service']].sort_values(by=['service'], ascending=True)"
   ]
  },
  {
   "cell_type": "markdown",
   "metadata": {},
   "source": [
    "Advanced economies are locked in a long term trend whereby services are becoming a greater percentage of economic output. In Europe, the least service developed economy is Ukraine (36%), in Northern America St. Pierre & Miquelon (57%). In Asia the index starts with the value of 0.26 (Laos), in Oceania 0.27 (Papua New Guinea), in Africa with 0.06 (Equatorial Guinea), Middle East with 0.20 (Qatar) and Latin America and the Caribbean with 0.42 (Trinidad & Tobago).\n",
    "\n",
    "On the other side most service-oriented countries (in both Groups) are represented with values from above 70%."
   ]
  },
  {
   "cell_type": "markdown",
   "metadata": {},
   "source": [
    "### Conclusion\n",
    "\n",
    "To summarize, the most successful regions in terms of wealth (GDP per capita) are (almost) 100% literate. Their nations seem to be more uniform in terms of the indicators. They have very strong service focused economy ratio and depending on different factors (like geography or size) their second characteristics are more agriculture or industry oriented. \n",
    "\n",
    "The poorer regions, although having very stron nations as representatives (Australia, Japan, Hong Kong, to name a few) are more varied with a significant portion of countries with agriculture or industral economies and much work to do in terms of improving their nations' literacy.\n",
    "\n",
    "In order to catch up, the Group B regions should focus on education to speed up the development process and take the best technologies, environment-friendly approaches and economical mindsets from the Group A regions (plus leading nations in terms of GDP from Group B). In most cases they might have to take a long journey from pure agricultural societes, through industrial ones to the ones where the service sector plays the main role."
   ]
  },
  {
   "cell_type": "markdown",
   "metadata": {},
   "source": [
    "As a last note, it is interesting to see how different regions on the same continent can be internally. For example, considering Europe, the West European countries have generally better GDP indicators than East European countires, which is due to longer period of prosperity, democratic or republic systems and consideration for the law. This draws the conclussion that in greater pace and chance of achieving success in building economical prosperity cultural, social and especially political situation plays an important role."
   ]
  },
  {
   "cell_type": "markdown",
   "metadata": {},
   "source": []
  },
  {
   "cell_type": "markdown",
   "metadata": {},
   "source": [
    "### 2. What can we do to limit infant mortality?"
   ]
  },
  {
   "cell_type": "code",
   "execution_count": null,
   "metadata": {},
   "outputs": [],
   "source": [
    "plot_regions_comparison('infmortality')"
   ]
  },
  {
   "cell_type": "code",
   "execution_count": null,
   "metadata": {},
   "outputs": [],
   "source": [
    "df[df['region2'] == 'Middle East'][['country', 'infmortality']].sort_values(by=['infmortality'], ascending=True)"
   ]
  },
  {
   "cell_type": "code",
   "execution_count": null,
   "metadata": {},
   "outputs": [],
   "source": [
    "df[df['region2'] == 'Africa'][['country', 'infmortality']].sort_values(by=['infmortality'], ascending=True)"
   ]
  },
  {
   "cell_type": "code",
   "execution_count": null,
   "metadata": {},
   "outputs": [],
   "source": [
    "df[df['region2'] == 'Asia'][['country', 'infmortality']].sort_values(by=['infmortality'], ascending=True)"
   ]
  },
  {
   "cell_type": "code",
   "execution_count": null,
   "metadata": {},
   "outputs": [],
   "source": [
    "x = df.loc[:, [\"region2\", \"gdp\", \"agriculture\", \"industry\", \"service\", \"literacy\", \"birthrate\", \"phones\", \"infmortality\"]]\n",
    "sns.pairplot(x, hue=\"region2\", palette=\"colorblind\");"
   ]
  },
  {
   "cell_type": "code",
   "execution_count": null,
   "metadata": {},
   "outputs": [],
   "source": [
    "# Infant mortality per country per 1000 live births\n",
    "data = dict(type='choropleth', \n",
    "            locations = df.country,\n",
    "            locationmode = 'country names', \n",
    "            z = df.infmortality,\n",
    "            text = df.country, \n",
    "            colorbar = {'title':'IMR/1000'},\n",
    "            colorscale = 'Hot', \n",
    "            reversescale = True)\n",
    "\n",
    "layout = dict(title='Infant Mortality per Country', geo=dict(showframe=False,projection={'type':'natural earth'}))\n",
    "choromap = go.Figure(data = [data], layout=layout)\n",
    "iplot(choromap, validate=False)"
   ]
  },
  {
   "cell_type": "code",
   "execution_count": null,
   "metadata": {},
   "outputs": [],
   "source": [
    "# GDP per country\n",
    "data = dict(type='choropleth',\n",
    "            locations = df.country,\n",
    "            locationmode = 'country names', \n",
    "            z = df.gdp,\n",
    "            text = df.country, \n",
    "            colorbar = {'title':'GDP'},\n",
    "            colorscale = 'Hot', \n",
    "            reversescale = True)\n",
    "\n",
    "layout = dict(title='GDP of World Countries', geo = dict(showframe=False, projection={'type':'natural earth'}))\n",
    "choromap = go.Figure(data = [data], layout=layout)\n",
    "iplot(choromap, validate=False)"
   ]
  },
  {
   "cell_type": "code",
   "execution_count": null,
   "metadata": {},
   "outputs": [],
   "source": [
    "# How infant mortality is corelated to other features?\n",
    "#df[df.columns[:]].corr()['infmortality'][:]\n",
    "pd.DataFrame(df.corr()['infmortality'].sort_values(ascending=False))"
   ]
  },
  {
   "cell_type": "code",
   "execution_count": null,
   "metadata": {},
   "outputs": [],
   "source": [
    "# What influences infant mortality most?\n",
    "df.corr()['infmortality'].sort_values(ascending=False)[1:].plot(kind='bar', figsize=(10,8));\n",
    "plt.title('Infant Mortality Influencers')\n",
    "plt.xlabel('Influencers')\n",
    "plt.ylabel('Pearson Correlation')\n",
    "plt.savefig(\"./pics/infant_mortality_influencers.png\", dpi=600);\n",
    "plt.show();"
   ]
  },
  {
   "cell_type": "markdown",
   "metadata": {},
   "source": [
    "Infant mortality is defined as the death of young children under the age of 1. This death toll is measured by the Infant Mortality Rate (IMR), which is the number of deaths of children under one year of age per 1000 live births. In the 21st century, in the age of robotics, genetics and sophisticated healthcare the infant mortality rate should be really low. But there are still countries in the world where on average 160 or more per 1000 infants die during the first year after birth (i.e. Angola - 191, Afganistan - 163 on average). This is especially true for regions like Asia and Africa.\n",
    "\n",
    "Based on the world dataset, infant mortality is strictly related to the GDP and rates of different economical models representing a give nation. In general, nations with lower GDP, greater ratios of agriculture sector, lower ratios of service sector and lower literacy level have greater infant mortality. \n",
    "\n",
    "The more poor the nation is, the greater chance of premature mortality exists. The more educated and wealthy the nation is, the more chance infants have to survive. It may sound obvious, but poorer nations have greater birth rate in general which also results in greater ratio of infant mortality. \n",
    "\n",
    "Looking at the world maps of mortality and gdp we see they are like inverse of each other. Countries with greater GDP have lower infant mortality and vice versa.\n",
    "\n",
    "In this context, it is important to that richer and more developed countries help the poorer ones both economically and especially in terms of education. The more aware and enlightened people become, the bigger care they will put into proper health-care infrastructure and treatment (vaccination, healthy life style and medical examinations during pregnancy, breastfeeding, etc.), and as a result the more chance to survive infants will be given."
   ]
  },
  {
   "cell_type": "code",
   "execution_count": null,
   "metadata": {},
   "outputs": [],
   "source": []
  },
  {
   "cell_type": "markdown",
   "metadata": {},
   "source": [
    "### 3. What are the most significant predictors determining country's GDP per capita, the key indicator of economic development of any country?"
   ]
  },
  {
   "cell_type": "code",
   "execution_count": null,
   "metadata": {},
   "outputs": [],
   "source": [
    "# Randomize the dataset\n",
    "np.random.seed(rstate)\n",
    "index_list = list(X.index)\n",
    "np.random.shuffle(index_list)\n",
    "X = X.iloc[index_list]"
   ]
  },
  {
   "cell_type": "code",
   "execution_count": null,
   "metadata": {},
   "outputs": [],
   "source": [
    "# Take the target variable out from the dataset\n",
    "y = X.pop('gdp')"
   ]
  },
  {
   "cell_type": "code",
   "execution_count": null,
   "metadata": {},
   "outputs": [],
   "source": [
    "# 80/20 Split\n",
    "X_train, X_test, y_train, y_test = train_test_split(X, y, test_size=0.2, random_state=rstate)\n",
    "print(X_train.shape, y_train.shape)\n",
    "print(X_test.shape, y_test.shape)"
   ]
  },
  {
   "cell_type": "code",
   "execution_count": null,
   "metadata": {},
   "outputs": [],
   "source": [
    "# Train a simple linear regression model (baseline)\n",
    "model = LinearRegression()"
   ]
  },
  {
   "cell_type": "code",
   "execution_count": null,
   "metadata": {},
   "outputs": [],
   "source": [
    "model.fit(X_train, y_train)"
   ]
  },
  {
   "cell_type": "code",
   "execution_count": null,
   "metadata": {},
   "outputs": [],
   "source": [
    "predictions = model.predict(X_test)\n",
    "\n",
    "# Best is 1.0\n",
    "print(explained_variance_score(predictions, y_test))"
   ]
  },
  {
   "cell_type": "code",
   "execution_count": null,
   "metadata": {},
   "outputs": [],
   "source": [
    "# R2 score\n",
    "model.score(X_test,y_test)"
   ]
  },
  {
   "cell_type": "code",
   "execution_count": null,
   "metadata": {},
   "outputs": [],
   "source": [
    "# Calculate the Root Mean Squared Error\n",
    "print(\"RMSE: {:10,.6f}\".format(math.sqrt(np.mean((model.predict(X_test) - y_test) ** 2))))"
   ]
  },
  {
   "cell_type": "code",
   "execution_count": null,
   "metadata": {},
   "outputs": [],
   "source": [
    "# Does XGboost algorithm get better results?\n",
    "\n",
    "#data_dmatrix = xgb.DMatrix(data=X_train, label=y_train)\n",
    "\n",
    "model2 = xgb.XGBRegressor(n_estimators=100, \n",
    "                           learning_rate=0.08, \n",
    "                           gamma=0, \n",
    "                           subsample=0.75,\n",
    "                           colsample_bytree=1, \n",
    "                           max_depth=7)"
   ]
  },
  {
   "cell_type": "code",
   "execution_count": null,
   "metadata": {},
   "outputs": [],
   "source": [
    "model2.fit(X_train, y_train)"
   ]
  },
  {
   "cell_type": "code",
   "execution_count": null,
   "metadata": {},
   "outputs": [],
   "source": [
    "predictions = model2.predict(X_test)\n",
    "\n",
    "# Best is 1.0\n",
    "print(explained_variance_score(predictions, y_test))"
   ]
  },
  {
   "cell_type": "code",
   "execution_count": null,
   "metadata": {},
   "outputs": [],
   "source": [
    "rmse = np.sqrt(mean_squared_error(y_test, predictions))\n",
    "print(\"RMSE: %f\" % (rmse))"
   ]
  },
  {
   "cell_type": "code",
   "execution_count": null,
   "metadata": {},
   "outputs": [],
   "source": [
    "xgb.plot_tree(model2, num_trees=0)\n",
    "#plt.rcParams['figure.figsize'] = [50, 50]\n",
    "plt.savefig(\"./pics/xgbtree.png\", dpi=600);\n",
    "plt.show();"
   ]
  },
  {
   "cell_type": "code",
   "execution_count": null,
   "metadata": {},
   "outputs": [],
   "source": [
    "'''\n",
    "How the importance is calculated: either \"weight\", \"gain\", or \"cover\" \n",
    "- \"weight\" is the number of times a feature appears in a tree \n",
    "- \"gain\" is the average \"gain\" of splits which use the feature \n",
    "- \"cover\" is the average coverage of splits which use the feature where coverage is defined as the number of samples affected by the split\n",
    "'''\n",
    "\n",
    "xgb.plot_importance(model2, importance_type='gain', max_num_features=6)\n",
    "#plt.rcParams['figure.figsize'] = [5, 5]\n",
    "plt.savefig(\"./pics/xgbfimportance.png\", dpi=600);\n",
    "plt.show();"
   ]
  },
  {
   "cell_type": "code",
   "execution_count": null,
   "metadata": {},
   "outputs": [],
   "source": [
    "# Save the model to disk\n",
    "filename = 'gdp_model.sav'\n",
    "dump(model, open(filename, 'wb'))"
   ]
  },
  {
   "cell_type": "markdown",
   "metadata": {},
   "source": [
    "The most important features used by a XGBoost model used to predict GDP are: phones (the wealthest nation is the more phones it has), infant mortality (poorer countries have greater IMR than wealthier countries), the fact that a country is in Latin America region (I do not know why this one is so important), the agriculture score, the level of literacy and birthrate. Using these features, the XGBoost model was able to get R squared score of 0.79 on test data."
   ]
  },
  {
   "cell_type": "code",
   "execution_count": null,
   "metadata": {},
   "outputs": [],
   "source": []
  },
  {
   "cell_type": "markdown",
   "metadata": {},
   "source": [
    "## Deploy"
   ]
  },
  {
   "cell_type": "code",
   "execution_count": null,
   "metadata": {},
   "outputs": [],
   "source": [
    "# Test\n",
    "# Load the model from disk\n",
    "loaded_model = load(open(filename, 'rb'))\n",
    "# R2 score\n",
    "result = loaded_model.score(X_test, y_test)\n",
    "print(result)"
   ]
  },
  {
   "cell_type": "markdown",
   "metadata": {},
   "source": [
    "A [blog post](https://github.com/ksatola/Countries-of-the-World/blob/master/BlogPost.md) answering the 3 questions."
   ]
  },
  {
   "cell_type": "code",
   "execution_count": null,
   "metadata": {},
   "outputs": [],
   "source": []
  }
 ],
 "metadata": {
  "kernelspec": {
   "display_name": "Python 3",
   "language": "python",
   "name": "python3"
  },
  "language_info": {
   "codemirror_mode": {
    "name": "ipython",
    "version": 3
   },
   "file_extension": ".py",
   "mimetype": "text/x-python",
   "name": "python",
   "nbconvert_exporter": "python",
   "pygments_lexer": "ipython3",
   "version": "3.7.1"
  }
 },
 "nbformat": 4,
 "nbformat_minor": 2
}

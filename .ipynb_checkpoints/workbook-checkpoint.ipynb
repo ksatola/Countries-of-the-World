{
 "cells": [
  {
   "cell_type": "markdown",
   "metadata": {},
   "source": [
    "# Countries of the World\n",
    "\n",
    "By Krzysztof Satola from: [github.com/ksatola](https://github.com/ksatola).\n",
    "\n",
    "Based on CRISP-DM (Cross Industry Process for Data Mining)."
   ]
  },
  {
   "cell_type": "markdown",
   "metadata": {},
   "source": [
    "## Business Understanding"
   ]
  },
  {
   "cell_type": "markdown",
   "metadata": {},
   "source": [
    "### Objectives\n",
    "\n",
    "In this project, I explore [Countries of the Worlds Kaggle dataset](https://www.kaggle.com/fernandol/countries-of-the-world) to answer the following questions:\n",
    "\n",
    "1. XXXXHow different regions are compared to each other in terms of their area, population, population density and other attributes? What are distinguishing traits of wealthy and poor regions (GDP)?\n",
    "2. XXXXXWhat can we do to limit infant mortality?\n",
    "3. XXXXWhat are the most significant predictors determining country's GDP per capita, the key indicator of economic development of any country?\n",
    "\n",
    "Next, I write a post to ??? to summarize my findings."
   ]
  },
  {
   "cell_type": "markdown",
   "metadata": {},
   "source": [
    "### Dataset Dictionary\n",
    "\n",
    "- **country** - country name\n",
    "- **region** - region name\n",
    "- **population** - number of people within country\n",
    "- **area** - country area in sq. mi.\n",
    "- **popdensity** - country population density per sq. mi.\n",
    "- **coast** - coastline (coast/area) ratio\n",
    "- **netmigr** - net migration. The net migration rate is the difference between the number of immigrants (people coming into an area) and the number of emigrants (people leaving an area) throughout the year. When the number of immigrants is larger than the number of emigrants, a `positive net migration rate` occurs. A positive net migration rates indicates that there are more people entering than leaving an area. When more emigrate from a country, the result is a `negative net migration rate`, meaning that more people are leaving than entering the area. When there is an equal number of immigrants and emigrants, the net migration rate is balanced ([source](https://en.wikipedia.org/wiki/Net_migration_rate)).\n",
    "- **infmortality** - infant mortality (per 1000 births)\n",
    "- **gdp** - Gross Domestic Product (GDP) in $ per capita. The value of all final goods and services produced within a nation in a given year (2013), converted at market exchange rates to current U.S. dollars, divided by the average population for the same year ([source](https://en.wikipedia.org/wiki/List_of_countries_by_GDP_(nominal)_per_capita)).\n",
    "- **literacy** - country literacy level in %\n",
    "- **phones** - number phones per 1000\n",
    "- **arable** - percent of arable areas\n",
    "- **crops** - percent of cropland used to grow food\n",
    "- **climate** - climate type\n",
    "- **birthrate** - the birth rate (technically, births/population rate), the total number of live births per 1,000 in a population in 2013 ([source](https://en.wikipedia.org/wiki/Birth_rate)).\n",
    "- **deathrate** - number of deaths per 1,000 individuals ([source](https://en.wikipedia.org/wiki/Mortality_rate)).\n",
    "- **agriculture** - percentage of GDP sector composition ratio for agriculture economy sector ([source](https://en.wikipedia.org/wiki/List_of_countries_by_GDP_sector_composition)). Agriculture % + Industry % + Service = 100% of GDP \n",
    "- **industry** - percentage of GDP sector composition ratio for industry economy sector\n",
    "- **service** - percentage of GDP sector composition ratio for service economy sector"
   ]
  },
  {
   "cell_type": "markdown",
   "metadata": {},
   "source": [
    "## Data Understanding"
   ]
  },
  {
   "cell_type": "code",
   "execution_count": 1,
   "metadata": {},
   "outputs": [],
   "source": [
    "# Import required libraries\n",
    "import numpy as np\n",
    "import pandas as pd\n",
    "\n",
    "import matplotlib.pyplot as plt\n",
    "import seaborn as sns\n",
    "\n",
    "%matplotlib inline\n",
    "\n",
    "# Random state\n",
    "rstate = 123\n",
    "\n",
    "pd.options.display.float_format = '{:20.2f}'.format"
   ]
  },
  {
   "cell_type": "code",
   "execution_count": 2,
   "metadata": {},
   "outputs": [],
   "source": [
    "%load_ext version_information"
   ]
  },
  {
   "cell_type": "code",
   "execution_count": 3,
   "metadata": {},
   "outputs": [
    {
     "data": {
      "application/json": {
       "Software versions": [
        {
         "module": "Python",
         "version": "3.7.1 64bit [Clang 4.0.1 (tags/RELEASE_401/final)]"
        },
        {
         "module": "IPython",
         "version": "7.2.0"
        },
        {
         "module": "OS",
         "version": "Darwin 18.2.0 x86_64 i386 64bit"
        },
        {
         "module": "numpy",
         "version": "1.16.2"
        },
        {
         "module": "pandas",
         "version": "0.23.4"
        },
        {
         "module": "matplotlib",
         "version": "3.0.2"
        },
        {
         "module": "seaborn",
         "version": "0.9.0"
        }
       ]
      },
      "text/html": [
       "<table><tr><th>Software</th><th>Version</th></tr><tr><td>Python</td><td>3.7.1 64bit [Clang 4.0.1 (tags/RELEASE_401/final)]</td></tr><tr><td>IPython</td><td>7.2.0</td></tr><tr><td>OS</td><td>Darwin 18.2.0 x86_64 i386 64bit</td></tr><tr><td>numpy</td><td>1.16.2</td></tr><tr><td>pandas</td><td>0.23.4</td></tr><tr><td>matplotlib</td><td>3.0.2</td></tr><tr><td>seaborn</td><td>0.9.0</td></tr><tr><td colspan='2'>Fri Mar 22 21:16:37 2019 CET</td></tr></table>"
      ],
      "text/latex": [
       "\\begin{tabular}{|l|l|}\\hline\n",
       "{\\bf Software} & {\\bf Version} \\\\ \\hline\\hline\n",
       "Python & 3.7.1 64bit [Clang 4.0.1 (tags/RELEASE\\_401/final)] \\\\ \\hline\n",
       "IPython & 7.2.0 \\\\ \\hline\n",
       "OS & Darwin 18.2.0 x86\\_64 i386 64bit \\\\ \\hline\n",
       "numpy & 1.16.2 \\\\ \\hline\n",
       "pandas & 0.23.4 \\\\ \\hline\n",
       "matplotlib & 3.0.2 \\\\ \\hline\n",
       "seaborn & 0.9.0 \\\\ \\hline\n",
       "\\hline \\multicolumn{2}{|l|}{Fri Mar 22 21:16:37 2019 CET} \\\\ \\hline\n",
       "\\end{tabular}\n"
      ],
      "text/plain": [
       "Software versions\n",
       "Python 3.7.1 64bit [Clang 4.0.1 (tags/RELEASE_401/final)]\n",
       "IPython 7.2.0\n",
       "OS Darwin 18.2.0 x86_64 i386 64bit\n",
       "numpy 1.16.2\n",
       "pandas 0.23.4\n",
       "matplotlib 3.0.2\n",
       "seaborn 0.9.0\n",
       "Fri Mar 22 21:16:37 2019 CET"
      ]
     },
     "execution_count": 3,
     "metadata": {},
     "output_type": "execute_result"
    }
   ],
   "source": [
    "# Document versions of used libraries\n",
    "%version_information numpy, pandas, matplotlib, seaborn"
   ]
  },
  {
   "cell_type": "code",
   "execution_count": 4,
   "metadata": {},
   "outputs": [],
   "source": [
    "# Load data from a CSV file\n",
    "df = pd.read_csv('./data/countries of the world.csv', decimal=',')"
   ]
  },
  {
   "cell_type": "code",
   "execution_count": 5,
   "metadata": {},
   "outputs": [
    {
     "data": {
      "text/html": [
       "<div>\n",
       "<style scoped>\n",
       "    .dataframe tbody tr th:only-of-type {\n",
       "        vertical-align: middle;\n",
       "    }\n",
       "\n",
       "    .dataframe tbody tr th {\n",
       "        vertical-align: top;\n",
       "    }\n",
       "\n",
       "    .dataframe thead th {\n",
       "        text-align: right;\n",
       "    }\n",
       "</style>\n",
       "<table border=\"1\" class=\"dataframe\">\n",
       "  <thead>\n",
       "    <tr style=\"text-align: right;\">\n",
       "      <th></th>\n",
       "      <th>0</th>\n",
       "      <th>1</th>\n",
       "      <th>2</th>\n",
       "      <th>3</th>\n",
       "      <th>4</th>\n",
       "    </tr>\n",
       "  </thead>\n",
       "  <tbody>\n",
       "    <tr>\n",
       "      <th>Country</th>\n",
       "      <td>Afghanistan</td>\n",
       "      <td>Albania</td>\n",
       "      <td>Algeria</td>\n",
       "      <td>American Samoa</td>\n",
       "      <td>Andorra</td>\n",
       "    </tr>\n",
       "    <tr>\n",
       "      <th>Region</th>\n",
       "      <td>ASIA (EX. NEAR EAST)</td>\n",
       "      <td>EASTERN EUROPE</td>\n",
       "      <td>NORTHERN AFRICA</td>\n",
       "      <td>OCEANIA</td>\n",
       "      <td>WESTERN EUROPE</td>\n",
       "    </tr>\n",
       "    <tr>\n",
       "      <th>Population</th>\n",
       "      <td>31056997</td>\n",
       "      <td>3581655</td>\n",
       "      <td>32930091</td>\n",
       "      <td>57794</td>\n",
       "      <td>71201</td>\n",
       "    </tr>\n",
       "    <tr>\n",
       "      <th>Area (sq. mi.)</th>\n",
       "      <td>647500</td>\n",
       "      <td>28748</td>\n",
       "      <td>2381740</td>\n",
       "      <td>199</td>\n",
       "      <td>468</td>\n",
       "    </tr>\n",
       "    <tr>\n",
       "      <th>Pop. Density (per sq. mi.)</th>\n",
       "      <td>48.00</td>\n",
       "      <td>124.60</td>\n",
       "      <td>13.80</td>\n",
       "      <td>290.40</td>\n",
       "      <td>152.10</td>\n",
       "    </tr>\n",
       "    <tr>\n",
       "      <th>Coastline (coast/area ratio)</th>\n",
       "      <td>0.00</td>\n",
       "      <td>1.26</td>\n",
       "      <td>0.04</td>\n",
       "      <td>58.29</td>\n",
       "      <td>0.00</td>\n",
       "    </tr>\n",
       "    <tr>\n",
       "      <th>Net migration</th>\n",
       "      <td>23.06</td>\n",
       "      <td>-4.93</td>\n",
       "      <td>-0.39</td>\n",
       "      <td>-20.71</td>\n",
       "      <td>6.60</td>\n",
       "    </tr>\n",
       "    <tr>\n",
       "      <th>Infant mortality (per 1000 births)</th>\n",
       "      <td>163.07</td>\n",
       "      <td>21.52</td>\n",
       "      <td>31.00</td>\n",
       "      <td>9.27</td>\n",
       "      <td>4.05</td>\n",
       "    </tr>\n",
       "    <tr>\n",
       "      <th>GDP ($ per capita)</th>\n",
       "      <td>700.00</td>\n",
       "      <td>4500.00</td>\n",
       "      <td>6000.00</td>\n",
       "      <td>8000.00</td>\n",
       "      <td>19000.00</td>\n",
       "    </tr>\n",
       "    <tr>\n",
       "      <th>Literacy (%)</th>\n",
       "      <td>36.00</td>\n",
       "      <td>86.50</td>\n",
       "      <td>70.00</td>\n",
       "      <td>97.00</td>\n",
       "      <td>100.00</td>\n",
       "    </tr>\n",
       "    <tr>\n",
       "      <th>Phones (per 1000)</th>\n",
       "      <td>3.20</td>\n",
       "      <td>71.20</td>\n",
       "      <td>78.10</td>\n",
       "      <td>259.50</td>\n",
       "      <td>497.20</td>\n",
       "    </tr>\n",
       "    <tr>\n",
       "      <th>Arable (%)</th>\n",
       "      <td>12.13</td>\n",
       "      <td>21.09</td>\n",
       "      <td>3.22</td>\n",
       "      <td>10.00</td>\n",
       "      <td>2.22</td>\n",
       "    </tr>\n",
       "    <tr>\n",
       "      <th>Crops (%)</th>\n",
       "      <td>0.22</td>\n",
       "      <td>4.42</td>\n",
       "      <td>0.25</td>\n",
       "      <td>15.00</td>\n",
       "      <td>0.00</td>\n",
       "    </tr>\n",
       "    <tr>\n",
       "      <th>Other (%)</th>\n",
       "      <td>87.65</td>\n",
       "      <td>74.49</td>\n",
       "      <td>96.53</td>\n",
       "      <td>75.00</td>\n",
       "      <td>97.78</td>\n",
       "    </tr>\n",
       "    <tr>\n",
       "      <th>Climate</th>\n",
       "      <td>1.00</td>\n",
       "      <td>3.00</td>\n",
       "      <td>1.00</td>\n",
       "      <td>2.00</td>\n",
       "      <td>3.00</td>\n",
       "    </tr>\n",
       "    <tr>\n",
       "      <th>Birthrate</th>\n",
       "      <td>46.60</td>\n",
       "      <td>15.11</td>\n",
       "      <td>17.14</td>\n",
       "      <td>22.46</td>\n",
       "      <td>8.71</td>\n",
       "    </tr>\n",
       "    <tr>\n",
       "      <th>Deathrate</th>\n",
       "      <td>20.34</td>\n",
       "      <td>5.22</td>\n",
       "      <td>4.61</td>\n",
       "      <td>3.27</td>\n",
       "      <td>6.25</td>\n",
       "    </tr>\n",
       "    <tr>\n",
       "      <th>Agriculture</th>\n",
       "      <td>0.38</td>\n",
       "      <td>0.23</td>\n",
       "      <td>0.10</td>\n",
       "      <td>NaN</td>\n",
       "      <td>NaN</td>\n",
       "    </tr>\n",
       "    <tr>\n",
       "      <th>Industry</th>\n",
       "      <td>0.24</td>\n",
       "      <td>0.19</td>\n",
       "      <td>0.60</td>\n",
       "      <td>NaN</td>\n",
       "      <td>NaN</td>\n",
       "    </tr>\n",
       "    <tr>\n",
       "      <th>Service</th>\n",
       "      <td>0.38</td>\n",
       "      <td>0.58</td>\n",
       "      <td>0.30</td>\n",
       "      <td>NaN</td>\n",
       "      <td>NaN</td>\n",
       "    </tr>\n",
       "  </tbody>\n",
       "</table>\n",
       "</div>"
      ],
      "text/plain": [
       "                                                                0  \\\n",
       "Country                                              Afghanistan    \n",
       "Region                              ASIA (EX. NEAR EAST)            \n",
       "Population                                               31056997   \n",
       "Area (sq. mi.)                                             647500   \n",
       "Pop. Density (per sq. mi.)                                  48.00   \n",
       "Coastline (coast/area ratio)                                 0.00   \n",
       "Net migration                                               23.06   \n",
       "Infant mortality (per 1000 births)                         163.07   \n",
       "GDP ($ per capita)                                         700.00   \n",
       "Literacy (%)                                                36.00   \n",
       "Phones (per 1000)                                            3.20   \n",
       "Arable (%)                                                  12.13   \n",
       "Crops (%)                                                    0.22   \n",
       "Other (%)                                                   87.65   \n",
       "Climate                                                      1.00   \n",
       "Birthrate                                                   46.60   \n",
       "Deathrate                                                   20.34   \n",
       "Agriculture                                                  0.38   \n",
       "Industry                                                     0.24   \n",
       "Service                                                      0.38   \n",
       "\n",
       "                                                                      1  \\\n",
       "Country                                                        Albania    \n",
       "Region                              EASTERN EUROPE                        \n",
       "Population                                                      3581655   \n",
       "Area (sq. mi.)                                                    28748   \n",
       "Pop. Density (per sq. mi.)                                       124.60   \n",
       "Coastline (coast/area ratio)                                       1.26   \n",
       "Net migration                                                     -4.93   \n",
       "Infant mortality (per 1000 births)                                21.52   \n",
       "GDP ($ per capita)                                              4500.00   \n",
       "Literacy (%)                                                      86.50   \n",
       "Phones (per 1000)                                                 71.20   \n",
       "Arable (%)                                                        21.09   \n",
       "Crops (%)                                                          4.42   \n",
       "Other (%)                                                         74.49   \n",
       "Climate                                                            3.00   \n",
       "Birthrate                                                         15.11   \n",
       "Deathrate                                                          5.22   \n",
       "Agriculture                                                        0.23   \n",
       "Industry                                                           0.19   \n",
       "Service                                                            0.58   \n",
       "\n",
       "                                                                      2  \\\n",
       "Country                                                        Algeria    \n",
       "Region                              NORTHERN AFRICA                       \n",
       "Population                                                     32930091   \n",
       "Area (sq. mi.)                                                  2381740   \n",
       "Pop. Density (per sq. mi.)                                        13.80   \n",
       "Coastline (coast/area ratio)                                       0.04   \n",
       "Net migration                                                     -0.39   \n",
       "Infant mortality (per 1000 births)                                31.00   \n",
       "GDP ($ per capita)                                              6000.00   \n",
       "Literacy (%)                                                      70.00   \n",
       "Phones (per 1000)                                                 78.10   \n",
       "Arable (%)                                                         3.22   \n",
       "Crops (%)                                                          0.25   \n",
       "Other (%)                                                         96.53   \n",
       "Climate                                                            1.00   \n",
       "Birthrate                                                         17.14   \n",
       "Deathrate                                                          4.61   \n",
       "Agriculture                                                        0.10   \n",
       "Industry                                                           0.60   \n",
       "Service                                                            0.30   \n",
       "\n",
       "                                                                      3  \\\n",
       "Country                                                 American Samoa    \n",
       "Region                              OCEANIA                               \n",
       "Population                                                        57794   \n",
       "Area (sq. mi.)                                                      199   \n",
       "Pop. Density (per sq. mi.)                                       290.40   \n",
       "Coastline (coast/area ratio)                                      58.29   \n",
       "Net migration                                                    -20.71   \n",
       "Infant mortality (per 1000 births)                                 9.27   \n",
       "GDP ($ per capita)                                              8000.00   \n",
       "Literacy (%)                                                      97.00   \n",
       "Phones (per 1000)                                                259.50   \n",
       "Arable (%)                                                        10.00   \n",
       "Crops (%)                                                         15.00   \n",
       "Other (%)                                                         75.00   \n",
       "Climate                                                            2.00   \n",
       "Birthrate                                                         22.46   \n",
       "Deathrate                                                          3.27   \n",
       "Agriculture                                                         NaN   \n",
       "Industry                                                            NaN   \n",
       "Service                                                             NaN   \n",
       "\n",
       "                                                                      4  \n",
       "Country                                                        Andorra   \n",
       "Region                              WESTERN EUROPE                       \n",
       "Population                                                        71201  \n",
       "Area (sq. mi.)                                                      468  \n",
       "Pop. Density (per sq. mi.)                                       152.10  \n",
       "Coastline (coast/area ratio)                                       0.00  \n",
       "Net migration                                                      6.60  \n",
       "Infant mortality (per 1000 births)                                 4.05  \n",
       "GDP ($ per capita)                                             19000.00  \n",
       "Literacy (%)                                                     100.00  \n",
       "Phones (per 1000)                                                497.20  \n",
       "Arable (%)                                                         2.22  \n",
       "Crops (%)                                                          0.00  \n",
       "Other (%)                                                         97.78  \n",
       "Climate                                                            3.00  \n",
       "Birthrate                                                          8.71  \n",
       "Deathrate                                                          6.25  \n",
       "Agriculture                                                         NaN  \n",
       "Industry                                                            NaN  \n",
       "Service                                                             NaN  "
      ]
     },
     "execution_count": 5,
     "metadata": {},
     "output_type": "execute_result"
    }
   ],
   "source": [
    "# Initial look into the dataset\n",
    "df.head().T"
   ]
  },
  {
   "cell_type": "code",
   "execution_count": 6,
   "metadata": {},
   "outputs": [
    {
     "data": {
      "text/html": [
       "<div>\n",
       "<style scoped>\n",
       "    .dataframe tbody tr th:only-of-type {\n",
       "        vertical-align: middle;\n",
       "    }\n",
       "\n",
       "    .dataframe tbody tr th {\n",
       "        vertical-align: top;\n",
       "    }\n",
       "\n",
       "    .dataframe thead th {\n",
       "        text-align: right;\n",
       "    }\n",
       "</style>\n",
       "<table border=\"1\" class=\"dataframe\">\n",
       "  <thead>\n",
       "    <tr style=\"text-align: right;\">\n",
       "      <th></th>\n",
       "      <th>222</th>\n",
       "      <th>223</th>\n",
       "      <th>224</th>\n",
       "      <th>225</th>\n",
       "      <th>226</th>\n",
       "    </tr>\n",
       "  </thead>\n",
       "  <tbody>\n",
       "    <tr>\n",
       "      <th>Country</th>\n",
       "      <td>West Bank</td>\n",
       "      <td>Western Sahara</td>\n",
       "      <td>Yemen</td>\n",
       "      <td>Zambia</td>\n",
       "      <td>Zimbabwe</td>\n",
       "    </tr>\n",
       "    <tr>\n",
       "      <th>Region</th>\n",
       "      <td>NEAR EAST</td>\n",
       "      <td>NORTHERN AFRICA</td>\n",
       "      <td>NEAR EAST</td>\n",
       "      <td>SUB-SAHARAN AFRICA</td>\n",
       "      <td>SUB-SAHARAN AFRICA</td>\n",
       "    </tr>\n",
       "    <tr>\n",
       "      <th>Population</th>\n",
       "      <td>2460492</td>\n",
       "      <td>273008</td>\n",
       "      <td>21456188</td>\n",
       "      <td>11502010</td>\n",
       "      <td>12236805</td>\n",
       "    </tr>\n",
       "    <tr>\n",
       "      <th>Area (sq. mi.)</th>\n",
       "      <td>5860</td>\n",
       "      <td>266000</td>\n",
       "      <td>527970</td>\n",
       "      <td>752614</td>\n",
       "      <td>390580</td>\n",
       "    </tr>\n",
       "    <tr>\n",
       "      <th>Pop. Density (per sq. mi.)</th>\n",
       "      <td>419.90</td>\n",
       "      <td>1.00</td>\n",
       "      <td>40.60</td>\n",
       "      <td>15.30</td>\n",
       "      <td>31.30</td>\n",
       "    </tr>\n",
       "    <tr>\n",
       "      <th>Coastline (coast/area ratio)</th>\n",
       "      <td>0.00</td>\n",
       "      <td>0.42</td>\n",
       "      <td>0.36</td>\n",
       "      <td>0.00</td>\n",
       "      <td>0.00</td>\n",
       "    </tr>\n",
       "    <tr>\n",
       "      <th>Net migration</th>\n",
       "      <td>2.98</td>\n",
       "      <td>NaN</td>\n",
       "      <td>0.00</td>\n",
       "      <td>0.00</td>\n",
       "      <td>0.00</td>\n",
       "    </tr>\n",
       "    <tr>\n",
       "      <th>Infant mortality (per 1000 births)</th>\n",
       "      <td>19.62</td>\n",
       "      <td>NaN</td>\n",
       "      <td>61.50</td>\n",
       "      <td>88.29</td>\n",
       "      <td>67.69</td>\n",
       "    </tr>\n",
       "    <tr>\n",
       "      <th>GDP ($ per capita)</th>\n",
       "      <td>800.00</td>\n",
       "      <td>NaN</td>\n",
       "      <td>800.00</td>\n",
       "      <td>800.00</td>\n",
       "      <td>1900.00</td>\n",
       "    </tr>\n",
       "    <tr>\n",
       "      <th>Literacy (%)</th>\n",
       "      <td>NaN</td>\n",
       "      <td>NaN</td>\n",
       "      <td>50.20</td>\n",
       "      <td>80.60</td>\n",
       "      <td>90.70</td>\n",
       "    </tr>\n",
       "    <tr>\n",
       "      <th>Phones (per 1000)</th>\n",
       "      <td>145.20</td>\n",
       "      <td>NaN</td>\n",
       "      <td>37.20</td>\n",
       "      <td>8.20</td>\n",
       "      <td>26.80</td>\n",
       "    </tr>\n",
       "    <tr>\n",
       "      <th>Arable (%)</th>\n",
       "      <td>16.90</td>\n",
       "      <td>0.02</td>\n",
       "      <td>2.78</td>\n",
       "      <td>7.08</td>\n",
       "      <td>8.32</td>\n",
       "    </tr>\n",
       "    <tr>\n",
       "      <th>Crops (%)</th>\n",
       "      <td>18.97</td>\n",
       "      <td>0.00</td>\n",
       "      <td>0.24</td>\n",
       "      <td>0.03</td>\n",
       "      <td>0.34</td>\n",
       "    </tr>\n",
       "    <tr>\n",
       "      <th>Other (%)</th>\n",
       "      <td>64.13</td>\n",
       "      <td>99.98</td>\n",
       "      <td>96.98</td>\n",
       "      <td>92.90</td>\n",
       "      <td>91.34</td>\n",
       "    </tr>\n",
       "    <tr>\n",
       "      <th>Climate</th>\n",
       "      <td>3.00</td>\n",
       "      <td>1.00</td>\n",
       "      <td>1.00</td>\n",
       "      <td>2.00</td>\n",
       "      <td>2.00</td>\n",
       "    </tr>\n",
       "    <tr>\n",
       "      <th>Birthrate</th>\n",
       "      <td>31.67</td>\n",
       "      <td>NaN</td>\n",
       "      <td>42.89</td>\n",
       "      <td>41.00</td>\n",
       "      <td>28.01</td>\n",
       "    </tr>\n",
       "    <tr>\n",
       "      <th>Deathrate</th>\n",
       "      <td>3.92</td>\n",
       "      <td>NaN</td>\n",
       "      <td>8.30</td>\n",
       "      <td>19.93</td>\n",
       "      <td>21.84</td>\n",
       "    </tr>\n",
       "    <tr>\n",
       "      <th>Agriculture</th>\n",
       "      <td>0.09</td>\n",
       "      <td>NaN</td>\n",
       "      <td>0.14</td>\n",
       "      <td>0.22</td>\n",
       "      <td>0.18</td>\n",
       "    </tr>\n",
       "    <tr>\n",
       "      <th>Industry</th>\n",
       "      <td>0.28</td>\n",
       "      <td>NaN</td>\n",
       "      <td>0.47</td>\n",
       "      <td>0.29</td>\n",
       "      <td>0.24</td>\n",
       "    </tr>\n",
       "    <tr>\n",
       "      <th>Service</th>\n",
       "      <td>0.63</td>\n",
       "      <td>0.40</td>\n",
       "      <td>0.39</td>\n",
       "      <td>0.49</td>\n",
       "      <td>0.58</td>\n",
       "    </tr>\n",
       "  </tbody>\n",
       "</table>\n",
       "</div>"
      ],
      "text/plain": [
       "                                                                    222  \\\n",
       "Country                                                      West Bank    \n",
       "Region                              NEAR EAST                             \n",
       "Population                                                      2460492   \n",
       "Area (sq. mi.)                                                     5860   \n",
       "Pop. Density (per sq. mi.)                                       419.90   \n",
       "Coastline (coast/area ratio)                                       0.00   \n",
       "Net migration                                                      2.98   \n",
       "Infant mortality (per 1000 births)                                19.62   \n",
       "GDP ($ per capita)                                               800.00   \n",
       "Literacy (%)                                                        NaN   \n",
       "Phones (per 1000)                                                145.20   \n",
       "Arable (%)                                                        16.90   \n",
       "Crops (%)                                                         18.97   \n",
       "Other (%)                                                         64.13   \n",
       "Climate                                                            3.00   \n",
       "Birthrate                                                         31.67   \n",
       "Deathrate                                                          3.92   \n",
       "Agriculture                                                        0.09   \n",
       "Industry                                                           0.28   \n",
       "Service                                                            0.63   \n",
       "\n",
       "                                                                    223  \\\n",
       "Country                                                 Western Sahara    \n",
       "Region                              NORTHERN AFRICA                       \n",
       "Population                                                       273008   \n",
       "Area (sq. mi.)                                                   266000   \n",
       "Pop. Density (per sq. mi.)                                         1.00   \n",
       "Coastline (coast/area ratio)                                       0.42   \n",
       "Net migration                                                       NaN   \n",
       "Infant mortality (per 1000 births)                                  NaN   \n",
       "GDP ($ per capita)                                                  NaN   \n",
       "Literacy (%)                                                        NaN   \n",
       "Phones (per 1000)                                                   NaN   \n",
       "Arable (%)                                                         0.02   \n",
       "Crops (%)                                                          0.00   \n",
       "Other (%)                                                         99.98   \n",
       "Climate                                                            1.00   \n",
       "Birthrate                                                           NaN   \n",
       "Deathrate                                                           NaN   \n",
       "Agriculture                                                         NaN   \n",
       "Industry                                                            NaN   \n",
       "Service                                                            0.40   \n",
       "\n",
       "                                                                    224  \\\n",
       "Country                                                          Yemen    \n",
       "Region                              NEAR EAST                             \n",
       "Population                                                     21456188   \n",
       "Area (sq. mi.)                                                   527970   \n",
       "Pop. Density (per sq. mi.)                                        40.60   \n",
       "Coastline (coast/area ratio)                                       0.36   \n",
       "Net migration                                                      0.00   \n",
       "Infant mortality (per 1000 births)                                61.50   \n",
       "GDP ($ per capita)                                               800.00   \n",
       "Literacy (%)                                                      50.20   \n",
       "Phones (per 1000)                                                 37.20   \n",
       "Arable (%)                                                         2.78   \n",
       "Crops (%)                                                          0.24   \n",
       "Other (%)                                                         96.98   \n",
       "Climate                                                            1.00   \n",
       "Birthrate                                                         42.89   \n",
       "Deathrate                                                          8.30   \n",
       "Agriculture                                                        0.14   \n",
       "Industry                                                           0.47   \n",
       "Service                                                            0.39   \n",
       "\n",
       "                                                                    225  \\\n",
       "Country                                                         Zambia    \n",
       "Region                              SUB-SAHARAN AFRICA                    \n",
       "Population                                                     11502010   \n",
       "Area (sq. mi.)                                                   752614   \n",
       "Pop. Density (per sq. mi.)                                        15.30   \n",
       "Coastline (coast/area ratio)                                       0.00   \n",
       "Net migration                                                      0.00   \n",
       "Infant mortality (per 1000 births)                                88.29   \n",
       "GDP ($ per capita)                                               800.00   \n",
       "Literacy (%)                                                      80.60   \n",
       "Phones (per 1000)                                                  8.20   \n",
       "Arable (%)                                                         7.08   \n",
       "Crops (%)                                                          0.03   \n",
       "Other (%)                                                         92.90   \n",
       "Climate                                                            2.00   \n",
       "Birthrate                                                         41.00   \n",
       "Deathrate                                                         19.93   \n",
       "Agriculture                                                        0.22   \n",
       "Industry                                                           0.29   \n",
       "Service                                                            0.49   \n",
       "\n",
       "                                                                    226  \n",
       "Country                                                       Zimbabwe   \n",
       "Region                              SUB-SAHARAN AFRICA                   \n",
       "Population                                                     12236805  \n",
       "Area (sq. mi.)                                                   390580  \n",
       "Pop. Density (per sq. mi.)                                        31.30  \n",
       "Coastline (coast/area ratio)                                       0.00  \n",
       "Net migration                                                      0.00  \n",
       "Infant mortality (per 1000 births)                                67.69  \n",
       "GDP ($ per capita)                                              1900.00  \n",
       "Literacy (%)                                                      90.70  \n",
       "Phones (per 1000)                                                 26.80  \n",
       "Arable (%)                                                         8.32  \n",
       "Crops (%)                                                          0.34  \n",
       "Other (%)                                                         91.34  \n",
       "Climate                                                            2.00  \n",
       "Birthrate                                                         28.01  \n",
       "Deathrate                                                         21.84  \n",
       "Agriculture                                                        0.18  \n",
       "Industry                                                           0.24  \n",
       "Service                                                            0.58  "
      ]
     },
     "execution_count": 6,
     "metadata": {},
     "output_type": "execute_result"
    }
   ],
   "source": [
    "df.tail().T"
   ]
  },
  {
   "cell_type": "code",
   "execution_count": 7,
   "metadata": {},
   "outputs": [
    {
     "data": {
      "text/html": [
       "<div>\n",
       "<style scoped>\n",
       "    .dataframe tbody tr th:only-of-type {\n",
       "        vertical-align: middle;\n",
       "    }\n",
       "\n",
       "    .dataframe tbody tr th {\n",
       "        vertical-align: top;\n",
       "    }\n",
       "\n",
       "    .dataframe thead th {\n",
       "        text-align: right;\n",
       "    }\n",
       "</style>\n",
       "<table border=\"1\" class=\"dataframe\">\n",
       "  <thead>\n",
       "    <tr style=\"text-align: right;\">\n",
       "      <th></th>\n",
       "      <th>125</th>\n",
       "      <th>122</th>\n",
       "      <th>156</th>\n",
       "      <th>150</th>\n",
       "      <th>79</th>\n",
       "    </tr>\n",
       "  </thead>\n",
       "  <tbody>\n",
       "    <tr>\n",
       "      <th>Country</th>\n",
       "      <td>Malawi</td>\n",
       "      <td>Macau</td>\n",
       "      <td>Pakistan</td>\n",
       "      <td>Nicaragua</td>\n",
       "      <td>Greece</td>\n",
       "    </tr>\n",
       "    <tr>\n",
       "      <th>Region</th>\n",
       "      <td>SUB-SAHARAN AFRICA</td>\n",
       "      <td>ASIA (EX. NEAR EAST)</td>\n",
       "      <td>ASIA (EX. NEAR EAST)</td>\n",
       "      <td>LATIN AMER. &amp; CARIB</td>\n",
       "      <td>WESTERN EUROPE</td>\n",
       "    </tr>\n",
       "    <tr>\n",
       "      <th>Population</th>\n",
       "      <td>13013926</td>\n",
       "      <td>453125</td>\n",
       "      <td>165803560</td>\n",
       "      <td>5570129</td>\n",
       "      <td>10688058</td>\n",
       "    </tr>\n",
       "    <tr>\n",
       "      <th>Area (sq. mi.)</th>\n",
       "      <td>118480</td>\n",
       "      <td>28</td>\n",
       "      <td>803940</td>\n",
       "      <td>129494</td>\n",
       "      <td>131940</td>\n",
       "    </tr>\n",
       "    <tr>\n",
       "      <th>Pop. Density (per sq. mi.)</th>\n",
       "      <td>109.80</td>\n",
       "      <td>16183.00</td>\n",
       "      <td>206.20</td>\n",
       "      <td>43.00</td>\n",
       "      <td>81.00</td>\n",
       "    </tr>\n",
       "    <tr>\n",
       "      <th>Coastline (coast/area ratio)</th>\n",
       "      <td>0.00</td>\n",
       "      <td>146.43</td>\n",
       "      <td>0.13</td>\n",
       "      <td>0.70</td>\n",
       "      <td>10.37</td>\n",
       "    </tr>\n",
       "    <tr>\n",
       "      <th>Net migration</th>\n",
       "      <td>0.00</td>\n",
       "      <td>4.86</td>\n",
       "      <td>-2.77</td>\n",
       "      <td>-1.22</td>\n",
       "      <td>2.35</td>\n",
       "    </tr>\n",
       "    <tr>\n",
       "      <th>Infant mortality (per 1000 births)</th>\n",
       "      <td>103.32</td>\n",
       "      <td>4.39</td>\n",
       "      <td>72.44</td>\n",
       "      <td>29.11</td>\n",
       "      <td>5.53</td>\n",
       "    </tr>\n",
       "    <tr>\n",
       "      <th>GDP ($ per capita)</th>\n",
       "      <td>600.00</td>\n",
       "      <td>19400.00</td>\n",
       "      <td>2100.00</td>\n",
       "      <td>2300.00</td>\n",
       "      <td>20000.00</td>\n",
       "    </tr>\n",
       "    <tr>\n",
       "      <th>Literacy (%)</th>\n",
       "      <td>62.70</td>\n",
       "      <td>94.50</td>\n",
       "      <td>45.70</td>\n",
       "      <td>67.50</td>\n",
       "      <td>97.50</td>\n",
       "    </tr>\n",
       "    <tr>\n",
       "      <th>Phones (per 1000)</th>\n",
       "      <td>7.90</td>\n",
       "      <td>384.90</td>\n",
       "      <td>31.80</td>\n",
       "      <td>39.70</td>\n",
       "      <td>589.70</td>\n",
       "    </tr>\n",
       "    <tr>\n",
       "      <th>Arable (%)</th>\n",
       "      <td>23.38</td>\n",
       "      <td>0.00</td>\n",
       "      <td>27.87</td>\n",
       "      <td>15.94</td>\n",
       "      <td>21.10</td>\n",
       "    </tr>\n",
       "    <tr>\n",
       "      <th>Crops (%)</th>\n",
       "      <td>1.49</td>\n",
       "      <td>0.00</td>\n",
       "      <td>0.87</td>\n",
       "      <td>1.94</td>\n",
       "      <td>8.78</td>\n",
       "    </tr>\n",
       "    <tr>\n",
       "      <th>Other (%)</th>\n",
       "      <td>75.13</td>\n",
       "      <td>100.00</td>\n",
       "      <td>71.26</td>\n",
       "      <td>82.12</td>\n",
       "      <td>70.12</td>\n",
       "    </tr>\n",
       "    <tr>\n",
       "      <th>Climate</th>\n",
       "      <td>2.00</td>\n",
       "      <td>2.00</td>\n",
       "      <td>1.00</td>\n",
       "      <td>2.00</td>\n",
       "      <td>3.00</td>\n",
       "    </tr>\n",
       "    <tr>\n",
       "      <th>Birthrate</th>\n",
       "      <td>43.13</td>\n",
       "      <td>8.48</td>\n",
       "      <td>29.74</td>\n",
       "      <td>24.51</td>\n",
       "      <td>9.68</td>\n",
       "    </tr>\n",
       "    <tr>\n",
       "      <th>Deathrate</th>\n",
       "      <td>19.33</td>\n",
       "      <td>4.47</td>\n",
       "      <td>8.23</td>\n",
       "      <td>4.45</td>\n",
       "      <td>10.24</td>\n",
       "    </tr>\n",
       "    <tr>\n",
       "      <th>Agriculture</th>\n",
       "      <td>0.34</td>\n",
       "      <td>0.00</td>\n",
       "      <td>0.22</td>\n",
       "      <td>0.17</td>\n",
       "      <td>0.05</td>\n",
       "    </tr>\n",
       "    <tr>\n",
       "      <th>Industry</th>\n",
       "      <td>0.16</td>\n",
       "      <td>0.07</td>\n",
       "      <td>0.25</td>\n",
       "      <td>0.28</td>\n",
       "      <td>0.21</td>\n",
       "    </tr>\n",
       "    <tr>\n",
       "      <th>Service</th>\n",
       "      <td>0.50</td>\n",
       "      <td>0.93</td>\n",
       "      <td>0.53</td>\n",
       "      <td>0.56</td>\n",
       "      <td>0.73</td>\n",
       "    </tr>\n",
       "  </tbody>\n",
       "</table>\n",
       "</div>"
      ],
      "text/plain": [
       "                                                                    125  \\\n",
       "Country                                                         Malawi    \n",
       "Region                              SUB-SAHARAN AFRICA                    \n",
       "Population                                                     13013926   \n",
       "Area (sq. mi.)                                                   118480   \n",
       "Pop. Density (per sq. mi.)                                       109.80   \n",
       "Coastline (coast/area ratio)                                       0.00   \n",
       "Net migration                                                      0.00   \n",
       "Infant mortality (per 1000 births)                               103.32   \n",
       "GDP ($ per capita)                                               600.00   \n",
       "Literacy (%)                                                      62.70   \n",
       "Phones (per 1000)                                                  7.90   \n",
       "Arable (%)                                                        23.38   \n",
       "Crops (%)                                                          1.49   \n",
       "Other (%)                                                         75.13   \n",
       "Climate                                                            2.00   \n",
       "Birthrate                                                         43.13   \n",
       "Deathrate                                                         19.33   \n",
       "Agriculture                                                        0.34   \n",
       "Industry                                                           0.16   \n",
       "Service                                                            0.50   \n",
       "\n",
       "                                                              122  \\\n",
       "Country                                                    Macau    \n",
       "Region                              ASIA (EX. NEAR EAST)            \n",
       "Population                                                 453125   \n",
       "Area (sq. mi.)                                                 28   \n",
       "Pop. Density (per sq. mi.)                               16183.00   \n",
       "Coastline (coast/area ratio)                               146.43   \n",
       "Net migration                                                4.86   \n",
       "Infant mortality (per 1000 births)                           4.39   \n",
       "GDP ($ per capita)                                       19400.00   \n",
       "Literacy (%)                                                94.50   \n",
       "Phones (per 1000)                                          384.90   \n",
       "Arable (%)                                                   0.00   \n",
       "Crops (%)                                                    0.00   \n",
       "Other (%)                                                  100.00   \n",
       "Climate                                                      2.00   \n",
       "Birthrate                                                    8.48   \n",
       "Deathrate                                                    4.47   \n",
       "Agriculture                                                  0.00   \n",
       "Industry                                                     0.07   \n",
       "Service                                                      0.93   \n",
       "\n",
       "                                                              156  \\\n",
       "Country                                                 Pakistan    \n",
       "Region                              ASIA (EX. NEAR EAST)            \n",
       "Population                                              165803560   \n",
       "Area (sq. mi.)                                             803940   \n",
       "Pop. Density (per sq. mi.)                                 206.20   \n",
       "Coastline (coast/area ratio)                                 0.13   \n",
       "Net migration                                               -2.77   \n",
       "Infant mortality (per 1000 births)                          72.44   \n",
       "GDP ($ per capita)                                        2100.00   \n",
       "Literacy (%)                                                45.70   \n",
       "Phones (per 1000)                                           31.80   \n",
       "Arable (%)                                                  27.87   \n",
       "Crops (%)                                                    0.87   \n",
       "Other (%)                                                   71.26   \n",
       "Climate                                                      1.00   \n",
       "Birthrate                                                   29.74   \n",
       "Deathrate                                                    8.23   \n",
       "Agriculture                                                  0.22   \n",
       "Industry                                                     0.25   \n",
       "Service                                                      0.53   \n",
       "\n",
       "                                                        150  \\\n",
       "Country                                          Nicaragua    \n",
       "Region                              LATIN AMER. & CARIB       \n",
       "Population                                          5570129   \n",
       "Area (sq. mi.)                                       129494   \n",
       "Pop. Density (per sq. mi.)                            43.00   \n",
       "Coastline (coast/area ratio)                           0.70   \n",
       "Net migration                                         -1.22   \n",
       "Infant mortality (per 1000 births)                    29.11   \n",
       "GDP ($ per capita)                                  2300.00   \n",
       "Literacy (%)                                          67.50   \n",
       "Phones (per 1000)                                     39.70   \n",
       "Arable (%)                                            15.94   \n",
       "Crops (%)                                              1.94   \n",
       "Other (%)                                             82.12   \n",
       "Climate                                                2.00   \n",
       "Birthrate                                             24.51   \n",
       "Deathrate                                              4.45   \n",
       "Agriculture                                            0.17   \n",
       "Industry                                               0.28   \n",
       "Service                                                0.56   \n",
       "\n",
       "                                                                    79   \n",
       "Country                                                         Greece   \n",
       "Region                              WESTERN EUROPE                       \n",
       "Population                                                     10688058  \n",
       "Area (sq. mi.)                                                   131940  \n",
       "Pop. Density (per sq. mi.)                                        81.00  \n",
       "Coastline (coast/area ratio)                                      10.37  \n",
       "Net migration                                                      2.35  \n",
       "Infant mortality (per 1000 births)                                 5.53  \n",
       "GDP ($ per capita)                                             20000.00  \n",
       "Literacy (%)                                                      97.50  \n",
       "Phones (per 1000)                                                589.70  \n",
       "Arable (%)                                                        21.10  \n",
       "Crops (%)                                                          8.78  \n",
       "Other (%)                                                         70.12  \n",
       "Climate                                                            3.00  \n",
       "Birthrate                                                          9.68  \n",
       "Deathrate                                                         10.24  \n",
       "Agriculture                                                        0.05  \n",
       "Industry                                                           0.21  \n",
       "Service                                                            0.73  "
      ]
     },
     "execution_count": 7,
     "metadata": {},
     "output_type": "execute_result"
    }
   ],
   "source": [
    "df.sample(5, random_state=rstate).T"
   ]
  },
  {
   "cell_type": "code",
   "execution_count": 8,
   "metadata": {},
   "outputs": [
    {
     "data": {
      "text/plain": [
       "(227, 20)"
      ]
     },
     "execution_count": 8,
     "metadata": {},
     "output_type": "execute_result"
    }
   ],
   "source": [
    "# Dataset size\n",
    "df.shape"
   ]
  },
  {
   "cell_type": "markdown",
   "metadata": {},
   "source": [
    "## Data Preparation"
   ]
  },
  {
   "cell_type": "code",
   "execution_count": 9,
   "metadata": {},
   "outputs": [
    {
     "data": {
      "text/plain": [
       "Index(['Country', 'Region', 'Population', 'Area (sq. mi.)',\n",
       "       'Pop. Density (per sq. mi.)', 'Coastline (coast/area ratio)',\n",
       "       'Net migration', 'Infant mortality (per 1000 births)',\n",
       "       'GDP ($ per capita)', 'Literacy (%)', 'Phones (per 1000)', 'Arable (%)',\n",
       "       'Crops (%)', 'Other (%)', 'Climate', 'Birthrate', 'Deathrate',\n",
       "       'Agriculture', 'Industry', 'Service'],\n",
       "      dtype='object')"
      ]
     },
     "execution_count": 9,
     "metadata": {},
     "output_type": "execute_result"
    }
   ],
   "source": [
    "# Variables\n",
    "df.columns"
   ]
  },
  {
   "cell_type": "code",
   "execution_count": 10,
   "metadata": {},
   "outputs": [],
   "source": [
    "# Naming convention, simplify column names and build a dataset dictionary (see above)\n",
    "df.rename(columns={\"Country\":\"country\", \n",
    "                  \"Region\":\"region\", \n",
    "                  \"Population\":\"population\", \n",
    "                  \"Area (sq. mi.)\":\"area\", \n",
    "                  \"Pop. Density (per sq. mi.)\":\"popdensity\", \n",
    "                  \"Coastline (coast/area ratio)\":\"coast\", \n",
    "                  \"Net migration\":\"netmigr\", \n",
    "                  \"Infant mortality (per 1000 births)\":\"infmortality\", \n",
    "                  \"GDP ($ per capita)\":\"gdp\", \n",
    "                  \"Literacy (%)\":\"literacy\", \n",
    "                  \"Phones (per 1000)\":\"phones\", \n",
    "                  \"Arable (%)\":\"arable\", \n",
    "                  \"Crops (%)\":\"crops\", \n",
    "                  \"Other (%)\":\"other\", \n",
    "                  \"Climate\":\"climate\", \n",
    "                  \"Birthrate\":\"birthrate\", \n",
    "                  \"Deathrate\":\"deathrate\", \n",
    "                  \"Agriculture\":\"agriculture\", \n",
    "                  \"Industry\":\"industry\", \n",
    "                  \"Service\":\"service\"}, inplace=True)"
   ]
  },
  {
   "cell_type": "code",
   "execution_count": 11,
   "metadata": {},
   "outputs": [
    {
     "data": {
      "text/plain": [
       "Index(['country', 'region', 'population', 'area', 'popdensity', 'coast',\n",
       "       'netmigr', 'infmortality', 'gdp', 'literacy', 'phones', 'arable',\n",
       "       'crops', 'other', 'climate', 'birthrate', 'deathrate', 'agriculture',\n",
       "       'industry', 'service'],\n",
       "      dtype='object')"
      ]
     },
     "execution_count": 11,
     "metadata": {},
     "output_type": "execute_result"
    }
   ],
   "source": [
    "df.columns"
   ]
  },
  {
   "cell_type": "code",
   "execution_count": 12,
   "metadata": {},
   "outputs": [
    {
     "data": {
      "text/plain": [
       "country                                     Poland \n",
       "region          EASTERN EUROPE                     \n",
       "population                                 38536869\n",
       "area                                         312685\n",
       "popdensity                                   123.30\n",
       "coast                                          0.16\n",
       "netmigr                                       -0.49\n",
       "infmortality                                   8.51\n",
       "gdp                                        11100.00\n",
       "literacy                                      99.80\n",
       "phones                                       306.30\n",
       "arable                                        45.91\n",
       "crops                                          1.12\n",
       "other                                         52.97\n",
       "climate                                        3.00\n",
       "birthrate                                      9.85\n",
       "deathrate                                      9.89\n",
       "agriculture                                    0.05\n",
       "industry                                       0.31\n",
       "service                                        0.64\n",
       "Name: 163, dtype: object"
      ]
     },
     "execution_count": 12,
     "metadata": {},
     "output_type": "execute_result"
    }
   ],
   "source": [
    "# Examplary country data\n",
    "df.iloc[163]"
   ]
  },
  {
   "cell_type": "code",
   "execution_count": 13,
   "metadata": {},
   "outputs": [
    {
     "data": {
      "text/plain": [
       "0.0"
      ]
     },
     "execution_count": 13,
     "metadata": {},
     "output_type": "execute_result"
    }
   ],
   "source": [
    "# Is there duplicated data in the dataset?\n",
    "df.duplicated().mean()"
   ]
  },
  {
   "cell_type": "code",
   "execution_count": 14,
   "metadata": {},
   "outputs": [
    {
     "data": {
      "text/plain": [
       "1.0"
      ]
     },
     "execution_count": 14,
     "metadata": {},
     "output_type": "execute_result"
    }
   ],
   "source": [
    "# Country name can be treated as an unique identifier (no duplicated rows)\n",
    "df.country.value_counts().mean()"
   ]
  },
  {
   "cell_type": "code",
   "execution_count": 15,
   "metadata": {},
   "outputs": [
    {
     "name": "stdout",
     "output_type": "stream",
     "text": [
      "<class 'pandas.core.frame.DataFrame'>\n",
      "RangeIndex: 227 entries, 0 to 226\n",
      "Data columns (total 20 columns):\n",
      "country         227 non-null object\n",
      "region          227 non-null object\n",
      "population      227 non-null int64\n",
      "area            227 non-null int64\n",
      "popdensity      227 non-null float64\n",
      "coast           227 non-null float64\n",
      "netmigr         224 non-null float64\n",
      "infmortality    224 non-null float64\n",
      "gdp             226 non-null float64\n",
      "literacy        209 non-null float64\n",
      "phones          223 non-null float64\n",
      "arable          225 non-null float64\n",
      "crops           225 non-null float64\n",
      "other           225 non-null float64\n",
      "climate         205 non-null float64\n",
      "birthrate       224 non-null float64\n",
      "deathrate       223 non-null float64\n",
      "agriculture     212 non-null float64\n",
      "industry        211 non-null float64\n",
      "service         212 non-null float64\n",
      "dtypes: float64(16), int64(2), object(2)\n",
      "memory usage: 35.5+ KB\n"
     ]
    }
   ],
   "source": [
    "# What are the dataset column data types?\n",
    "df.info()"
   ]
  },
  {
   "cell_type": "code",
   "execution_count": null,
   "metadata": {},
   "outputs": [],
   "source": [
    "# What are climate categories?\n",
    "df.climate.value_counts()"
   ]
  },
  {
   "cell_type": "code",
   "execution_count": null,
   "metadata": {},
   "outputs": [],
   "source": [
    "# Make the strings and climate categorical\n",
    "df.country = df.country.astype('category')\n",
    "df.region = df.region.astype('category')\n",
    "df.climate = df.climate.astype('category')\n",
    "\n",
    "# Remove blank spaces from region and country column values\n",
    "df.region = df.region.str.strip()\n",
    "df.country = df.country.str.strip()"
   ]
  },
  {
   "cell_type": "code",
   "execution_count": null,
   "metadata": {},
   "outputs": [],
   "source": [
    "# Remove 'other' column as it is not clear what it represents\n",
    "df.drop('other', axis=1, inplace=True)"
   ]
  },
  {
   "cell_type": "code",
   "execution_count": null,
   "metadata": {},
   "outputs": [],
   "source": [
    "# Check\n",
    "df.info()"
   ]
  },
  {
   "cell_type": "code",
   "execution_count": null,
   "metadata": {},
   "outputs": [],
   "source": [
    "df.describe().T"
   ]
  },
  {
   "cell_type": "code",
   "execution_count": null,
   "metadata": {},
   "outputs": [],
   "source": [
    "# What are the columns with missing values?\n",
    "df.columns[np.sum(df.isnull()) != 0]"
   ]
  },
  {
   "cell_type": "code",
   "execution_count": null,
   "metadata": {},
   "outputs": [],
   "source": [
    "# Number of missing values by variable\n",
    "df.isnull().sum()"
   ]
  },
  {
   "cell_type": "code",
   "execution_count": null,
   "metadata": {},
   "outputs": [],
   "source": [
    "# Missing data\n",
    "total = df.isnull().sum().sort_values(ascending=False)\n",
    "percent = (df.isnull().sum()/df.isnull().count()).sort_values(ascending=False)\n",
    "missing_data = pd.concat([total, percent], axis=1, keys=['Total', 'Percent'])\n",
    "missing_data"
   ]
  },
  {
   "cell_type": "code",
   "execution_count": null,
   "metadata": {},
   "outputs": [],
   "source": [
    "# The number of columns with more than 10% of the column missing\n",
    "np.sum(np.sum(df.isnull())/df.shape[0] > .10)"
   ]
  },
  {
   "cell_type": "code",
   "execution_count": null,
   "metadata": {},
   "outputs": [],
   "source": [
    "# netmigr\n",
    "df[df.netmigr.isnull()]"
   ]
  },
  {
   "cell_type": "code",
   "execution_count": null,
   "metadata": {},
   "outputs": [],
   "source": [
    "# Data imputation from: https://www.indexmundi.com/g/g.aspx?c=wf&v=27\n",
    "df.loc[df.country == 'Cook Islands', 'netmigr'] = -0.99\n",
    "df.loc[df.country == 'Wallis and Futuna', 'netmigr'] = -5.42\n",
    "df.loc[df.country == 'Western Sahara', 'netmigr'] = -6.05"
   ]
  },
  {
   "cell_type": "code",
   "execution_count": null,
   "metadata": {},
   "outputs": [],
   "source": [
    "df[df.netmigr.isnull()]"
   ]
  },
  {
   "cell_type": "code",
   "execution_count": null,
   "metadata": {},
   "outputs": [],
   "source": [
    "# netmigr\n",
    "df[df.infmortality.isnull()]"
   ]
  },
  {
   "cell_type": "code",
   "execution_count": null,
   "metadata": {},
   "outputs": [],
   "source": [
    "# Data imputation from: https://www.indexmundi.com/g/g.aspx?c=wf&v=27\n",
    "df.loc[df.country == 'Cook Islands', 'infmortality'] = 14.81\n",
    "df.loc[df.country == 'Wallis and Futuna', 'infmortality'] = 4.55\n",
    "df.loc[df.country == 'Western Sahara', 'infmortality'] = 57.5"
   ]
  },
  {
   "cell_type": "code",
   "execution_count": null,
   "metadata": {},
   "outputs": [],
   "source": [
    "df[df.infmortality.isnull()]"
   ]
  },
  {
   "cell_type": "code",
   "execution_count": null,
   "metadata": {},
   "outputs": [],
   "source": [
    "# gdp\n",
    "df[df.gdp.isnull()]"
   ]
  },
  {
   "cell_type": "code",
   "execution_count": null,
   "metadata": {},
   "outputs": [],
   "source": [
    "# Data imputation from: https://www.indexmundi.com/g/g.aspx?c=wf&v=27\n",
    "df.loc[df.country == 'Western Sahara', 'gdp'] = 2500"
   ]
  },
  {
   "cell_type": "code",
   "execution_count": null,
   "metadata": {},
   "outputs": [],
   "source": [
    "df[df.gdp.isnull()]"
   ]
  },
  {
   "cell_type": "code",
   "execution_count": null,
   "metadata": {},
   "outputs": [],
   "source": [
    "# literacy\n",
    "df[df.literacy.isnull()]"
   ]
  },
  {
   "cell_type": "code",
   "execution_count": null,
   "metadata": {},
   "outputs": [],
   "source": [
    "# Data imputation from: https://www.indexmundi.com/g/g.aspx?c=wf&v=27\n",
    "df.loc[df.country == 'Bosnia & Herzegovina', 'literacy'] = 98\n",
    "df.loc[df.country == 'Faroe Islands', 'literacy'] = np.nan\n",
    "df.loc[df.country == 'Gaza Strip', 'literacy'] = 95.3\n",
    "df.loc[df.country == 'Gibraltar', 'literacy'] = np.nan\n",
    "df.loc[df.country == 'Greenland', 'literacy'] = 100\n",
    "df.loc[df.country == 'Guernsey', 'literacy'] = np.nan\n",
    "df.loc[df.country == 'Isle of Man', 'literacy'] = np.nan\n",
    "df.loc[df.country == 'Jersey', 'literacy'] = np.nan\n",
    "df.loc[df.country == 'Kiribati', 'literacy'] = np.nan\n",
    "df.loc[df.country == 'Macedonia', 'literacy'] = 97.4\n",
    "df.loc[df.country == 'Mayotte', 'literacy'] = np.nan\n",
    "df.loc[df.country == 'Nauru', 'literacy'] = np.nan\n",
    "df.loc[df.country == 'Slovakia', 'literacy'] = 99.6\n",
    "df.loc[df.country == 'Solomon Islands', 'literacy'] = 84.1\n",
    "df.loc[df.country == 'Tuvalu', 'literacy'] = 56\n",
    "df.loc[df.country == 'Virgin Islands', 'literacy'] = np.nan\n",
    "df.loc[df.country == 'West Bank', 'literacy'] = 95.3\n",
    "df.loc[df.country == 'Western Sahara', 'literacy'] = np.nan"
   ]
  },
  {
   "cell_type": "code",
   "execution_count": null,
   "metadata": {},
   "outputs": [],
   "source": [
    "# literacy\n",
    "df[df.literacy.isnull()]"
   ]
  },
  {
   "cell_type": "code",
   "execution_count": null,
   "metadata": {},
   "outputs": [],
   "source": [
    "# Fill all remaining Nan values with mean of columns\n",
    "df.fillna(df.mean(), inplace=True)"
   ]
  },
  {
   "cell_type": "code",
   "execution_count": null,
   "metadata": {},
   "outputs": [],
   "source": [
    "# Remove 'climate' column as it is not clear how it is setup and its variability is low\n",
    "df.drop('climate', axis=1, inplace=True)"
   ]
  },
  {
   "cell_type": "code",
   "execution_count": null,
   "metadata": {},
   "outputs": [],
   "source": [
    "# Missing data\n",
    "total = df.isnull().sum().sort_values(ascending=False)\n",
    "percent = (df.isnull().sum()/df.isnull().count()).sort_values(ascending=False)\n",
    "missing_data = pd.concat([total, percent], axis=1, keys=['Total', 'Percent'])\n",
    "missing_data"
   ]
  },
  {
   "cell_type": "code",
   "execution_count": null,
   "metadata": {},
   "outputs": [],
   "source": [
    "Outliers"
   ]
  },
  {
   "cell_type": "code",
   "execution_count": null,
   "metadata": {},
   "outputs": [],
   "source": []
  },
  {
   "cell_type": "code",
   "execution_count": null,
   "metadata": {},
   "outputs": [],
   "source": []
  },
  {
   "cell_type": "code",
   "execution_count": null,
   "metadata": {},
   "outputs": [],
   "source": []
  },
  {
   "cell_type": "code",
   "execution_count": null,
   "metadata": {},
   "outputs": [],
   "source": []
  },
  {
   "cell_type": "code",
   "execution_count": null,
   "metadata": {},
   "outputs": [],
   "source": []
  },
  {
   "cell_type": "code",
   "execution_count": null,
   "metadata": {},
   "outputs": [],
   "source": []
  },
  {
   "cell_type": "code",
   "execution_count": null,
   "metadata": {},
   "outputs": [],
   "source": []
  },
  {
   "cell_type": "code",
   "execution_count": null,
   "metadata": {},
   "outputs": [],
   "source": []
  },
  {
   "cell_type": "code",
   "execution_count": null,
   "metadata": {},
   "outputs": [],
   "source": []
  },
  {
   "cell_type": "code",
   "execution_count": null,
   "metadata": {},
   "outputs": [],
   "source": []
  },
  {
   "cell_type": "code",
   "execution_count": null,
   "metadata": {},
   "outputs": [],
   "source": [
    "# What regions do we have?\n",
    "count_countries_per_region = df.region.value_counts()\n",
    "count_countries_per_region"
   ]
  },
  {
   "cell_type": "code",
   "execution_count": null,
   "metadata": {},
   "outputs": [],
   "source": [
    "# Which regions are there, how many countries that fall into them, \n",
    "# what is their population and their total area?\n",
    "#df.groupby(['region']).mean()[['population', 'area']]\n",
    "df.groupby(['region']).agg({'country':'count', 'population':'sum', 'area':'sum'})"
   ]
  },
  {
   "cell_type": "code",
   "execution_count": null,
   "metadata": {},
   "outputs": [],
   "source": [
    "# Show countries data by region\n",
    "\n",
    "#df_by_region = df.set_index(['region', 'country']).sort_index()\n",
    "#df_by_region.xs('ASIA (EX. NEAR EAST)')\n",
    "#df_by_region.loc['OCEANIA', :] \n",
    "\n",
    "#df[df.region == 'ASIA (EX. NEAR EAST)']\n",
    "\n",
    "df.query(\"region == 'ASIA (EX. NEAR EAST)' and gdp > 2500\")"
   ]
  },
  {
   "cell_type": "code",
   "execution_count": null,
   "metadata": {},
   "outputs": [],
   "source": [
    "(count_countries_per_region/df.shape[0]).plot(kind=\"bar\", figsize=(12,8));\n",
    "plt.title('Proportion of Number of Countries per Region')\n",
    "plt.xlabel('Percent of Countries')\n",
    "plt.ylabel('Region')\n",
    "plt.show();"
   ]
  },
  {
   "cell_type": "code",
   "execution_count": null,
   "metadata": {},
   "outputs": [],
   "source": [
    "# GDPs per region\n",
    "df.boxplot(column='gdp', by='region', figsize=(12,8));\n",
    "plt.xticks(rotation=90);\n",
    "plt.title('')\n",
    "plt.xlabel('Regions')\n",
    "plt.ylabel('GDP in $ per capita')\n",
    "plt.show();"
   ]
  },
  {
   "cell_type": "code",
   "execution_count": null,
   "metadata": {},
   "outputs": [],
   "source": [
    "# What countries belong to the NEAR EAST region?\n",
    "df[df.region == \"NEAR EAST\"][['country']].sort_values(by=['country'], ascending=True)"
   ]
  },
  {
   "cell_type": "code",
   "execution_count": null,
   "metadata": {},
   "outputs": [],
   "source": [
    "# What countries belong to the NEAR EAST region?\n",
    "df[df.region == \"C.W. OF IND. STATES\"][['country']].sort_values(by=['country'], ascending=True)"
   ]
  },
  {
   "cell_type": "markdown",
   "metadata": {},
   "source": [
    "Combine regions close to each other geographically and in terms of their GDP\n",
    "- Europe: WESTERN EUROPE + EASTERN EUROPE + BALTICS  + C.W. OF IND. STATES (Belarus, Moldova, Ukraine)\n",
    "- Africa: SUB-SAHARAN AFRICA + NORTHERN AFRICA\n",
    "- Latin America and the Caribbean: LATIN AMER. & CARIB\n",
    "- Northern America: NORTHERN AMERICA\n",
    "- Asia: ASIA (EX. NEAR EAST) + C.W. OF IND. STATES (Armenia, Azarbaijan, Georgia, Kazakhstan, Kyrgyzstan, Russia, Tajikistan, Turkmenistan, Uzbekistan)\n",
    "- Oceania: OCEANIA\n",
    "- Middle East: NEAR EAST"
   ]
  },
  {
   "cell_type": "code",
   "execution_count": null,
   "metadata": {},
   "outputs": [],
   "source": [
    "df.loc[df.country == 'Ukraine', 'region2'] = 'Europe'"
   ]
  },
  {
   "cell_type": "code",
   "execution_count": null,
   "metadata": {},
   "outputs": [],
   "source": [
    "df[df.country == 'Ukraine']"
   ]
  },
  {
   "cell_type": "code",
   "execution_count": null,
   "metadata": {},
   "outputs": [],
   "source": [
    "# Remap new region definition to a new region2 column\n",
    "mask = df.region == 'SUB-SAHARAN AFRICA'\n",
    "df.loc[mask, 'region2'] = 'Africa'\n",
    "mask = df.region == 'NORTHERN AFRICA'\n",
    "df.loc[mask, 'region2'] = 'Africa'\n",
    "\n",
    "mask = df.region == 'LATIN AMER. & CARIB'\n",
    "df.loc[mask, 'region2'] = 'Latin America and the Caribbean'\n",
    "\n",
    "mask = df.region == 'NORTHERN AMERICA'\n",
    "df.loc[mask, 'region2'] = 'Northern America'\n",
    "\n",
    "mask = df.region == 'ASIA (EX. NEAR EAST)'\n",
    "df.loc[mask, 'region2'] = 'Asia'\n",
    "mask = df.region == 'C.W. OF IND. STATES'\n",
    "df.loc[mask, 'region2'] = 'Asia'\n",
    "\n",
    "mask = df.region == 'OCEANIA'\n",
    "df.loc[mask, 'region2'] = 'Oceania'\n",
    "\n",
    "mask = df.region == 'NEAR EAST'\n",
    "df.loc[mask, 'region2'] = 'Middle East'\n",
    "\n",
    "mask = df.region == 'WESTERN EUROPE'\n",
    "df.loc[mask, 'region2'] = 'Europe'\n",
    "mask = df.region == 'EASTERN EUROPE'\n",
    "df.loc[mask, 'region2'] = 'Europe'\n",
    "mask = df.region == 'BALTICS'\n",
    "df.loc[mask, 'region2'] = 'Europe'\n",
    "df.loc[df.country == 'Belarus', 'region2'] = 'Europe'\n",
    "df.loc[df.country == 'Moldova', 'region2'] = 'Europe'\n",
    "df.loc[df.country == 'Ukraine', 'region2'] = 'Europe'"
   ]
  },
  {
   "cell_type": "code",
   "execution_count": null,
   "metadata": {},
   "outputs": [],
   "source": [
    "df.sample(10, random_state=rstate).T"
   ]
  },
  {
   "cell_type": "code",
   "execution_count": null,
   "metadata": {},
   "outputs": [],
   "source": [
    "# Check: What countries belong to the European region?\n",
    "df[df.region2 == \"Europe\"][['country']].sort_values(by=['country'], ascending=True)"
   ]
  },
  {
   "cell_type": "code",
   "execution_count": null,
   "metadata": {},
   "outputs": [],
   "source": [
    "# GDPs per region2\n",
    "df.boxplot(column='gdp', by='region2', figsize=(12,8));\n",
    "plt.xticks(rotation=90);\n",
    "plt.title('')\n",
    "plt.xlabel('Regions2')\n",
    "plt.ylabel('GDP in $ per capita')"
   ]
  },
  {
   "cell_type": "code",
   "execution_count": null,
   "metadata": {},
   "outputs": [],
   "source": [
    "# New regions by number of countries\n",
    "df.groupby(['region2']).agg({'country':'count', 'population':'sum', 'area':'sum'}).sort_values(by=['country'], ascending=False)"
   ]
  },
  {
   "cell_type": "code",
   "execution_count": null,
   "metadata": {},
   "outputs": [],
   "source": [
    "# Find out more about outlayers\n",
    "gpd_per_country_eur = df[df.region2 == \"Europe\"][['country', 'gdp']].sort_values(by=['gdp'], ascending=False)\n",
    "gpd_per_country_eur.head(2)"
   ]
  },
  {
   "cell_type": "code",
   "execution_count": null,
   "metadata": {},
   "outputs": [],
   "source": [
    "gpd_per_country_latin = df[df.region2 == \"Latin America and the Caribbean\"][['country', 'gdp']].sort_values(by=['gdp'], ascending=False)\n",
    "gpd_per_country_latin.head(3)"
   ]
  },
  {
   "cell_type": "code",
   "execution_count": null,
   "metadata": {},
   "outputs": [],
   "source": [
    "gpd_per_country_asia = df[df.region2 == \"Asia\"][['country', 'gdp']].sort_values(by=['gdp'], ascending=False)\n",
    "gpd_per_country_asia[gpd_per_country_asia.gdp > 10000]"
   ]
  },
  {
   "cell_type": "code",
   "execution_count": null,
   "metadata": {},
   "outputs": [],
   "source": [
    "gpd_per_country_africa = df[df.region2 == \"Africa\"][['country', 'gdp']].sort_values(by=['gdp'], ascending=False)\n",
    "gpd_per_country_africa[gpd_per_country_africa.gdp > 3000]"
   ]
  },
  {
   "cell_type": "code",
   "execution_count": null,
   "metadata": {},
   "outputs": [],
   "source": [
    "gpd_per_country_oce = df[df.region2 == \"Oceania\"][['country', 'gdp']].sort_values(by=['gdp'], ascending=False)\n",
    "gpd_per_country_oce.head(2)"
   ]
  },
  {
   "cell_type": "markdown",
   "metadata": {},
   "source": [
    "For our analysis, we will select 7 regions having close geographical proximity and compare different economical attributes between the regions."
   ]
  },
  {
   "cell_type": "code",
   "execution_count": null,
   "metadata": {},
   "outputs": [],
   "source": [
    "gpd_per_country_eur.plot(x='country', y='gdp', kind=\"bar\", figsize=(12,8));\n",
    "plt.title('GDP in $ per Capita per Country in Europe')\n",
    "plt.xlabel('Country')\n",
    "plt.ylabel('GDP in $ per Capita')\n",
    "plt.show();"
   ]
  },
  {
   "cell_type": "code",
   "execution_count": null,
   "metadata": {},
   "outputs": [],
   "source": [
    "# How world data attributes are correlated?\n",
    "fig, ax = plt.subplots(figsize=(14,14))\n",
    "sns.heatmap(df.corr(), annot=True, fmt=\".2f\")\n",
    "plt.show();"
   ]
  },
  {
   "cell_type": "code",
   "execution_count": null,
   "metadata": {},
   "outputs": [],
   "source": []
  },
  {
   "cell_type": "code",
   "execution_count": null,
   "metadata": {},
   "outputs": [],
   "source": []
  },
  {
   "cell_type": "code",
   "execution_count": null,
   "metadata": {},
   "outputs": [],
   "source": []
  },
  {
   "cell_type": "markdown",
   "metadata": {},
   "source": [
    "### Notes\n",
    "\n",
    "1. The dataset has 20 variables and 227 observations (one per each country).\n",
    "2. The dataset column names were standardized and their meaning described in the dataset dictionary.\n",
    "3. There were no duplicated observations in the dataset.\n",
    "4. The dataset column types were corrected. The quantitative values used colons insted of periods. This was corrected.\n",
    "5. The dataset columns with missing values are\n",
    "6. For the analysis, I have selected 7 regions having close geographical proximity and matched them to the standard geographical regions."
   ]
  },
  {
   "cell_type": "code",
   "execution_count": null,
   "metadata": {},
   "outputs": [],
   "source": []
  },
  {
   "cell_type": "markdown",
   "metadata": {},
   "source": [
    "## Data Modeling??"
   ]
  },
  {
   "cell_type": "code",
   "execution_count": null,
   "metadata": {},
   "outputs": [],
   "source": []
  },
  {
   "cell_type": "markdown",
   "metadata": {},
   "source": [
    "## Evaluate the Result"
   ]
  },
  {
   "cell_type": "code",
   "execution_count": null,
   "metadata": {},
   "outputs": [],
   "source": [
    "# answer the questions"
   ]
  },
  {
   "cell_type": "markdown",
   "metadata": {},
   "source": [
    "### 1. Wealthy vs. Poor Regions\n",
    "There is one simgle measure of prosperity used in today's economy: GDP (Gross Domestic Product). Co to jest - z opisu danych\n",
    "\n",
    "Looking at the world's GDP per capita, we can cluster two groups of regions: wealthier ones (Northern America, Western and Eastern Europe) and poorer ones (Latin America and the Caribbean, Asia, Africa). Going further, some interesting questions arise: What are the distinguishing traits of wealthy and poor regions? What should the poor regions focus on to become wealthier? Let's find out."
   ]
  },
  {
   "cell_type": "code",
   "execution_count": null,
   "metadata": {},
   "outputs": [],
   "source": [
    "# Median regions' GDP\n",
    "df_gdp = pd.DataFrame(df.groupby('region2').median()['gdp'].sort_values(ascending=False))\n",
    "df_gdp.index.name = 'Region'\n",
    "df_gdp.columns = ['GDP Per Capita in US Dollars']\n",
    "df_gdp"
   ]
  },
  {
   "cell_type": "code",
   "execution_count": null,
   "metadata": {},
   "outputs": [],
   "source": [
    "sns.set(style=\"white\", font_scale=1.2, palette='colorblind')\n",
    "f, axes = plt.subplots(1, 3, figsize=(30, 5))\n",
    "\n",
    "sns.despine()\n",
    "\n",
    "# World's GDP\n",
    "g = sns.distplot(df[df['region2'] == 'Asia'].gdp, label='Asia', hist=False, rug=True, kde_kws={\"shade\":True}, ax=axes[0])\n",
    "sns.distplot(df[df['region2'] == 'Africa'].gdp, label='Africa', hist=False, rug=True, kde_kws={\"shade\":True}, ax=axes[0])\n",
    "sns.distplot(df[df['region2'] == 'Western Europe'].gdp, label='Western Europe', hist=False, rug=True, kde_kws={\"shade\":True}, ax=axes[0])\n",
    "sns.distplot(df[df['region2'] == 'Eastern Europe'].gdp, label='Eastern Europe', hist=False, rug=True, kde_kws={\"shade\":True}, ax=axes[0])\n",
    "sns.distplot(df[df['region2'] == 'Latin America and the Caribbean'].gdp, label='Latin America and the Caribbean', hist=False, rug=True, kde_kws={\"shade\":True}, ax=axes[0])\n",
    "sns.distplot(df[df['region2'] == 'Northern America'].gdp, label='Northern America', hist=False, rug=True, kde_kws={\"shade\":True}, ax=axes[0])\n",
    "\n",
    "g.set(yticklabels=[])\n",
    "g.set(title='All Regions')\n",
    "g.legend(loc='upper right')\n",
    "\n",
    "# Poor Regions' GDP\n",
    "g = sns.distplot(df[df['region2'] == 'Western Europe'].gdp, label='Western Europe', hist=False, rug=True, kde_kws={\"shade\":True}, ax=axes[1])\n",
    "sns.distplot(df[df['region2'] == 'Eastern Europe'].gdp, label='Eastern Europe', hist=False, rug=True, kde_kws={\"shade\":True}, ax=axes[1])\n",
    "sns.distplot(df[df['region2'] == 'Northern America'].gdp, label='Northern America', hist=False, rug=True, kde_kws={\"shade\":True}, ax=axes[1])\n",
    "\n",
    "g.set(yticklabels=[])\n",
    "g.set(title='Group A')\n",
    "\n",
    "# Wealthy Regions' GDP\n",
    "g = sns.distplot(df[df['region2'] == 'Asia'].gdp, label='Asia', hist=False, rug=True, kde_kws={\"shade\":True}, ax=axes[2])\n",
    "sns.distplot(df[df['region2'] == 'Africa'].gdp, label='Africa', hist=False, rug=True, kde_kws={\"shade\":True}, ax=axes[2])\n",
    "sns.distplot(df[df['region2'] == 'Latin America and the Caribbean'].gdp, label='Latin America and the Caribbean', hist=False, rug=True, kde_kws={\"shade\":True}, ax=axes[2])\n",
    "\n",
    "g.set(yticklabels=[])\n",
    "g.set(title='Group B')\n",
    "\n",
    "plt.savefig(\"./pics/gdp.png\", dpi=600);\n",
    "plt.show();"
   ]
  },
  {
   "cell_type": "markdown",
   "metadata": {},
   "source": [
    "Within the wealthier regions (let' call them Group A), Eastern European countries are the poorest with quite low variability. Western European countries are similar but wealthier in general. There is one country with GDP above all, Luxemburg. Northern America countries have bigger spread with the United States at the top and St. Pierre & Miquelon at the bottom.\n",
    "\n",
    "Poorer regions (let's call them Group B) tend to have right-skewed distributions of countries GDP with Africa having the lowest GDP of all, then Asia and the best of them Latin America. The Oceania region included in Asia (for simplicity) results in a long tail to the right with countries like Australia, Hong Kong, Japan or Singapure having GDP on the Western European level."
   ]
  },
  {
   "cell_type": "code",
   "execution_count": null,
   "metadata": {},
   "outputs": [],
   "source": [
    "# Find outlayers\n",
    "gpd_per_country_weur = df[df.region2 == \"Western Europe\"][['country', 'gdp']].sort_values(by=['gdp'], ascending=False)\n",
    "gpd_per_country_weur.head(5)"
   ]
  },
  {
   "cell_type": "code",
   "execution_count": null,
   "metadata": {},
   "outputs": [],
   "source": [
    "gpd_per_country_namerica = df[df.region2 == \"Northern America\"][['country', 'gdp']].sort_values(by=['gdp'], ascending=False)\n",
    "gpd_per_country_namerica"
   ]
  },
  {
   "cell_type": "code",
   "execution_count": null,
   "metadata": {},
   "outputs": [],
   "source": [
    "gpd_per_country_asia = df[df.region2 == \"Asia\"][['country', 'gdp']].sort_values(by=['gdp'], ascending=False)\n",
    "gpd_per_country_asia[gpd_per_country_asia.gdp > 20000]"
   ]
  },
  {
   "cell_type": "markdown",
   "metadata": {},
   "source": [
    "So what are the differences in world data regarding wealthier and poorer regions? Let's find out by comparing selected economic attributes. \n",
    "\n",
    "#### Literacy"
   ]
  },
  {
   "cell_type": "code",
   "execution_count": null,
   "metadata": {},
   "outputs": [],
   "source": [
    "sns.set(style=\"white\", font_scale=1.2, palette='colorblind')\n",
    "f, axes = plt.subplots(1, 3, figsize=(30, 5))\n",
    "\n",
    "sns.despine()\n",
    "\n",
    "# World's literacy\n",
    "g = sns.distplot(df[df['region2'] == 'Asia'].literacy, label='Asia', hist=False, rug=True, kde_kws={\"shade\":True}, ax=axes[0])\n",
    "sns.distplot(df[df['region2'] == 'Africa'].literacy, label='Africa', hist=False, rug=True, kde_kws={\"shade\":True}, ax=axes[0])\n",
    "sns.distplot(df[df['region2'] == 'Western Europe'].literacy, label='Western Europe', hist=False, rug=True, kde_kws={\"shade\":True}, ax=axes[0])\n",
    "sns.distplot(df[df['region2'] == 'Eastern Europe'].literacy, label='Eastern Europe', hist=False, rug=True, kde_kws={\"shade\":True}, ax=axes[0])\n",
    "sns.distplot(df[df['region2'] == 'Latin America and the Caribbean'].literacy, label='Latin America and the Caribbean', hist=False, rug=True, kde_kws={\"shade\":True}, ax=axes[0])\n",
    "sns.distplot(df[df['region2'] == 'Northern America'].literacy, label='Northern America', hist=False, rug=True, kde_kws={\"shade\":True}, ax=axes[0])\n",
    "\n",
    "g.set(yticklabels=[])\n",
    "g.set(title='All Regions')\n",
    "\n",
    "# Poor Regions' literacy\n",
    "g = sns.distplot(df[df['region2'] == 'Western Europe'].literacy, label='Western Europe', hist=False, rug=True, kde_kws={\"shade\":True}, ax=axes[1])\n",
    "sns.distplot(df[df['region2'] == 'Eastern Europe'].literacy, label='Eastern Europe', hist=False, rug=True, kde_kws={\"shade\":True}, ax=axes[1])\n",
    "sns.distplot(df[df['region2'] == 'Northern America'].literacy, label='Northern America', hist=False, rug=True, kde_kws={\"shade\":True}, ax=axes[1])\n",
    "\n",
    "g.set(yticklabels=[])\n",
    "g.set(title='Group A')\n",
    "\n",
    "# Wealthy Regions' literacy\n",
    "g = sns.distplot(df[df['region2'] == 'Asia'].literacy, label='Asia', hist=False, rug=True, kde_kws={\"shade\":True}, ax=axes[2])\n",
    "sns.distplot(df[df['region2'] == 'Africa'].literacy, label='Africa', hist=False, rug=True, kde_kws={\"shade\":True}, ax=axes[2])\n",
    "sns.distplot(df[df['region2'] == 'Latin America and the Caribbean'].literacy, label='Latin America and the Caribbean', hist=False, rug=True, kde_kws={\"shade\":True}, ax=axes[2])\n",
    "\n",
    "g.set(yticklabels=[])\n",
    "g.set(title='Group B')\n",
    "\n",
    "plt.savefig(\"./pics/literacy.png\", dpi=600);\n",
    "plt.show();"
   ]
  },
  {
   "cell_type": "code",
   "execution_count": null,
   "metadata": {},
   "outputs": [],
   "source": [
    "df[df['region2'] == 'Eastern Europe'][['country', 'literacy']].sort_values(by=['literacy'], ascending=True).head(5)"
   ]
  },
  {
   "cell_type": "code",
   "execution_count": null,
   "metadata": {},
   "outputs": [],
   "source": [
    "df[df['region2'] == 'Africa'][['country', 'literacy']].sort_values(by=['literacy'], ascending=True).head(10)"
   ]
  },
  {
   "cell_type": "code",
   "execution_count": null,
   "metadata": {},
   "outputs": [],
   "source": [
    "df[df['region2'] == 'Asia'][['country', 'literacy']].sort_values(by=['literacy'], ascending=False).head(10)"
   ]
  },
  {
   "cell_type": "markdown",
   "metadata": {},
   "source": [
    "Literacy seems to be one of the differentiators. Group A regions has literacy level above 85% of the population with the worst results by Albania (86.5%) and Serbia (93%) whereas Group B starts from 17.5% (Niger). Clearly, there is a strong set of countries in Group B with literacy level above XXX.\n",
    "\n",
    "The Group B should focus on improving education level of their population leading to more innovative societes. More educated people will have easier access to knowledge, exchange and implement ideas with other nations leading to prosperity.\n",
    "\n",
    "#### Agriculture\n",
    "Agriculture world data indicator is percentage of GDP sector composition ratio for agriculture economy sector (source). Agriculture indicator, together with other two, Industry and Service, constitute 100% of GDP of a country."
   ]
  },
  {
   "cell_type": "code",
   "execution_count": null,
   "metadata": {},
   "outputs": [],
   "source": [
    "sns.set(style=\"white\", font_scale=1.2, palette='colorblind')\n",
    "f, axes = plt.subplots(1, 3, figsize=(30, 5))\n",
    "\n",
    "sns.despine()\n",
    "\n",
    "# World's agriculture\n",
    "g = sns.distplot(df[df['region2'] == 'Asia'].agriculture, label='Asia', hist=False, rug=True, kde_kws={\"shade\":True}, ax=axes[0])\n",
    "sns.distplot(df[df['region2'] == 'Africa'].agriculture, label='Africa', hist=False, rug=True, kde_kws={\"shade\":True}, ax=axes[0])\n",
    "sns.distplot(df[df['region2'] == 'Western Europe'].agriculture, label='Western Europe', hist=False, rug=True, kde_kws={\"shade\":True}, ax=axes[0])\n",
    "sns.distplot(df[df['region2'] == 'Eastern Europe'].agriculture, label='Eastern Europe', hist=False, rug=True, kde_kws={\"shade\":True}, ax=axes[0])\n",
    "sns.distplot(df[df['region2'] == 'Latin America and the Caribbean'].agriculture, label='Latin America and the Caribbean', hist=False, rug=True, kde_kws={\"shade\":True}, ax=axes[0])\n",
    "sns.distplot(df[df['region2'] == 'Northern America'].agriculture, label='Northern America', hist=False, rug=True, kde_kws={\"shade\":True}, ax=axes[0])\n",
    "\n",
    "g.set(yticklabels=[])\n",
    "g.set(title='All Regions')\n",
    "\n",
    "# Poor Regions' agriculture\n",
    "g = sns.distplot(df[df['region2'] == 'Western Europe'].agriculture, label='Western Europe', hist=False, rug=True, kde_kws={\"shade\":True}, ax=axes[1])\n",
    "sns.distplot(df[df['region2'] == 'Eastern Europe'].agriculture, label='Eastern Europe', hist=False, rug=True, kde_kws={\"shade\":True}, ax=axes[1])\n",
    "sns.distplot(df[df['region2'] == 'Northern America'].agriculture, label='Northern America', hist=False, rug=True, kde_kws={\"shade\":True}, ax=axes[1])\n",
    "\n",
    "g.set(yticklabels=[])\n",
    "g.set(title='Group A')\n",
    "\n",
    "# Wealthy Regions' agriculture\n",
    "g = sns.distplot(df[df['region2'] == 'Asia'].agriculture, label='Asia', hist=False, rug=True, kde_kws={\"shade\":True}, ax=axes[2])\n",
    "sns.distplot(df[df['region2'] == 'Africa'].agriculture, label='Africa', hist=False, rug=True, kde_kws={\"shade\":True}, ax=axes[2])\n",
    "sns.distplot(df[df['region2'] == 'Latin America and the Caribbean'].agriculture, label='Latin America and the Caribbean', hist=False, rug=True, kde_kws={\"shade\":True}, ax=axes[2])\n",
    "\n",
    "g.set(yticklabels=[])\n",
    "g.set(title='Group B')\n",
    "\n",
    "plt.savefig(\"./pics/agriculture.png\", dpi=600);\n",
    "plt.show();"
   ]
  },
  {
   "cell_type": "markdown",
   "metadata": {},
   "source": [
    "Agriculture in more developed countries takes only a small portion of their GDP per capita. Looking at Eastern European countries in Group A and all countries in Group B we can notice thet the percentage of agriculture in GDP is more significant. It does not necessarily mean that more developed countries have worse agriculture indicators, it rather means that other sectors (Industry or Service) take precedence in influencing their GDP.\n",
    "\n",
    "The Group B countries should focus on innovative industry and develop more their service sector to become more competitive.\n",
    "\n",
    "#### Industry\n",
    "The Industry indicator shows the percentage of GDP sector composition ratio for industry economy sector."
   ]
  },
  {
   "cell_type": "code",
   "execution_count": null,
   "metadata": {},
   "outputs": [],
   "source": [
    "sns.set(style=\"white\", font_scale=1.2, palette='colorblind')\n",
    "f, axes = plt.subplots(1, 3, figsize=(30, 5))\n",
    "\n",
    "sns.despine()\n",
    "\n",
    "# World's industry\n",
    "g = sns.distplot(df[df['region2'] == 'Asia'].industry, label='Asia', hist=False, rug=True, kde_kws={\"shade\":True}, ax=axes[0])\n",
    "sns.distplot(df[df['region2'] == 'Africa'].industry, label='Africa', hist=False, rug=True, kde_kws={\"shade\":True}, ax=axes[0])\n",
    "sns.distplot(df[df['region2'] == 'Western Europe'].industry, label='Western Europe', hist=False, rug=True, kde_kws={\"shade\":True}, ax=axes[0])\n",
    "sns.distplot(df[df['region2'] == 'Eastern Europe'].industry, label='Eastern Europe', hist=False, rug=True, kde_kws={\"shade\":True}, ax=axes[0])\n",
    "sns.distplot(df[df['region2'] == 'Latin America and the Caribbean'].industry, label='Latin America and the Caribbean', hist=False, rug=True, kde_kws={\"shade\":True}, ax=axes[0])\n",
    "sns.distplot(df[df['region2'] == 'Northern America'].industry, label='Northern America', hist=False, rug=True, kde_kws={\"shade\":True}, ax=axes[0])\n",
    "\n",
    "g.set(yticklabels=[])\n",
    "g.set(title='All Regions')\n",
    "\n",
    "# Poor Regions' industry\n",
    "g = sns.distplot(df[df['region2'] == 'Western Europe'].industry, label='Western Europe', hist=False, rug=True, kde_kws={\"shade\":True}, ax=axes[1])\n",
    "sns.distplot(df[df['region2'] == 'Eastern Europe'].industry, label='Eastern Europe', hist=False, rug=True, kde_kws={\"shade\":True}, ax=axes[1])\n",
    "sns.distplot(df[df['region2'] == 'Northern America'].industry, label='Northern America', hist=False, rug=True, kde_kws={\"shade\":True}, ax=axes[1])\n",
    "\n",
    "g.set(yticklabels=[])\n",
    "g.set(title='Group A')\n",
    "\n",
    "# Wealthy Regions' industry\n",
    "g = sns.distplot(df[df['region2'] == 'Asia'].industry, label='Asia', hist=False, rug=True, kde_kws={\"shade\":True}, ax=axes[2])\n",
    "sns.distplot(df[df['region2'] == 'Africa'].industry, label='Africa', hist=False, rug=True, kde_kws={\"shade\":True}, ax=axes[2])\n",
    "sns.distplot(df[df['region2'] == 'Latin America and the Caribbean'].industry, label='Latin America and the Caribbean', hist=False, rug=True, kde_kws={\"shade\":True}, ax=axes[2])\n",
    "\n",
    "g.set(yticklabels=[])\n",
    "g.set(title='Group B')\n",
    "\n",
    "plt.savefig(\"./pics/industry.png\", dpi=600);\n",
    "plt.show();"
   ]
  },
  {
   "cell_type": "markdown",
   "metadata": {},
   "source": [
    "XXXXXX\n",
    "\n",
    "#### Service\n",
    "percentage of GDP sector composition ratio for service economy sector (znalezc lepszy opis?)"
   ]
  },
  {
   "cell_type": "code",
   "execution_count": null,
   "metadata": {},
   "outputs": [],
   "source": [
    "sns.set(style=\"white\", font_scale=1.2, palette='colorblind')\n",
    "f, axes = plt.subplots(1, 3, figsize=(30, 5))\n",
    "\n",
    "sns.despine()\n",
    "\n",
    "# World's service\n",
    "g = sns.distplot(df[df['region2'] == 'Asia'].service, label='Asia', hist=False, rug=True, kde_kws={\"shade\":True}, ax=axes[0])\n",
    "sns.distplot(df[df['region2'] == 'Africa'].service, label='Africa', hist=False, rug=True, kde_kws={\"shade\":True}, ax=axes[0])\n",
    "sns.distplot(df[df['region2'] == 'Western Europe'].service, label='Western Europe', hist=False, rug=True, kde_kws={\"shade\":True}, ax=axes[0])\n",
    "sns.distplot(df[df['region2'] == 'Eastern Europe'].service, label='Eastern Europe', hist=False, rug=True, kde_kws={\"shade\":True}, ax=axes[0])\n",
    "sns.distplot(df[df['region2'] == 'Latin America and the Caribbean'].service, label='Latin America and the Caribbean', hist=False, rug=True, kde_kws={\"shade\":True}, ax=axes[0])\n",
    "sns.distplot(df[df['region2'] == 'Northern America'].service, label='Northern America', hist=False, rug=True, kde_kws={\"shade\":True}, ax=axes[0])\n",
    "\n",
    "g.set(yticklabels=[])\n",
    "g.set(title='All Regions')\n",
    "\n",
    "# Poor Regions' service\n",
    "g = sns.distplot(df[df['region2'] == 'Western Europe'].service, label='Western Europe', hist=False, rug=True, kde_kws={\"shade\":True}, ax=axes[1])\n",
    "sns.distplot(df[df['region2'] == 'Eastern Europe'].service, label='Eastern Europe', hist=False, rug=True, kde_kws={\"shade\":True}, ax=axes[1])\n",
    "sns.distplot(df[df['region2'] == 'Northern America'].service, label='Northern America', hist=False, rug=True, kde_kws={\"shade\":True}, ax=axes[1])\n",
    "\n",
    "g.set(yticklabels=[])\n",
    "g.set(title='Group A')\n",
    "\n",
    "# Wealthy Regions' service\n",
    "g = sns.distplot(df[df['region2'] == 'Asia'].service, label='Asia', hist=False, rug=True, kde_kws={\"shade\":True}, ax=axes[2])\n",
    "sns.distplot(df[df['region2'] == 'Africa'].service, label='Africa', hist=False, rug=True, kde_kws={\"shade\":True}, ax=axes[2])\n",
    "sns.distplot(df[df['region2'] == 'Latin America and the Caribbean'].service, label='Latin America and the Caribbean', hist=False, rug=True, kde_kws={\"shade\":True}, ax=axes[2])\n",
    "\n",
    "g.set(yticklabels=[])\n",
    "g.set(title='Group B')\n",
    "\n",
    "plt.savefig(\"./pics/service.png\", dpi=600);\n",
    "plt.show();"
   ]
  },
  {
   "cell_type": "code",
   "execution_count": null,
   "metadata": {},
   "outputs": [],
   "source": []
  },
  {
   "cell_type": "markdown",
   "metadata": {},
   "source": [
    "To summarize... powtorzyc najwazniejsze z question 1"
   ]
  },
  {
   "cell_type": "code",
   "execution_count": null,
   "metadata": {},
   "outputs": [],
   "source": []
  },
  {
   "cell_type": "code",
   "execution_count": null,
   "metadata": {},
   "outputs": [],
   "source": []
  },
  {
   "cell_type": "code",
   "execution_count": null,
   "metadata": {},
   "outputs": [],
   "source": []
  },
  {
   "cell_type": "code",
   "execution_count": null,
   "metadata": {},
   "outputs": [],
   "source": [
    "# Find outlayers\n",
    "area_per_country_weur = df[df.region2 == \"Western Europe\"][['country', 'area']].sort_values(by=['area'], ascending=False)\n",
    "area_per_country_weur.head()"
   ]
  },
  {
   "cell_type": "code",
   "execution_count": null,
   "metadata": {},
   "outputs": [],
   "source": [
    "sns.set(style=\"white\", font_scale=1.2, palette='colorblind')\n",
    "f, axes = plt.subplots(1, 3, figsize=(20, 5))\n",
    "\n",
    "sns.despine()\n",
    "\n",
    "# Area\n",
    "sns.distplot(df[df['region2'] == 'Asia'].area, label='Asia', axlabel='aa', hist=False, kde_kws={\"shade\":True}, ax=axes[0])\n",
    "sns.distplot(df[df['region2'] == 'Africa'].area, label='Africa', hist=False, kde_kws={\"shade\":True}, ax=axes[0])\n",
    "sns.distplot(df[df['region2'] == 'Western Europe'].area, label='Western Europe', hist=False, kde_kws={\"shade\":True}, ax=axes[0])\n",
    "sns.distplot(df[df['region2'] == 'Eastern Europe'].area, label='Eastern Europe', hist=False, kde_kws={\"shade\":True}, ax=axes[0])\n",
    "sns.distplot(df[df['region2'] == 'Latin America and the Caribbean'].area, label='Latin America and the Caribbean', hist=False, kde_kws={\"shade\":True}, ax=axes[0])\n",
    "sns.distplot(df[df['region2'] == 'Northern America'].area, label='Northern America', hist=False, kde_kws={\"shade\":True}, ax=axes[0])\n",
    "\n",
    "# GDP\n",
    "sns.distplot(df[df['region2'] == 'Asia'].gdp, label='Asia', hist=False, kde_kws={\"shade\":True}, ax=axes[1])\n",
    "sns.distplot(df[df['region2'] == 'Africa'].gdp, label='Africa', hist=False, kde_kws={\"shade\":True}, ax=axes[1])\n",
    "sns.distplot(df[df['region2'] == 'Western Europe'].gdp, label='Western Europe', hist=False, kde_kws={\"shade\":True}, ax=axes[1])\n",
    "sns.distplot(df[df['region2'] == 'Eastern Europe'].gdp, label='Eastern Europe', hist=False, kde_kws={\"shade\":True}, ax=axes[1])\n",
    "sns.distplot(df[df['region2'] == 'Latin America and the Caribbean'].gdp, label='Latin America and the Caribbean', hist=False, kde_kws={\"shade\":True}, ax=axes[1])\n",
    "sns.distplot(df[df['region2'] == 'Northern America'].gdp, label='Northern America', hist=False, kde_kws={\"shade\":True}, ax=axes[1])\n",
    "\n",
    "# Literacy\n",
    "sns.distplot(df[df['region2'] == 'Asia'].literacy, label='Asia', hist=False, kde_kws={\"shade\":True}, ax=axes[2])\n",
    "sns.distplot(df[df['region2'] == 'Africa'].literacy, label='Africa', hist=False, kde_kws={\"shade\":True}, ax=axes[2])\n",
    "sns.distplot(df[df['region2'] == 'Western Europe'].literacy, label='Western Europe', hist=False, kde_kws={\"shade\":True}, ax=axes[2])\n",
    "sns.distplot(df[df['region2'] == 'Eastern Europe'].literacy, label='Eastern Europe', hist=False, kde_kws={\"shade\":True}, ax=axes[2])\n",
    "sns.distplot(df[df['region2'] == 'Latin America and the Caribbean'].literacy, label='Latin America and the Caribbean', hist=False, kde_kws={\"shade\":True}, ax=axes[2])\n",
    "sns.distplot(df[df['region2'] == 'Northern America'].literacy, label='Northern America', hist=False, kde_kws={\"shade\":True}, ax=axes[2])\n",
    "\n",
    "plt.show();"
   ]
  },
  {
   "cell_type": "code",
   "execution_count": null,
   "metadata": {},
   "outputs": [],
   "source": [
    "x = df.loc[:, [\"region2\", \"gdp\", \"infmortality\", \"birthrate\", \"phones\", \"literacy\", \"service\"]]\n",
    "sns.pairplot(x, hue=\"region2\", palette=\"inferno\");"
   ]
  },
  {
   "cell_type": "code",
   "execution_count": null,
   "metadata": {},
   "outputs": [],
   "source": []
  },
  {
   "cell_type": "code",
   "execution_count": null,
   "metadata": {},
   "outputs": [],
   "source": [
    "sns.set(style=\"white\", font_scale=1.2, palette='colorblind')\n",
    "f, axes = plt.subplots(1, 3, figsize=(20, 5))\n",
    "\n",
    "sns.despine()\n",
    "\n",
    "# Agriculture\n",
    "sns.distplot(df[df['region2'] == 'Asia'].agriculture, label='Asia', hist=False, kde_kws={\"shade\":True}, ax=axes[0])\n",
    "sns.distplot(df[df['region2'] == 'Africa'].agriculture, label='Africa', hist=False, kde_kws={\"shade\":True}, ax=axes[0])\n",
    "sns.distplot(df[df['region2'] == 'Western Europe'].agriculture, label='Western Europe', hist=False, kde_kws={\"shade\":True}, ax=axes[0])\n",
    "sns.distplot(df[df['region2'] == 'Eastern Europe'].agriculture, label='Eastern Europe', hist=False, kde_kws={\"shade\":True}, ax=axes[0])\n",
    "sns.distplot(df[df['region2'] == 'Latin America and the Caribbean'].agriculture, label='Latin America and the Caribbean', hist=False, kde_kws={\"shade\":True}, ax=axes[0])\n",
    "sns.distplot(df[df['region2'] == 'Northern America'].agriculture, label='Northern America', hist=False, kde_kws={\"shade\":True}, ax=axes[0])\n",
    "\n",
    "# Industry\n",
    "sns.distplot(df[df['region2'] == 'Asia'].industry, hist=False, kde_kws={\"shade\":True}, ax=axes[1])\n",
    "sns.distplot(df[df['region2'] == 'Africa'].industry, hist=False, kde_kws={\"shade\":True}, ax=axes[1])\n",
    "sns.distplot(df[df['region2'] == 'Western Europe'].industry, hist=False, kde_kws={\"shade\":True}, ax=axes[1])\n",
    "sns.distplot(df[df['region2'] == 'Eastern Europe'].industry, hist=False, kde_kws={\"shade\":True}, ax=axes[1])\n",
    "sns.distplot(df[df['region2'] == 'Latin America and the Caribbean'].industry, hist=False, kde_kws={\"shade\":True}, ax=axes[1])\n",
    "sns.distplot(df[df['region2'] == 'Northern America'].industry, hist=False, kde_kws={\"shade\":True}, ax=axes[1])\n",
    "\n",
    "# Service\n",
    "sns.distplot(df[df['region2'] == 'Asia'].service, hist=False, kde_kws={\"shade\":True}, ax=axes[2])\n",
    "sns.distplot(df[df['region2'] == 'Africa'].service, hist=False, kde_kws={\"shade\":True}, ax=axes[2])\n",
    "sns.distplot(df[df['region2'] == 'Western Europe'].service, hist=False, kde_kws={\"shade\":True}, ax=axes[2])\n",
    "sns.distplot(df[df['region2'] == 'Eastern Europe'].service, hist=False, kde_kws={\"shade\":True}, ax=axes[2])\n",
    "sns.distplot(df[df['region2'] == 'Latin America and the Caribbean'].service, hist=False, kde_kws={\"shade\":True}, ax=axes[2])\n",
    "sns.distplot(df[df['region2'] == 'Northern America'].service, hist=False, kde_kws={\"shade\":True}, ax=axes[2])\n",
    "\n",
    "#plt.legend( loc=2, borderaxespad=0.)\n",
    "\n",
    "#\n",
    "plt.show();"
   ]
  },
  {
   "cell_type": "code",
   "execution_count": null,
   "metadata": {},
   "outputs": [],
   "source": [
    "x = df.loc[:, [\"region2\", \"gdp\", \"agriculture\", \"industry\", \"service\", \"literacy\"]]\n",
    "sns.pairplot(x, hue=\"region2\", palette=\"colorblind\");"
   ]
  },
  {
   "cell_type": "code",
   "execution_count": null,
   "metadata": {},
   "outputs": [],
   "source": [
    "sns.set(style=\"white\", font_scale=1.2, palette='colorblind')\n",
    "f, axes = plt.subplots(3, 2, figsize=(20, 20))\n",
    "\n",
    "sns.despine()\n",
    "\n",
    "# Birthrate\n",
    "sns.distplot(df[df['region2'] == 'Asia'].birthrate, label='Asia', hist=False, kde_kws={\"shade\":True}, ax=axes[0,0])\n",
    "sns.distplot(df[df['region2'] == 'Africa'].birthrate, label='Africa', hist=False, kde_kws={\"shade\":True}, ax=axes[0,0])\n",
    "sns.distplot(df[df['region2'] == 'Western Europe'].birthrate, label='Western Europe', hist=False, kde_kws={\"shade\":True}, ax=axes[0,0])\n",
    "sns.distplot(df[df['region2'] == 'Eastern Europe'].birthrate, label='Eastern Europe', hist=False, kde_kws={\"shade\":True}, ax=axes[0,0])\n",
    "sns.distplot(df[df['region2'] == 'Latin America and the Caribbean'].birthrate, label='Latin America and the Caribbean', hist=False, kde_kws={\"shade\":True}, ax=axes[0,0])\n",
    "sns.distplot(df[df['region2'] == 'Northern America'].birthrate, label='Northern America', hist=False, kde_kws={\"shade\":True}, ax=axes[0,0])\n",
    "\n",
    "# Population\n",
    "sns.distplot(df[df['region2'] == 'Asia'].population, label='Asia', hist=False, kde_kws={\"shade\":True}, ax=axes[0,1])\n",
    "sns.distplot(df[df['region2'] == 'Africa'].population, label='Africa', hist=False, kde_kws={\"shade\":True}, ax=axes[0,1])\n",
    "sns.distplot(df[df['region2'] == 'Western Europe'].population, label='Western Europe', hist=False, kde_kws={\"shade\":True}, ax=axes[0,1])\n",
    "sns.distplot(df[df['region2'] == 'Eastern Europe'].population, label='Eastern Europe', hist=False, kde_kws={\"shade\":True}, ax=axes[0,1])\n",
    "sns.distplot(df[df['region2'] == 'Latin America and the Caribbean'].population, label='Latin America and the Caribbean', hist=False, kde_kws={\"shade\":True}, ax=axes[0,1])\n",
    "sns.distplot(df[df['region2'] == 'Northern America'].population, label='Northern America', hist=False, kde_kws={\"shade\":True}, ax=axes[0,1])\n",
    "\n",
    "# Population Density\n",
    "sns.distplot(df[df['region2'] == 'Asia'].popdensity, label='Asia', hist=False, kde_kws={\"shade\":True}, ax=axes[1,0])\n",
    "sns.distplot(df[df['region2'] == 'Africa'].popdensity, label='Africa', hist=False, kde_kws={\"shade\":True}, ax=axes[1,0])\n",
    "sns.distplot(df[df['region2'] == 'Western Europe'].popdensity, label='Western Europe', hist=False, kde_kws={\"shade\":True}, ax=axes[1,0])\n",
    "sns.distplot(df[df['region2'] == 'Eastern Europe'].popdensity, label='Eastern Europe', hist=False, kde_kws={\"shade\":True}, ax=axes[1,0])\n",
    "sns.distplot(df[df['region2'] == 'Latin America and the Caribbean'].popdensity, label='Latin America and the Caribbean', hist=False, kde_kws={\"shade\":True}, ax=axes[1,0])\n",
    "sns.distplot(df[df['region2'] == 'Northern America'].popdensity, label='Northern America', hist=False, kde_kws={\"shade\":True}, ax=axes[1,0])\n",
    "\n",
    "# GDP\n",
    "sns.distplot(df[df['region2'] == 'Asia'].gdp, label='Asia', hist=False, kde_kws={\"shade\":True}, ax=axes[1,1])\n",
    "sns.distplot(df[df['region2'] == 'Africa'].gdp, label='Africa', hist=False, kde_kws={\"shade\":True}, ax=axes[1,1])\n",
    "sns.distplot(df[df['region2'] == 'Western Europe'].gdp, label='Western Europe', hist=False, kde_kws={\"shade\":True}, ax=axes[1,1])\n",
    "sns.distplot(df[df['region2'] == 'Eastern Europe'].gdp, label='Eastern Europe', hist=False, kde_kws={\"shade\":True}, ax=axes[1,1])\n",
    "sns.distplot(df[df['region2'] == 'Latin America and the Caribbean'].gdp, label='Latin America and the Caribbean', hist=False, kde_kws={\"shade\":True}, ax=axes[1,1])\n",
    "sns.distplot(df[df['region2'] == 'Northern America'].gdp, label='Northern America', hist=False, kde_kws={\"shade\":True}, ax=axes[1,1])\n",
    "\n",
    "# Literacy\n",
    "sns.distplot(df[df['region2'] == 'Asia'].literacy, label='Asia', hist=False, kde_kws={\"shade\":True}, ax=axes[2,0])\n",
    "sns.distplot(df[df['region2'] == 'Africa'].literacy, label='Africa', hist=False, kde_kws={\"shade\":True}, ax=axes[2,0])\n",
    "sns.distplot(df[df['region2'] == 'Western Europe'].literacy, label='Western Europe', hist=False, kde_kws={\"shade\":True}, ax=axes[2,0])\n",
    "sns.distplot(df[df['region2'] == 'Eastern Europe'].literacy, label='Eastern Europe', hist=False, kde_kws={\"shade\":True}, ax=axes[2,0])\n",
    "sns.distplot(df[df['region2'] == 'Latin America and the Caribbean'].literacy, label='Latin America and the Caribbean', hist=False, kde_kws={\"shade\":True}, ax=axes[2,0])\n",
    "sns.distplot(df[df['region2'] == 'Northern America'].literacy, label='Northern America', hist=False, kde_kws={\"shade\":True}, ax=axes[2,0])\n",
    "\n",
    "plt.show();"
   ]
  },
  {
   "cell_type": "code",
   "execution_count": null,
   "metadata": {},
   "outputs": [],
   "source": [
    "x = df.loc[:, [\"region2\", \"gdp\", \"infmortality\", \"birthrate\", \"phones\", \"literacy\", \"service\"]]\n",
    "sns.pairplot(x, hue=\"region2\", palette=\"inferno\");"
   ]
  },
  {
   "cell_type": "code",
   "execution_count": null,
   "metadata": {},
   "outputs": [],
   "source": []
  },
  {
   "cell_type": "markdown",
   "metadata": {},
   "source": [
    "It is interesting how different regions on the same continent can be (Europe). The West European countries have generally better indicators than East European countires, which is due to longer period of prosperity, democratic or republic systems and consideration for the law."
   ]
  },
  {
   "cell_type": "markdown",
   "metadata": {},
   "source": [
    "### 2. What can we do to limit infant mortality?"
   ]
  },
  {
   "cell_type": "code",
   "execution_count": null,
   "metadata": {},
   "outputs": [],
   "source": [
    "import plotly.plotly as py\n",
    "from plotly.offline import init_notebook_mode, iplot\n",
    "init_notebook_mode(connected=True)\n",
    "import plotly.graph_objs as go\n",
    "\n",
    "#Population per country\n",
    "data = dict(type='choropleth',\n",
    "locations = df.country,\n",
    "locationmode = 'country names', z = df.infmortality,\n",
    "text = df.country, colorbar = {'title':'Infant Mortality'},\n",
    "colorscale = 'YlOrRd', reversescale = True)\n",
    "layout = dict(title='Infant Mortality per Country',\n",
    "geo = dict(showframe=False,projection={'type':'natural earth'}))\n",
    "choromap = go.Figure(data = [data],layout = layout)\n",
    "iplot(choromap,validate=False)"
   ]
  },
  {
   "cell_type": "code",
   "execution_count": null,
   "metadata": {},
   "outputs": [],
   "source": [
    "#Population per country\n",
    "data = dict(type='choropleth',\n",
    "locations = df.country,\n",
    "locationmode = 'country names', z = df.gdp,\n",
    "text = df.country, colorbar = {'title':'GDP'},\n",
    "colorscale = 'Hot', reversescale = True)\n",
    "layout = dict(title='GDP of World Countries',\n",
    "geo = dict(showframe=False,projection={'type':'natural earth'}))\n",
    "choromap = go.Figure(data = [data],layout = layout)\n",
    "iplot(choromap,validate=False)"
   ]
  },
  {
   "cell_type": "code",
   "execution_count": null,
   "metadata": {},
   "outputs": [],
   "source": [
    "# How infant mortality is related to other features?\n",
    "#df[df.columns[:]].corr()['infmortality'][:]\n",
    "pd.DataFrame(df.corr()['infmortality'].sort_values(ascending=False))"
   ]
  },
  {
   "cell_type": "code",
   "execution_count": null,
   "metadata": {},
   "outputs": [],
   "source": [
    "# What influences infant mortality most?\n",
    "df.corr()['infmortality'].sort_values(ascending=False)[1:].plot(kind='bar', figsize=(10,8));\n",
    "plt.title('Infant Mortality Influencers')\n",
    "plt.xlabel('Influencers')\n",
    "plt.ylabel('Pearson Correlation')\n",
    "plt.show();"
   ]
  },
  {
   "cell_type": "code",
   "execution_count": null,
   "metadata": {},
   "outputs": [],
   "source": []
  },
  {
   "cell_type": "markdown",
   "metadata": {},
   "source": [
    "Infant mortality is the death of young children under the age of 1. This death toll is measured by the infant mortality rate (IMR), which is the number of deaths of children under one year of age per 1000 live births. In the 21st century, in the age of robotics, genetics and sophisticated healthcare the mortality rate should be greatly minimized. Yet there are still regions where XXX per 1000 dies during the first year after birth.\n",
    "\n",
    "Looking at the world maps of mortality and gdp we see they are like inverse of each other. Countries with greater GDP have lower infant mortality and vice versa.\n",
    "\n",
    "Looking at the world data we can clearly see that the more agricultural the country is, the greater chance of premature mortality exists. The more educated and wealthy the nation is, the more chance infants have to survive. In this context, it is important to that richer and developed countries help the poorer ones both economically and in terms of education. The more aware and enlightened people are, the bigger care they can put into proper health-care infrastructure and treatment (vaccination, healthy life style and medical examinations while pregnant, breastfeeding, etc.) the more chance to survive infants have. All of these may happen more frequently in richer and peaceful societies."
   ]
  },
  {
   "cell_type": "markdown",
   "metadata": {},
   "source": [
    "### 3."
   ]
  },
  {
   "cell_type": "code",
   "execution_count": null,
   "metadata": {},
   "outputs": [],
   "source": []
  },
  {
   "cell_type": "code",
   "execution_count": null,
   "metadata": {},
   "outputs": [],
   "source": []
  },
  {
   "cell_type": "markdown",
   "metadata": {},
   "source": [
    "## Deploy"
   ]
  },
  {
   "cell_type": "code",
   "execution_count": null,
   "metadata": {},
   "outputs": [],
   "source": [
    "# post + model for prediction"
   ]
  },
  {
   "cell_type": "code",
   "execution_count": null,
   "metadata": {},
   "outputs": [],
   "source": []
  },
  {
   "cell_type": "code",
   "execution_count": null,
   "metadata": {},
   "outputs": [],
   "source": []
  },
  {
   "cell_type": "code",
   "execution_count": null,
   "metadata": {},
   "outputs": [],
   "source": []
  },
  {
   "cell_type": "code",
   "execution_count": null,
   "metadata": {},
   "outputs": [],
   "source": []
  }
 ],
 "metadata": {
  "kernelspec": {
   "display_name": "Python 3",
   "language": "python",
   "name": "python3"
  },
  "language_info": {
   "codemirror_mode": {
    "name": "ipython",
    "version": 3
   },
   "file_extension": ".py",
   "mimetype": "text/x-python",
   "name": "python",
   "nbconvert_exporter": "python",
   "pygments_lexer": "ipython3",
   "version": "3.7.1"
  }
 },
 "nbformat": 4,
 "nbformat_minor": 2
}

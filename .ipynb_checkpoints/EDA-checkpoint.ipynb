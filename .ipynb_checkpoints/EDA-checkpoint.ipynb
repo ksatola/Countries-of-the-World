{
 "cells": [
  {
   "cell_type": "markdown",
   "metadata": {},
   "source": [
    "# Countries of the World\n",
    "\n",
    "By Krzysztof Satola from: [github.com/ksatola](https://github.com/ksatola).\n",
    "\n",
    "Based on CRISP-DM (Cross Industry Process for Data Mining)."
   ]
  },
  {
   "cell_type": "markdown",
   "metadata": {},
   "source": [
    "### Dataset Dictionary\n",
    "\n",
    "- **Country** - \n",
    "- **Region**\n",
    "- **Population**\n",
    "- **Area (sq. mi.)**\n",
    "- **Pop. Density (per sq. mi.)**\n",
    "- **Coastline (coast/area ratio)**\n",
    "- **Net migration**\n",
    "- **Infant mortality (per 1000 births)**\n",
    "- **GDP ($ per capita)**\n",
    "- **Literacy (%)**\n",
    "- **Phones (per 1000)**\n",
    "- **Arable (%)**\n",
    "- **Crops (%)**\n",
    "- **Other (%)**\n",
    "- **Climate**\n",
    "- **Birthrate**\n",
    "- **Deathrate**\n",
    "- **Agriculture**\n",
    "- **Industry**\n",
    "- **Service**"
   ]
  },
  {
   "cell_type": "markdown",
   "metadata": {},
   "source": [
    "## Business Understanding\n",
    "\n",
    "In this project, I explore [Countries of the Worlds Kaggle dataset](https://www.kaggle.com/fernandol/countries-of-the-world) to answer the following questions:\n",
    "\n",
    "1. sss\n",
    "2. sss\n",
    "3. sss\n",
    "\n",
    "Next, I write a post to ??? about my findings."
   ]
  },
  {
   "cell_type": "markdown",
   "metadata": {},
   "source": [
    "## Data Understanding"
   ]
  },
  {
   "cell_type": "code",
   "execution_count": 1,
   "metadata": {},
   "outputs": [],
   "source": [
    "# Import required libraries\n",
    "import numpy as np\n",
    "import pandas as pd\n",
    "\n",
    "import matplotlib.pyplot as plt\n",
    "import seaborn as sns\n",
    "\n",
    "%matplotlib inline"
   ]
  },
  {
   "cell_type": "code",
   "execution_count": 11,
   "metadata": {},
   "outputs": [],
   "source": [
    "%load_ext version_information"
   ]
  },
  {
   "cell_type": "code",
   "execution_count": 14,
   "metadata": {},
   "outputs": [
    {
     "data": {
      "application/json": {
       "Software versions": [
        {
         "module": "Python",
         "version": "3.7.1 64bit [Clang 4.0.1 (tags/RELEASE_401/final)]"
        },
        {
         "module": "IPython",
         "version": "7.2.0"
        },
        {
         "module": "OS",
         "version": "Darwin 18.2.0 x86_64 i386 64bit"
        },
        {
         "module": "numpy",
         "version": "1.16.2"
        },
        {
         "module": "pandas",
         "version": "0.23.4"
        },
        {
         "module": "matplotlib",
         "version": "3.0.2"
        },
        {
         "module": "seaborn",
         "version": "0.9.0"
        }
       ]
      },
      "text/html": [
       "<table><tr><th>Software</th><th>Version</th></tr><tr><td>Python</td><td>3.7.1 64bit [Clang 4.0.1 (tags/RELEASE_401/final)]</td></tr><tr><td>IPython</td><td>7.2.0</td></tr><tr><td>OS</td><td>Darwin 18.2.0 x86_64 i386 64bit</td></tr><tr><td>numpy</td><td>1.16.2</td></tr><tr><td>pandas</td><td>0.23.4</td></tr><tr><td>matplotlib</td><td>3.0.2</td></tr><tr><td>seaborn</td><td>0.9.0</td></tr><tr><td colspan='2'>Tue Mar 19 22:36:10 2019 CET</td></tr></table>"
      ],
      "text/latex": [
       "\\begin{tabular}{|l|l|}\\hline\n",
       "{\\bf Software} & {\\bf Version} \\\\ \\hline\\hline\n",
       "Python & 3.7.1 64bit [Clang 4.0.1 (tags/RELEASE\\_401/final)] \\\\ \\hline\n",
       "IPython & 7.2.0 \\\\ \\hline\n",
       "OS & Darwin 18.2.0 x86\\_64 i386 64bit \\\\ \\hline\n",
       "numpy & 1.16.2 \\\\ \\hline\n",
       "pandas & 0.23.4 \\\\ \\hline\n",
       "matplotlib & 3.0.2 \\\\ \\hline\n",
       "seaborn & 0.9.0 \\\\ \\hline\n",
       "\\hline \\multicolumn{2}{|l|}{Tue Mar 19 22:36:10 2019 CET} \\\\ \\hline\n",
       "\\end{tabular}\n"
      ],
      "text/plain": [
       "Software versions\n",
       "Python 3.7.1 64bit [Clang 4.0.1 (tags/RELEASE_401/final)]\n",
       "IPython 7.2.0\n",
       "OS Darwin 18.2.0 x86_64 i386 64bit\n",
       "numpy 1.16.2\n",
       "pandas 0.23.4\n",
       "matplotlib 3.0.2\n",
       "seaborn 0.9.0\n",
       "Tue Mar 19 22:36:10 2019 CET"
      ]
     },
     "execution_count": 14,
     "metadata": {},
     "output_type": "execute_result"
    }
   ],
   "source": [
    "# Document versions of used libraries\n",
    "%version_information numpy, pandas, matplotlib, seaborn"
   ]
  },
  {
   "cell_type": "code",
   "execution_count": 3,
   "metadata": {},
   "outputs": [
    {
     "data": {
      "text/html": [
       "<div>\n",
       "<style scoped>\n",
       "    .dataframe tbody tr th:only-of-type {\n",
       "        vertical-align: middle;\n",
       "    }\n",
       "\n",
       "    .dataframe tbody tr th {\n",
       "        vertical-align: top;\n",
       "    }\n",
       "\n",
       "    .dataframe thead th {\n",
       "        text-align: right;\n",
       "    }\n",
       "</style>\n",
       "<table border=\"1\" class=\"dataframe\">\n",
       "  <thead>\n",
       "    <tr style=\"text-align: right;\">\n",
       "      <th></th>\n",
       "      <th>0</th>\n",
       "      <th>1</th>\n",
       "      <th>2</th>\n",
       "      <th>3</th>\n",
       "      <th>4</th>\n",
       "    </tr>\n",
       "  </thead>\n",
       "  <tbody>\n",
       "    <tr>\n",
       "      <th>Country</th>\n",
       "      <td>Afghanistan</td>\n",
       "      <td>Albania</td>\n",
       "      <td>Algeria</td>\n",
       "      <td>American Samoa</td>\n",
       "      <td>Andorra</td>\n",
       "    </tr>\n",
       "    <tr>\n",
       "      <th>Region</th>\n",
       "      <td>ASIA (EX. NEAR EAST)</td>\n",
       "      <td>EASTERN EUROPE</td>\n",
       "      <td>NORTHERN AFRICA</td>\n",
       "      <td>OCEANIA</td>\n",
       "      <td>WESTERN EUROPE</td>\n",
       "    </tr>\n",
       "    <tr>\n",
       "      <th>Population</th>\n",
       "      <td>31056997</td>\n",
       "      <td>3581655</td>\n",
       "      <td>32930091</td>\n",
       "      <td>57794</td>\n",
       "      <td>71201</td>\n",
       "    </tr>\n",
       "    <tr>\n",
       "      <th>Area (sq. mi.)</th>\n",
       "      <td>647500</td>\n",
       "      <td>28748</td>\n",
       "      <td>2381740</td>\n",
       "      <td>199</td>\n",
       "      <td>468</td>\n",
       "    </tr>\n",
       "    <tr>\n",
       "      <th>Pop. Density (per sq. mi.)</th>\n",
       "      <td>48,0</td>\n",
       "      <td>124,6</td>\n",
       "      <td>13,8</td>\n",
       "      <td>290,4</td>\n",
       "      <td>152,1</td>\n",
       "    </tr>\n",
       "    <tr>\n",
       "      <th>Coastline (coast/area ratio)</th>\n",
       "      <td>0,00</td>\n",
       "      <td>1,26</td>\n",
       "      <td>0,04</td>\n",
       "      <td>58,29</td>\n",
       "      <td>0,00</td>\n",
       "    </tr>\n",
       "    <tr>\n",
       "      <th>Net migration</th>\n",
       "      <td>23,06</td>\n",
       "      <td>-4,93</td>\n",
       "      <td>-0,39</td>\n",
       "      <td>-20,71</td>\n",
       "      <td>6,6</td>\n",
       "    </tr>\n",
       "    <tr>\n",
       "      <th>Infant mortality (per 1000 births)</th>\n",
       "      <td>163,07</td>\n",
       "      <td>21,52</td>\n",
       "      <td>31</td>\n",
       "      <td>9,27</td>\n",
       "      <td>4,05</td>\n",
       "    </tr>\n",
       "    <tr>\n",
       "      <th>GDP ($ per capita)</th>\n",
       "      <td>700</td>\n",
       "      <td>4500</td>\n",
       "      <td>6000</td>\n",
       "      <td>8000</td>\n",
       "      <td>19000</td>\n",
       "    </tr>\n",
       "    <tr>\n",
       "      <th>Literacy (%)</th>\n",
       "      <td>36,0</td>\n",
       "      <td>86,5</td>\n",
       "      <td>70,0</td>\n",
       "      <td>97,0</td>\n",
       "      <td>100,0</td>\n",
       "    </tr>\n",
       "    <tr>\n",
       "      <th>Phones (per 1000)</th>\n",
       "      <td>3,2</td>\n",
       "      <td>71,2</td>\n",
       "      <td>78,1</td>\n",
       "      <td>259,5</td>\n",
       "      <td>497,2</td>\n",
       "    </tr>\n",
       "    <tr>\n",
       "      <th>Arable (%)</th>\n",
       "      <td>12,13</td>\n",
       "      <td>21,09</td>\n",
       "      <td>3,22</td>\n",
       "      <td>10</td>\n",
       "      <td>2,22</td>\n",
       "    </tr>\n",
       "    <tr>\n",
       "      <th>Crops (%)</th>\n",
       "      <td>0,22</td>\n",
       "      <td>4,42</td>\n",
       "      <td>0,25</td>\n",
       "      <td>15</td>\n",
       "      <td>0</td>\n",
       "    </tr>\n",
       "    <tr>\n",
       "      <th>Other (%)</th>\n",
       "      <td>87,65</td>\n",
       "      <td>74,49</td>\n",
       "      <td>96,53</td>\n",
       "      <td>75</td>\n",
       "      <td>97,78</td>\n",
       "    </tr>\n",
       "    <tr>\n",
       "      <th>Climate</th>\n",
       "      <td>1</td>\n",
       "      <td>3</td>\n",
       "      <td>1</td>\n",
       "      <td>2</td>\n",
       "      <td>3</td>\n",
       "    </tr>\n",
       "    <tr>\n",
       "      <th>Birthrate</th>\n",
       "      <td>46,6</td>\n",
       "      <td>15,11</td>\n",
       "      <td>17,14</td>\n",
       "      <td>22,46</td>\n",
       "      <td>8,71</td>\n",
       "    </tr>\n",
       "    <tr>\n",
       "      <th>Deathrate</th>\n",
       "      <td>20,34</td>\n",
       "      <td>5,22</td>\n",
       "      <td>4,61</td>\n",
       "      <td>3,27</td>\n",
       "      <td>6,25</td>\n",
       "    </tr>\n",
       "    <tr>\n",
       "      <th>Agriculture</th>\n",
       "      <td>0,38</td>\n",
       "      <td>0,232</td>\n",
       "      <td>0,101</td>\n",
       "      <td>NaN</td>\n",
       "      <td>NaN</td>\n",
       "    </tr>\n",
       "    <tr>\n",
       "      <th>Industry</th>\n",
       "      <td>0,24</td>\n",
       "      <td>0,188</td>\n",
       "      <td>0,6</td>\n",
       "      <td>NaN</td>\n",
       "      <td>NaN</td>\n",
       "    </tr>\n",
       "    <tr>\n",
       "      <th>Service</th>\n",
       "      <td>0,38</td>\n",
       "      <td>0,579</td>\n",
       "      <td>0,298</td>\n",
       "      <td>NaN</td>\n",
       "      <td>NaN</td>\n",
       "    </tr>\n",
       "  </tbody>\n",
       "</table>\n",
       "</div>"
      ],
      "text/plain": [
       "                                                                0  \\\n",
       "Country                                              Afghanistan    \n",
       "Region                              ASIA (EX. NEAR EAST)            \n",
       "Population                                               31056997   \n",
       "Area (sq. mi.)                                             647500   \n",
       "Pop. Density (per sq. mi.)                                   48,0   \n",
       "Coastline (coast/area ratio)                                 0,00   \n",
       "Net migration                                               23,06   \n",
       "Infant mortality (per 1000 births)                         163,07   \n",
       "GDP ($ per capita)                                            700   \n",
       "Literacy (%)                                                 36,0   \n",
       "Phones (per 1000)                                             3,2   \n",
       "Arable (%)                                                  12,13   \n",
       "Crops (%)                                                    0,22   \n",
       "Other (%)                                                   87,65   \n",
       "Climate                                                         1   \n",
       "Birthrate                                                    46,6   \n",
       "Deathrate                                                   20,34   \n",
       "Agriculture                                                  0,38   \n",
       "Industry                                                     0,24   \n",
       "Service                                                      0,38   \n",
       "\n",
       "                                                                      1  \\\n",
       "Country                                                        Albania    \n",
       "Region                              EASTERN EUROPE                        \n",
       "Population                                                      3581655   \n",
       "Area (sq. mi.)                                                    28748   \n",
       "Pop. Density (per sq. mi.)                                        124,6   \n",
       "Coastline (coast/area ratio)                                       1,26   \n",
       "Net migration                                                     -4,93   \n",
       "Infant mortality (per 1000 births)                                21,52   \n",
       "GDP ($ per capita)                                                 4500   \n",
       "Literacy (%)                                                       86,5   \n",
       "Phones (per 1000)                                                  71,2   \n",
       "Arable (%)                                                        21,09   \n",
       "Crops (%)                                                          4,42   \n",
       "Other (%)                                                         74,49   \n",
       "Climate                                                               3   \n",
       "Birthrate                                                         15,11   \n",
       "Deathrate                                                          5,22   \n",
       "Agriculture                                                       0,232   \n",
       "Industry                                                          0,188   \n",
       "Service                                                           0,579   \n",
       "\n",
       "                                                                      2  \\\n",
       "Country                                                        Algeria    \n",
       "Region                              NORTHERN AFRICA                       \n",
       "Population                                                     32930091   \n",
       "Area (sq. mi.)                                                  2381740   \n",
       "Pop. Density (per sq. mi.)                                         13,8   \n",
       "Coastline (coast/area ratio)                                       0,04   \n",
       "Net migration                                                     -0,39   \n",
       "Infant mortality (per 1000 births)                                   31   \n",
       "GDP ($ per capita)                                                 6000   \n",
       "Literacy (%)                                                       70,0   \n",
       "Phones (per 1000)                                                  78,1   \n",
       "Arable (%)                                                         3,22   \n",
       "Crops (%)                                                          0,25   \n",
       "Other (%)                                                         96,53   \n",
       "Climate                                                               1   \n",
       "Birthrate                                                         17,14   \n",
       "Deathrate                                                          4,61   \n",
       "Agriculture                                                       0,101   \n",
       "Industry                                                            0,6   \n",
       "Service                                                           0,298   \n",
       "\n",
       "                                                                      3  \\\n",
       "Country                                                 American Samoa    \n",
       "Region                              OCEANIA                               \n",
       "Population                                                        57794   \n",
       "Area (sq. mi.)                                                      199   \n",
       "Pop. Density (per sq. mi.)                                        290,4   \n",
       "Coastline (coast/area ratio)                                      58,29   \n",
       "Net migration                                                    -20,71   \n",
       "Infant mortality (per 1000 births)                                 9,27   \n",
       "GDP ($ per capita)                                                 8000   \n",
       "Literacy (%)                                                       97,0   \n",
       "Phones (per 1000)                                                 259,5   \n",
       "Arable (%)                                                           10   \n",
       "Crops (%)                                                            15   \n",
       "Other (%)                                                            75   \n",
       "Climate                                                               2   \n",
       "Birthrate                                                         22,46   \n",
       "Deathrate                                                          3,27   \n",
       "Agriculture                                                         NaN   \n",
       "Industry                                                            NaN   \n",
       "Service                                                             NaN   \n",
       "\n",
       "                                                                      4  \n",
       "Country                                                        Andorra   \n",
       "Region                              WESTERN EUROPE                       \n",
       "Population                                                        71201  \n",
       "Area (sq. mi.)                                                      468  \n",
       "Pop. Density (per sq. mi.)                                        152,1  \n",
       "Coastline (coast/area ratio)                                       0,00  \n",
       "Net migration                                                       6,6  \n",
       "Infant mortality (per 1000 births)                                 4,05  \n",
       "GDP ($ per capita)                                                19000  \n",
       "Literacy (%)                                                      100,0  \n",
       "Phones (per 1000)                                                 497,2  \n",
       "Arable (%)                                                         2,22  \n",
       "Crops (%)                                                             0  \n",
       "Other (%)                                                         97,78  \n",
       "Climate                                                               3  \n",
       "Birthrate                                                          8,71  \n",
       "Deathrate                                                          6,25  \n",
       "Agriculture                                                         NaN  \n",
       "Industry                                                            NaN  \n",
       "Service                                                             NaN  "
      ]
     },
     "execution_count": 3,
     "metadata": {},
     "output_type": "execute_result"
    }
   ],
   "source": [
    "# Load data from a CSV file\n",
    "df = pd.read_csv('./data/countries of the world.csv')\n",
    "df.head().T"
   ]
  },
  {
   "cell_type": "code",
   "execution_count": 4,
   "metadata": {},
   "outputs": [
    {
     "data": {
      "text/plain": [
       "(227, 20)"
      ]
     },
     "execution_count": 4,
     "metadata": {},
     "output_type": "execute_result"
    }
   ],
   "source": [
    "# Dataset size\n",
    "df.shape"
   ]
  },
  {
   "cell_type": "code",
   "execution_count": 8,
   "metadata": {},
   "outputs": [
    {
     "data": {
      "text/plain": [
       "Index(['Country', 'Region', 'Population', 'Area (sq. mi.)',\n",
       "       'Pop. Density (per sq. mi.)', 'Coastline (coast/area ratio)',\n",
       "       'Net migration', 'Infant mortality (per 1000 births)',\n",
       "       'GDP ($ per capita)', 'Literacy (%)', 'Phones (per 1000)', 'Arable (%)',\n",
       "       'Crops (%)', 'Other (%)', 'Climate', 'Birthrate', 'Deathrate',\n",
       "       'Agriculture', 'Industry', 'Service'],\n",
       "      dtype='object')"
      ]
     },
     "execution_count": 8,
     "metadata": {},
     "output_type": "execute_result"
    }
   ],
   "source": [
    "# Variables\n",
    "df.columns"
   ]
  },
  {
   "cell_type": "code",
   "execution_count": null,
   "metadata": {},
   "outputs": [],
   "source": []
  },
  {
   "cell_type": "code",
   "execution_count": null,
   "metadata": {},
   "outputs": [],
   "source": []
  },
  {
   "cell_type": "code",
   "execution_count": null,
   "metadata": {},
   "outputs": [],
   "source": []
  },
  {
   "cell_type": "code",
   "execution_count": null,
   "metadata": {},
   "outputs": [],
   "source": []
  },
  {
   "cell_type": "code",
   "execution_count": null,
   "metadata": {},
   "outputs": [],
   "source": []
  },
  {
   "cell_type": "code",
   "execution_count": null,
   "metadata": {},
   "outputs": [],
   "source": []
  },
  {
   "cell_type": "code",
   "execution_count": null,
   "metadata": {},
   "outputs": [],
   "source": []
  },
  {
   "cell_type": "code",
   "execution_count": null,
   "metadata": {},
   "outputs": [],
   "source": []
  },
  {
   "cell_type": "markdown",
   "metadata": {},
   "source": [
    "### Notes\n",
    "\n",
    "1. The dataset has 20 variables and 227 observations (one per each country)."
   ]
  },
  {
   "cell_type": "markdown",
   "metadata": {},
   "source": [
    "## Prepare Data"
   ]
  },
  {
   "cell_type": "code",
   "execution_count": null,
   "metadata": {},
   "outputs": [],
   "source": []
  },
  {
   "cell_type": "markdown",
   "metadata": {},
   "source": [
    "## Data Modeling??"
   ]
  },
  {
   "cell_type": "code",
   "execution_count": null,
   "metadata": {},
   "outputs": [],
   "source": []
  },
  {
   "cell_type": "markdown",
   "metadata": {},
   "source": [
    "## Evaluate the Result"
   ]
  },
  {
   "cell_type": "code",
   "execution_count": null,
   "metadata": {},
   "outputs": [],
   "source": []
  },
  {
   "cell_type": "markdown",
   "metadata": {},
   "source": [
    "## Deploy"
   ]
  },
  {
   "cell_type": "code",
   "execution_count": null,
   "metadata": {},
   "outputs": [],
   "source": []
  },
  {
   "cell_type": "code",
   "execution_count": null,
   "metadata": {},
   "outputs": [],
   "source": []
  },
  {
   "cell_type": "code",
   "execution_count": null,
   "metadata": {},
   "outputs": [],
   "source": []
  },
  {
   "cell_type": "code",
   "execution_count": null,
   "metadata": {},
   "outputs": [],
   "source": []
  }
 ],
 "metadata": {
  "kernelspec": {
   "display_name": "Python 3",
   "language": "python",
   "name": "python3"
  },
  "language_info": {
   "codemirror_mode": {
    "name": "ipython",
    "version": 3
   },
   "file_extension": ".py",
   "mimetype": "text/x-python",
   "name": "python",
   "nbconvert_exporter": "python",
   "pygments_lexer": "ipython3",
   "version": "3.7.1"
  }
 },
 "nbformat": 4,
 "nbformat_minor": 2
}
